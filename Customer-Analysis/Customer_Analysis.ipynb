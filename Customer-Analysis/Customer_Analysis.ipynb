{
 "cells": [
  {
   "cell_type": "markdown",
   "metadata": {},
   "source": [
    "# Import Modules"
   ]
  },
  {
   "cell_type": "code",
   "execution_count": 1,
   "metadata": {},
   "outputs": [],
   "source": [
    "import warnings\n",
    "warnings.filterwarnings('ignore')\n",
    "\n",
    "import nltk\n",
    "import pandas as pd\n",
    "import numpy as np \n",
    "import datetime as dt \n",
    "\n",
    "from sklearn.cluster import KMeans\n",
    "from sklearn.preprocessing import StandardScaler\n",
    "\n",
    "import matplotlib.pyplot as plt\n",
    "import seaborn as sns \n",
    "import plotly.express as px\n",
    "import plotly.graph_objects as go \n",
    "from mpl_toolkits.mplot3d import Axes3D\n",
    "from yellowbrick.cluster import KElbowVisualizer"
   ]
  },
  {
   "cell_type": "markdown",
   "metadata": {},
   "source": [
    "# Read the file"
   ]
  },
  {
   "cell_type": "code",
   "execution_count": 2,
   "metadata": {},
   "outputs": [
    {
     "data": {
      "text/html": [
       "<div>\n",
       "<style scoped>\n",
       "    .dataframe tbody tr th:only-of-type {\n",
       "        vertical-align: middle;\n",
       "    }\n",
       "\n",
       "    .dataframe tbody tr th {\n",
       "        vertical-align: top;\n",
       "    }\n",
       "\n",
       "    .dataframe thead th {\n",
       "        text-align: right;\n",
       "    }\n",
       "</style>\n",
       "<table border=\"1\" class=\"dataframe\">\n",
       "  <thead>\n",
       "    <tr style=\"text-align: right;\">\n",
       "      <th></th>\n",
       "      <th>InvoiceNo</th>\n",
       "      <th>StockCode</th>\n",
       "      <th>Description</th>\n",
       "      <th>Quantity</th>\n",
       "      <th>InvoiceDate</th>\n",
       "      <th>UnitPrice</th>\n",
       "      <th>CustomerID</th>\n",
       "      <th>Country</th>\n",
       "    </tr>\n",
       "  </thead>\n",
       "  <tbody>\n",
       "    <tr>\n",
       "      <th>0</th>\n",
       "      <td>536365</td>\n",
       "      <td>85123A</td>\n",
       "      <td>WHITE HANGING HEART T-LIGHT HOLDER</td>\n",
       "      <td>6</td>\n",
       "      <td>2010-12-01 08:26:00</td>\n",
       "      <td>2.55</td>\n",
       "      <td>17850</td>\n",
       "      <td>United Kingdom</td>\n",
       "    </tr>\n",
       "    <tr>\n",
       "      <th>1</th>\n",
       "      <td>536365</td>\n",
       "      <td>71053</td>\n",
       "      <td>WHITE METAL LANTERN</td>\n",
       "      <td>6</td>\n",
       "      <td>2010-12-01 08:26:00</td>\n",
       "      <td>3.39</td>\n",
       "      <td>17850</td>\n",
       "      <td>United Kingdom</td>\n",
       "    </tr>\n",
       "    <tr>\n",
       "      <th>2</th>\n",
       "      <td>536365</td>\n",
       "      <td>84406B</td>\n",
       "      <td>CREAM CUPID HEARTS COAT HANGER</td>\n",
       "      <td>8</td>\n",
       "      <td>2010-12-01 08:26:00</td>\n",
       "      <td>2.75</td>\n",
       "      <td>17850</td>\n",
       "      <td>United Kingdom</td>\n",
       "    </tr>\n",
       "    <tr>\n",
       "      <th>3</th>\n",
       "      <td>536365</td>\n",
       "      <td>84029G</td>\n",
       "      <td>KNITTED UNION FLAG HOT WATER BOTTLE</td>\n",
       "      <td>6</td>\n",
       "      <td>2010-12-01 08:26:00</td>\n",
       "      <td>3.39</td>\n",
       "      <td>17850</td>\n",
       "      <td>United Kingdom</td>\n",
       "    </tr>\n",
       "    <tr>\n",
       "      <th>4</th>\n",
       "      <td>536365</td>\n",
       "      <td>84029E</td>\n",
       "      <td>RED WOOLLY HOTTIE WHITE HEART.</td>\n",
       "      <td>6</td>\n",
       "      <td>2010-12-01 08:26:00</td>\n",
       "      <td>3.39</td>\n",
       "      <td>17850</td>\n",
       "      <td>United Kingdom</td>\n",
       "    </tr>\n",
       "    <tr>\n",
       "      <th>5</th>\n",
       "      <td>536365</td>\n",
       "      <td>22752</td>\n",
       "      <td>SET 7 BABUSHKA NESTING BOXES</td>\n",
       "      <td>2</td>\n",
       "      <td>2010-12-01 08:26:00</td>\n",
       "      <td>7.65</td>\n",
       "      <td>17850</td>\n",
       "      <td>United Kingdom</td>\n",
       "    </tr>\n",
       "    <tr>\n",
       "      <th>6</th>\n",
       "      <td>536365</td>\n",
       "      <td>21730</td>\n",
       "      <td>GLASS STAR FROSTED T-LIGHT HOLDER</td>\n",
       "      <td>6</td>\n",
       "      <td>2010-12-01 08:26:00</td>\n",
       "      <td>4.25</td>\n",
       "      <td>17850</td>\n",
       "      <td>United Kingdom</td>\n",
       "    </tr>\n",
       "    <tr>\n",
       "      <th>7</th>\n",
       "      <td>536366</td>\n",
       "      <td>22633</td>\n",
       "      <td>HAND WARMER UNION JACK</td>\n",
       "      <td>6</td>\n",
       "      <td>2010-12-01 08:28:00</td>\n",
       "      <td>1.85</td>\n",
       "      <td>17850</td>\n",
       "      <td>United Kingdom</td>\n",
       "    </tr>\n",
       "    <tr>\n",
       "      <th>8</th>\n",
       "      <td>536366</td>\n",
       "      <td>22632</td>\n",
       "      <td>HAND WARMER RED POLKA DOT</td>\n",
       "      <td>6</td>\n",
       "      <td>2010-12-01 08:28:00</td>\n",
       "      <td>1.85</td>\n",
       "      <td>17850</td>\n",
       "      <td>United Kingdom</td>\n",
       "    </tr>\n",
       "    <tr>\n",
       "      <th>9</th>\n",
       "      <td>536367</td>\n",
       "      <td>84879</td>\n",
       "      <td>ASSORTED COLOUR BIRD ORNAMENT</td>\n",
       "      <td>32</td>\n",
       "      <td>2010-12-01 08:34:00</td>\n",
       "      <td>1.69</td>\n",
       "      <td>13047</td>\n",
       "      <td>United Kingdom</td>\n",
       "    </tr>\n",
       "  </tbody>\n",
       "</table>\n",
       "</div>"
      ],
      "text/plain": [
       "  InvoiceNo StockCode                          Description  Quantity  \\\n",
       "0    536365    85123A   WHITE HANGING HEART T-LIGHT HOLDER         6   \n",
       "1    536365     71053                  WHITE METAL LANTERN         6   \n",
       "2    536365    84406B       CREAM CUPID HEARTS COAT HANGER         8   \n",
       "3    536365    84029G  KNITTED UNION FLAG HOT WATER BOTTLE         6   \n",
       "4    536365    84029E       RED WOOLLY HOTTIE WHITE HEART.         6   \n",
       "5    536365     22752         SET 7 BABUSHKA NESTING BOXES         2   \n",
       "6    536365     21730    GLASS STAR FROSTED T-LIGHT HOLDER         6   \n",
       "7    536366     22633               HAND WARMER UNION JACK         6   \n",
       "8    536366     22632            HAND WARMER RED POLKA DOT         6   \n",
       "9    536367     84879        ASSORTED COLOUR BIRD ORNAMENT        32   \n",
       "\n",
       "          InvoiceDate  UnitPrice CustomerID         Country  \n",
       "0 2010-12-01 08:26:00       2.55      17850  United Kingdom  \n",
       "1 2010-12-01 08:26:00       3.39      17850  United Kingdom  \n",
       "2 2010-12-01 08:26:00       2.75      17850  United Kingdom  \n",
       "3 2010-12-01 08:26:00       3.39      17850  United Kingdom  \n",
       "4 2010-12-01 08:26:00       3.39      17850  United Kingdom  \n",
       "5 2010-12-01 08:26:00       7.65      17850  United Kingdom  \n",
       "6 2010-12-01 08:26:00       4.25      17850  United Kingdom  \n",
       "7 2010-12-01 08:28:00       1.85      17850  United Kingdom  \n",
       "8 2010-12-01 08:28:00       1.85      17850  United Kingdom  \n",
       "9 2010-12-01 08:34:00       1.69      13047  United Kingdom  "
      ]
     },
     "metadata": {},
     "output_type": "display_data"
    },
    {
     "name": "stdout",
     "output_type": "stream",
     "text": [
      "541909\n"
     ]
    }
   ],
   "source": [
    "df = pd.read_csv('data.csv', header=0, encoding='unicode_escape',dtype={'CustomerID' : str}, parse_dates=['InvoiceDate'], infer_datetime_format=True)\n",
    "display(df.head(10))\n",
    "print(len(df))"
   ]
  },
  {
   "cell_type": "markdown",
   "metadata": {},
   "source": [
    "## Make a summary"
   ]
  },
  {
   "cell_type": "code",
   "execution_count": 3,
   "metadata": {},
   "outputs": [
    {
     "name": "stdout",
     "output_type": "stream",
     "text": [
      "Data shape: (541909, 8)\n"
     ]
    },
    {
     "data": {
      "text/html": [
       "<div>\n",
       "<style scoped>\n",
       "    .dataframe tbody tr th:only-of-type {\n",
       "        vertical-align: middle;\n",
       "    }\n",
       "\n",
       "    .dataframe tbody tr th {\n",
       "        vertical-align: top;\n",
       "    }\n",
       "\n",
       "    .dataframe thead th {\n",
       "        text-align: right;\n",
       "    }\n",
       "</style>\n",
       "<table border=\"1\" class=\"dataframe\">\n",
       "  <thead>\n",
       "    <tr style=\"text-align: right;\">\n",
       "      <th></th>\n",
       "      <th>Data Type</th>\n",
       "      <th>Missing</th>\n",
       "      <th>Percent Missing</th>\n",
       "      <th>Unique Values</th>\n",
       "      <th>min</th>\n",
       "      <th>max</th>\n",
       "      <th>Value-1</th>\n",
       "      <th>Value-2</th>\n",
       "      <th>Value-3</th>\n",
       "    </tr>\n",
       "  </thead>\n",
       "  <tbody>\n",
       "    <tr>\n",
       "      <th>InvoiceNo</th>\n",
       "      <td>object</td>\n",
       "      <td>0</td>\n",
       "      <td>0.000000</td>\n",
       "      <td>25900</td>\n",
       "      <td>NaN</td>\n",
       "      <td>NaN</td>\n",
       "      <td>536365</td>\n",
       "      <td>536365</td>\n",
       "      <td>536365</td>\n",
       "    </tr>\n",
       "    <tr>\n",
       "      <th>StockCode</th>\n",
       "      <td>object</td>\n",
       "      <td>0</td>\n",
       "      <td>0.000000</td>\n",
       "      <td>4070</td>\n",
       "      <td>NaN</td>\n",
       "      <td>NaN</td>\n",
       "      <td>85123A</td>\n",
       "      <td>71053</td>\n",
       "      <td>84406B</td>\n",
       "    </tr>\n",
       "    <tr>\n",
       "      <th>Description</th>\n",
       "      <td>object</td>\n",
       "      <td>1454</td>\n",
       "      <td>0.268311</td>\n",
       "      <td>4223</td>\n",
       "      <td>NaN</td>\n",
       "      <td>NaN</td>\n",
       "      <td>WHITE HANGING HEART T-LIGHT HOLDER</td>\n",
       "      <td>WHITE METAL LANTERN</td>\n",
       "      <td>CREAM CUPID HEARTS COAT HANGER</td>\n",
       "    </tr>\n",
       "    <tr>\n",
       "      <th>Quantity</th>\n",
       "      <td>int64</td>\n",
       "      <td>0</td>\n",
       "      <td>0.000000</td>\n",
       "      <td>722</td>\n",
       "      <td>-80995.0</td>\n",
       "      <td>80995.0</td>\n",
       "      <td>6</td>\n",
       "      <td>6</td>\n",
       "      <td>8</td>\n",
       "    </tr>\n",
       "    <tr>\n",
       "      <th>InvoiceDate</th>\n",
       "      <td>datetime64[ns]</td>\n",
       "      <td>0</td>\n",
       "      <td>0.000000</td>\n",
       "      <td>23260</td>\n",
       "      <td>2010-12-01 08:26:00</td>\n",
       "      <td>2011-12-09 12:50:00</td>\n",
       "      <td>2010-12-01 08:26:00</td>\n",
       "      <td>2010-12-01 08:26:00</td>\n",
       "      <td>2010-12-01 08:26:00</td>\n",
       "    </tr>\n",
       "    <tr>\n",
       "      <th>UnitPrice</th>\n",
       "      <td>float64</td>\n",
       "      <td>0</td>\n",
       "      <td>0.000000</td>\n",
       "      <td>1630</td>\n",
       "      <td>-11062.06</td>\n",
       "      <td>38970.0</td>\n",
       "      <td>2.55</td>\n",
       "      <td>3.39</td>\n",
       "      <td>2.75</td>\n",
       "    </tr>\n",
       "    <tr>\n",
       "      <th>CustomerID</th>\n",
       "      <td>object</td>\n",
       "      <td>135080</td>\n",
       "      <td>24.926694</td>\n",
       "      <td>4372</td>\n",
       "      <td>NaN</td>\n",
       "      <td>NaN</td>\n",
       "      <td>17850</td>\n",
       "      <td>17850</td>\n",
       "      <td>17850</td>\n",
       "    </tr>\n",
       "    <tr>\n",
       "      <th>Country</th>\n",
       "      <td>object</td>\n",
       "      <td>0</td>\n",
       "      <td>0.000000</td>\n",
       "      <td>38</td>\n",
       "      <td>NaN</td>\n",
       "      <td>NaN</td>\n",
       "      <td>United Kingdom</td>\n",
       "      <td>United Kingdom</td>\n",
       "      <td>United Kingdom</td>\n",
       "    </tr>\n",
       "  </tbody>\n",
       "</table>\n",
       "</div>"
      ],
      "text/plain": [
       "                  Data Type  Missing  Percent Missing  Unique Values  \\\n",
       "InvoiceNo            object        0         0.000000          25900   \n",
       "StockCode            object        0         0.000000           4070   \n",
       "Description          object     1454         0.268311           4223   \n",
       "Quantity              int64        0         0.000000            722   \n",
       "InvoiceDate  datetime64[ns]        0         0.000000          23260   \n",
       "UnitPrice           float64        0         0.000000           1630   \n",
       "CustomerID           object   135080        24.926694           4372   \n",
       "Country              object        0         0.000000             38   \n",
       "\n",
       "                             min                  max  \\\n",
       "InvoiceNo                    NaN                  NaN   \n",
       "StockCode                    NaN                  NaN   \n",
       "Description                  NaN                  NaN   \n",
       "Quantity                -80995.0              80995.0   \n",
       "InvoiceDate  2010-12-01 08:26:00  2011-12-09 12:50:00   \n",
       "UnitPrice              -11062.06              38970.0   \n",
       "CustomerID                   NaN                  NaN   \n",
       "Country                      NaN                  NaN   \n",
       "\n",
       "                                        Value-1              Value-2  \\\n",
       "InvoiceNo                                536365               536365   \n",
       "StockCode                                85123A                71053   \n",
       "Description  WHITE HANGING HEART T-LIGHT HOLDER  WHITE METAL LANTERN   \n",
       "Quantity                                      6                    6   \n",
       "InvoiceDate                 2010-12-01 08:26:00  2010-12-01 08:26:00   \n",
       "UnitPrice                                  2.55                 3.39   \n",
       "CustomerID                                17850                17850   \n",
       "Country                          United Kingdom       United Kingdom   \n",
       "\n",
       "                                    Value-3  \n",
       "InvoiceNo                            536365  \n",
       "StockCode                            84406B  \n",
       "Description  CREAM CUPID HEARTS COAT HANGER  \n",
       "Quantity                                  8  \n",
       "InvoiceDate             2010-12-01 08:26:00  \n",
       "UnitPrice                              2.75  \n",
       "CustomerID                            17850  \n",
       "Country                      United Kingdom  "
      ]
     },
     "metadata": {},
     "output_type": "display_data"
    },
    {
     "name": "stdout",
     "output_type": "stream",
     "text": [
      "          Products  Customers  Transactions\n",
      "Quantity      4070       4372         25900\n"
     ]
    }
   ],
   "source": [
    "\n",
    "def summary(df, num_rows=3):\n",
    "\n",
    "    \"\"\"\n",
    "    Generate a summary of the DataFrame.\n",
    "\n",
    "    Parameters:\n",
    "    - df: Dataframe\n",
    "    - num_rows: Number of rows to display\n",
    "\n",
    "    Returns:\n",
    "    - DataFrame containing summury\n",
    "    \"\"\"\n",
    "\n",
    "    #numeric_collumns = df.select_dtypes(include=['number']).columns\n",
    "\n",
    "    # Basic information\n",
    "    print(f'Data shape: {df.shape}')\n",
    "\n",
    "    # Data types, missing values, and unique values\n",
    "    data_info = pd.DataFrame({\n",
    "        'Data Type': df.dtypes,\n",
    "        'Missing': df.isnull().sum(),\n",
    "        'Percent Missing': df.isnull().mean() * 100,\n",
    "        'Unique Values': df.nunique()\n",
    "    })\n",
    "\n",
    "    # Descriptive statistics\n",
    "    desc_stats = df.describe(include='all').transpose()\n",
    "\n",
    "    #  # Extract n values for each row\n",
    "    row_values = pd.DataFrame()\n",
    "    for i in range(num_rows):\n",
    "        row_values[f'Value-{i + 1}'] = df.iloc[i]\n",
    "    \n",
    "    # Combine the information\n",
    "\n",
    "    summary_df = pd.concat([data_info, desc_stats[['min', 'max']], row_values], axis=1)\n",
    "   \n",
    "    return summary_df\n",
    "\n",
    "df_summary = summary(df)\n",
    "display(df_summary)\n",
    "\n",
    "# Quantity with missing values\n",
    "quantity = pd.DataFrame([{'Products' : len(df['StockCode'].value_counts()), \n",
    "                          'Customers' : (df['CustomerID'].nunique()),\n",
    "                          'Transactions' : len(df['InvoiceNo'].value_counts()),\n",
    "                          }],\n",
    "             columns=['Products', 'Customers', 'Transactions'], index=['Quantity']) # Names in columns should match\n",
    "print(quantity)"
   ]
  },
  {
   "cell_type": "markdown",
   "metadata": {},
   "source": [
    "## Census of the cancel orders and check for the existence of counterparts:\n",
    "## Till later...."
   ]
  },
  {
   "cell_type": "code",
   "execution_count": 4,
   "metadata": {},
   "outputs": [],
   "source": [
    "df_cleaned = df.copy(deep = True)\n",
    "df_cleaned['QuantityCanceled'] = 0\n",
    "\n",
    "entry_to_remove = [] ; doubtfull_entry = []\n",
    "\n",
    "for index, col in  df.iterrows():\n",
    "    if (col['Quantity'] > 0) or col['Description'] == 'Discount': continue        \n",
    "    df_test = df[(df['CustomerID'] == col['CustomerID']) &\n",
    "                         (df['StockCode']  == col['StockCode']) & \n",
    "                         (df['InvoiceDate'] < col['InvoiceDate']) & \n",
    "                         (df['Quantity']   > 0)].copy()\n",
    "    #_________________________________\n",
    "    # Identify Cancelation Without Counterpart:\n",
    "    if (df_test.shape[0] == 0): \n",
    "        doubtfull_entry.append(index)\n",
    "    #________________________________\n",
    "    # Identify Cancelation With a Single Counterpart:\n",
    "    elif (df_test.shape[0] == 1): \n",
    "        index_order = df_test.index[0]\n",
    "        df_cleaned.loc[index_order, 'QuantityCanceled'] = -col['Quantity'] # Assign - value to each row of a column\n",
    "        entry_to_remove.append(index)        \n",
    "    #______________________________________________________________\n",
    "    # Identify Cancelation With Multiple Counterparts:\n",
    "    elif (df_test.shape[0] > 1): \n",
    "        df_test.sort_index(axis=0 ,ascending=False, inplace = True)        \n",
    "        for ind, val in df_test.iterrows():\n",
    "            if val['Quantity'] < -col['Quantity']: continue\n",
    "            df_cleaned.loc[ind, 'QuantityCanceled'] = -col['Quantity']\n",
    "            entry_to_remove.append(index) \n",
    "            break           "
   ]
  },
  {
   "cell_type": "markdown",
   "metadata": {},
   "source": [
    "### Table analys (rename later)"
   ]
  },
  {
   "cell_type": "code",
   "execution_count": 5,
   "metadata": {},
   "outputs": [
    {
     "name": "stdout",
     "output_type": "stream",
     "text": [
      "InvoiceNo           0\n",
      "StockCode           0\n",
      "Description      1454\n",
      "Quantity            0\n",
      "InvoiceDate         0\n",
      "UnitPrice           0\n",
      "CustomerID     135080\n",
      "Country             0\n",
      "dtype: int64\n"
     ]
    },
    {
     "data": {
      "text/html": [
       "<div>\n",
       "<style scoped>\n",
       "    .dataframe tbody tr th:only-of-type {\n",
       "        vertical-align: middle;\n",
       "    }\n",
       "\n",
       "    .dataframe tbody tr th {\n",
       "        vertical-align: top;\n",
       "    }\n",
       "\n",
       "    .dataframe thead th {\n",
       "        text-align: right;\n",
       "    }\n",
       "</style>\n",
       "<table border=\"1\" class=\"dataframe\">\n",
       "  <thead>\n",
       "    <tr style=\"text-align: right;\">\n",
       "      <th></th>\n",
       "      <th>InvoiceNo</th>\n",
       "      <th>StockCode</th>\n",
       "      <th>Description</th>\n",
       "      <th>Quantity</th>\n",
       "      <th>InvoiceDate</th>\n",
       "      <th>UnitPrice</th>\n",
       "      <th>CustomerID</th>\n",
       "      <th>Country</th>\n",
       "    </tr>\n",
       "  </thead>\n",
       "  <tbody>\n",
       "    <tr>\n",
       "      <th>0</th>\n",
       "      <td>536365</td>\n",
       "      <td>85123A</td>\n",
       "      <td>WHITE HANGING HEART T-LIGHT HOLDER</td>\n",
       "      <td>6</td>\n",
       "      <td>2010-12-01 08:26:00</td>\n",
       "      <td>2.55</td>\n",
       "      <td>17850</td>\n",
       "      <td>United Kingdom</td>\n",
       "    </tr>\n",
       "    <tr>\n",
       "      <th>1</th>\n",
       "      <td>536365</td>\n",
       "      <td>71053</td>\n",
       "      <td>WHITE METAL LANTERN</td>\n",
       "      <td>6</td>\n",
       "      <td>2010-12-01 08:26:00</td>\n",
       "      <td>3.39</td>\n",
       "      <td>17850</td>\n",
       "      <td>United Kingdom</td>\n",
       "    </tr>\n",
       "    <tr>\n",
       "      <th>2</th>\n",
       "      <td>536365</td>\n",
       "      <td>84406B</td>\n",
       "      <td>CREAM CUPID HEARTS COAT HANGER</td>\n",
       "      <td>8</td>\n",
       "      <td>2010-12-01 08:26:00</td>\n",
       "      <td>2.75</td>\n",
       "      <td>17850</td>\n",
       "      <td>United Kingdom</td>\n",
       "    </tr>\n",
       "    <tr>\n",
       "      <th>3</th>\n",
       "      <td>536365</td>\n",
       "      <td>84029G</td>\n",
       "      <td>KNITTED UNION FLAG HOT WATER BOTTLE</td>\n",
       "      <td>6</td>\n",
       "      <td>2010-12-01 08:26:00</td>\n",
       "      <td>3.39</td>\n",
       "      <td>17850</td>\n",
       "      <td>United Kingdom</td>\n",
       "    </tr>\n",
       "    <tr>\n",
       "      <th>4</th>\n",
       "      <td>536365</td>\n",
       "      <td>84029E</td>\n",
       "      <td>RED WOOLLY HOTTIE WHITE HEART.</td>\n",
       "      <td>6</td>\n",
       "      <td>2010-12-01 08:26:00</td>\n",
       "      <td>3.39</td>\n",
       "      <td>17850</td>\n",
       "      <td>United Kingdom</td>\n",
       "    </tr>\n",
       "  </tbody>\n",
       "</table>\n",
       "</div>"
      ],
      "text/plain": [
       "  InvoiceNo StockCode                          Description  Quantity  \\\n",
       "0    536365    85123A   WHITE HANGING HEART T-LIGHT HOLDER         6   \n",
       "1    536365     71053                  WHITE METAL LANTERN         6   \n",
       "2    536365    84406B       CREAM CUPID HEARTS COAT HANGER         8   \n",
       "3    536365    84029G  KNITTED UNION FLAG HOT WATER BOTTLE         6   \n",
       "4    536365    84029E       RED WOOLLY HOTTIE WHITE HEART.         6   \n",
       "\n",
       "          InvoiceDate  UnitPrice CustomerID         Country  \n",
       "0 2010-12-01 08:26:00       2.55      17850  United Kingdom  \n",
       "1 2010-12-01 08:26:00       3.39      17850  United Kingdom  \n",
       "2 2010-12-01 08:26:00       2.75      17850  United Kingdom  \n",
       "3 2010-12-01 08:26:00       3.39      17850  United Kingdom  \n",
       "4 2010-12-01 08:26:00       3.39      17850  United Kingdom  "
      ]
     },
     "metadata": {},
     "output_type": "display_data"
    },
    {
     "data": {
      "text/html": [
       "<div>\n",
       "<style scoped>\n",
       "    .dataframe tbody tr th:only-of-type {\n",
       "        vertical-align: middle;\n",
       "    }\n",
       "\n",
       "    .dataframe tbody tr th {\n",
       "        vertical-align: top;\n",
       "    }\n",
       "\n",
       "    .dataframe thead th {\n",
       "        text-align: right;\n",
       "    }\n",
       "</style>\n",
       "<table border=\"1\" class=\"dataframe\">\n",
       "  <thead>\n",
       "    <tr style=\"text-align: right;\">\n",
       "      <th></th>\n",
       "      <th>InvoiceNo</th>\n",
       "      <th>StockCode</th>\n",
       "      <th>Description</th>\n",
       "      <th>Quantity</th>\n",
       "      <th>InvoiceDate</th>\n",
       "      <th>UnitPrice</th>\n",
       "      <th>CustomerID</th>\n",
       "      <th>Country</th>\n",
       "      <th>TotalPrice</th>\n",
       "    </tr>\n",
       "  </thead>\n",
       "  <tbody>\n",
       "    <tr>\n",
       "      <th>0</th>\n",
       "      <td>536365</td>\n",
       "      <td>85123A</td>\n",
       "      <td>WHITE HANGING HEART T-LIGHT HOLDER</td>\n",
       "      <td>6.0</td>\n",
       "      <td>2010-12-01 08:26:00</td>\n",
       "      <td>2.55</td>\n",
       "      <td>17850</td>\n",
       "      <td>United Kingdom</td>\n",
       "      <td>15.30</td>\n",
       "    </tr>\n",
       "    <tr>\n",
       "      <th>1</th>\n",
       "      <td>536365</td>\n",
       "      <td>71053</td>\n",
       "      <td>WHITE METAL LANTERN</td>\n",
       "      <td>6.0</td>\n",
       "      <td>2010-12-01 08:26:00</td>\n",
       "      <td>3.39</td>\n",
       "      <td>17850</td>\n",
       "      <td>United Kingdom</td>\n",
       "      <td>20.34</td>\n",
       "    </tr>\n",
       "    <tr>\n",
       "      <th>2</th>\n",
       "      <td>536365</td>\n",
       "      <td>84406B</td>\n",
       "      <td>CREAM CUPID HEARTS COAT HANGER</td>\n",
       "      <td>8.0</td>\n",
       "      <td>2010-12-01 08:26:00</td>\n",
       "      <td>2.75</td>\n",
       "      <td>17850</td>\n",
       "      <td>United Kingdom</td>\n",
       "      <td>22.00</td>\n",
       "    </tr>\n",
       "    <tr>\n",
       "      <th>3</th>\n",
       "      <td>536365</td>\n",
       "      <td>84029G</td>\n",
       "      <td>KNITTED UNION FLAG HOT WATER BOTTLE</td>\n",
       "      <td>6.0</td>\n",
       "      <td>2010-12-01 08:26:00</td>\n",
       "      <td>3.39</td>\n",
       "      <td>17850</td>\n",
       "      <td>United Kingdom</td>\n",
       "      <td>20.34</td>\n",
       "    </tr>\n",
       "    <tr>\n",
       "      <th>4</th>\n",
       "      <td>536365</td>\n",
       "      <td>84029E</td>\n",
       "      <td>RED WOOLLY HOTTIE WHITE HEART.</td>\n",
       "      <td>6.0</td>\n",
       "      <td>2010-12-01 08:26:00</td>\n",
       "      <td>3.39</td>\n",
       "      <td>17850</td>\n",
       "      <td>United Kingdom</td>\n",
       "      <td>20.34</td>\n",
       "    </tr>\n",
       "    <tr>\n",
       "      <th>...</th>\n",
       "      <td>...</td>\n",
       "      <td>...</td>\n",
       "      <td>...</td>\n",
       "      <td>...</td>\n",
       "      <td>...</td>\n",
       "      <td>...</td>\n",
       "      <td>...</td>\n",
       "      <td>...</td>\n",
       "      <td>...</td>\n",
       "    </tr>\n",
       "    <tr>\n",
       "      <th>541904</th>\n",
       "      <td>581587</td>\n",
       "      <td>22613</td>\n",
       "      <td>PACK OF 20 SPACEBOY NAPKINS</td>\n",
       "      <td>12.0</td>\n",
       "      <td>2011-12-09 12:50:00</td>\n",
       "      <td>0.85</td>\n",
       "      <td>12680</td>\n",
       "      <td>France</td>\n",
       "      <td>10.20</td>\n",
       "    </tr>\n",
       "    <tr>\n",
       "      <th>541905</th>\n",
       "      <td>581587</td>\n",
       "      <td>22899</td>\n",
       "      <td>CHILDREN'S APRON DOLLY GIRL</td>\n",
       "      <td>6.0</td>\n",
       "      <td>2011-12-09 12:50:00</td>\n",
       "      <td>2.10</td>\n",
       "      <td>12680</td>\n",
       "      <td>France</td>\n",
       "      <td>12.60</td>\n",
       "    </tr>\n",
       "    <tr>\n",
       "      <th>541906</th>\n",
       "      <td>581587</td>\n",
       "      <td>23254</td>\n",
       "      <td>CHILDRENS CUTLERY DOLLY GIRL</td>\n",
       "      <td>4.0</td>\n",
       "      <td>2011-12-09 12:50:00</td>\n",
       "      <td>4.15</td>\n",
       "      <td>12680</td>\n",
       "      <td>France</td>\n",
       "      <td>16.60</td>\n",
       "    </tr>\n",
       "    <tr>\n",
       "      <th>541907</th>\n",
       "      <td>581587</td>\n",
       "      <td>23255</td>\n",
       "      <td>CHILDRENS CUTLERY CIRCUS PARADE</td>\n",
       "      <td>4.0</td>\n",
       "      <td>2011-12-09 12:50:00</td>\n",
       "      <td>4.15</td>\n",
       "      <td>12680</td>\n",
       "      <td>France</td>\n",
       "      <td>16.60</td>\n",
       "    </tr>\n",
       "    <tr>\n",
       "      <th>541908</th>\n",
       "      <td>581587</td>\n",
       "      <td>22138</td>\n",
       "      <td>BAKING SET 9 PIECE RETROSPOT</td>\n",
       "      <td>3.0</td>\n",
       "      <td>2011-12-09 12:50:00</td>\n",
       "      <td>4.95</td>\n",
       "      <td>12680</td>\n",
       "      <td>France</td>\n",
       "      <td>14.85</td>\n",
       "    </tr>\n",
       "  </tbody>\n",
       "</table>\n",
       "<p>397924 rows × 9 columns</p>\n",
       "</div>"
      ],
      "text/plain": [
       "       InvoiceNo StockCode                          Description  Quantity  \\\n",
       "0         536365    85123A   WHITE HANGING HEART T-LIGHT HOLDER       6.0   \n",
       "1         536365     71053                  WHITE METAL LANTERN       6.0   \n",
       "2         536365    84406B       CREAM CUPID HEARTS COAT HANGER       8.0   \n",
       "3         536365    84029G  KNITTED UNION FLAG HOT WATER BOTTLE       6.0   \n",
       "4         536365    84029E       RED WOOLLY HOTTIE WHITE HEART.       6.0   \n",
       "...          ...       ...                                  ...       ...   \n",
       "541904    581587     22613          PACK OF 20 SPACEBOY NAPKINS      12.0   \n",
       "541905    581587     22899         CHILDREN'S APRON DOLLY GIRL        6.0   \n",
       "541906    581587     23254        CHILDRENS CUTLERY DOLLY GIRL        4.0   \n",
       "541907    581587     23255      CHILDRENS CUTLERY CIRCUS PARADE       4.0   \n",
       "541908    581587     22138        BAKING SET 9 PIECE RETROSPOT        3.0   \n",
       "\n",
       "               InvoiceDate  UnitPrice CustomerID         Country  TotalPrice  \n",
       "0      2010-12-01 08:26:00       2.55      17850  United Kingdom       15.30  \n",
       "1      2010-12-01 08:26:00       3.39      17850  United Kingdom       20.34  \n",
       "2      2010-12-01 08:26:00       2.75      17850  United Kingdom       22.00  \n",
       "3      2010-12-01 08:26:00       3.39      17850  United Kingdom       20.34  \n",
       "4      2010-12-01 08:26:00       3.39      17850  United Kingdom       20.34  \n",
       "...                    ...        ...        ...             ...         ...  \n",
       "541904 2011-12-09 12:50:00       0.85      12680          France       10.20  \n",
       "541905 2011-12-09 12:50:00       2.10      12680          France       12.60  \n",
       "541906 2011-12-09 12:50:00       4.15      12680          France       16.60  \n",
       "541907 2011-12-09 12:50:00       4.15      12680          France       16.60  \n",
       "541908 2011-12-09 12:50:00       4.95      12680          France       14.85  \n",
       "\n",
       "[397924 rows x 9 columns]"
      ]
     },
     "metadata": {},
     "output_type": "display_data"
    }
   ],
   "source": [
    "def replace_with_tresholds(Dataframe, variable, q1 = 0.25, q3 = 0.75):\n",
    "    df_copy = Dataframe.copy()\n",
    "    quartile1, quartile3 = df_copy[variable].quantile([q1, q3])\n",
    "    iqr = quartile3 - quartile1\n",
    "\n",
    "    lower_limit = quartile3 + 1.5 * iqr\n",
    "    upper_limit = quartile3 - 1.5 * iqr\n",
    "\n",
    "    df_copy[variable] = df_copy[variable].clip(lower=lower_limit, upper=upper_limit )\n",
    "\n",
    "    return df_copy\n",
    "\n",
    "def preprocess(DataFrame):\n",
    "    df = DataFrame.copy()\n",
    "\n",
    "    # Missing values\n",
    "    print(df.isnull().sum())\n",
    "\n",
    "    # Remove missing values\n",
    "    df = df.dropna()\n",
    "\n",
    "    # Cancelled Orders & Quantity\n",
    "    display(df[~df['InvoiceNo'].str.contains('C', na=False)].head(5))\n",
    "    df = df[~df['InvoiceNo'].str.contains('C', na=False)]\n",
    "\n",
    "    df = df[df['Quantity'] > 0]\n",
    "\n",
    "    # Replacing Outliers\n",
    "    variables_for_process = ['Quantity', 'UnitPrice']\n",
    "    for variable in variables_for_process:\n",
    "        df = replace_with_tresholds(df, variable, q1=0.01, q3=0.99)\n",
    "\n",
    "    # Total Price\n",
    "    df['TotalPrice'] = df['Quantity'] * df['UnitPrice'] # New column\n",
    "    \n",
    "    return df\n",
    "\n",
    "df_preprocessed = preprocess(df)\n",
    "display(df_preprocessed)\n"
   ]
  },
  {
   "cell_type": "markdown",
   "metadata": {},
   "source": [
    "## EDA"
   ]
  },
  {
   "cell_type": "markdown",
   "metadata": {},
   "source": [
    "## Highest"
   ]
  },
  {
   "cell_type": "code",
   "execution_count": 6,
   "metadata": {},
   "outputs": [
    {
     "name": "stdout",
     "output_type": "stream",
     "text": [
      "     Country  TotalPrice\n",
      "0  Australia   133750.01\n",
      "1    Austria    10095.78\n",
      "2    Bahrain      548.40\n",
      "3    Belgium    41193.45\n",
      "4     Brazil     1143.60\n",
      "           Country   TotalPrice\n",
      "35  United Kingdom  6680094.499\n",
      "23     Netherlands   271400.955\n",
      "10            EIRE   259055.530\n",
      "14         Germany   225722.770\n",
      "13          France   197386.075\n",
      "0        Australia   133750.010\n",
      "30           Spain    60393.425\n",
      "32     Switzerland    56149.950\n",
      "3          Belgium    41193.450\n",
      "31          Sweden    35345.705\n"
     ]
    },
    {
     "data": {
      "application/vnd.plotly.v1+json": {
       "config": {
        "plotlyServerURL": "https://plot.ly"
       },
       "data": [
        {
         "marker": {
          "color": [
           6680094.499,
           271400.955,
           259055.53,
           225722.77,
           197386.075,
           133750.01,
           60393.425,
           56149.95,
           41193.45,
           35345.705
          ]
         },
         "textposition": "outside",
         "texttemplate": "£%{y:.3s}",
         "type": "bar",
         "x": [
          "United Kingdom",
          "Netherlands",
          "EIRE",
          "Germany",
          "France",
          "Australia",
          "Spain",
          "Switzerland",
          "Belgium",
          "Sweden"
         ],
         "y": [
          6680094.499,
          271400.955,
          259055.53,
          225722.77,
          197386.075,
          133750.01,
          60393.425,
          56149.95,
          41193.45,
          35345.705
         ]
        }
       ],
       "layout": {
        "bargap": 0.2,
        "barmode": "relative",
        "height": 700,
        "plot_bgcolor": "white",
        "showlegend": false,
        "template": {
         "data": {
          "bar": [
           {
            "error_x": {
             "color": "#2a3f5f"
            },
            "error_y": {
             "color": "#2a3f5f"
            },
            "marker": {
             "line": {
              "color": "#E5ECF6",
              "width": 0.5
             },
             "pattern": {
              "fillmode": "overlay",
              "size": 10,
              "solidity": 0.2
             }
            },
            "type": "bar"
           }
          ],
          "barpolar": [
           {
            "marker": {
             "line": {
              "color": "#E5ECF6",
              "width": 0.5
             },
             "pattern": {
              "fillmode": "overlay",
              "size": 10,
              "solidity": 0.2
             }
            },
            "type": "barpolar"
           }
          ],
          "carpet": [
           {
            "aaxis": {
             "endlinecolor": "#2a3f5f",
             "gridcolor": "white",
             "linecolor": "white",
             "minorgridcolor": "white",
             "startlinecolor": "#2a3f5f"
            },
            "baxis": {
             "endlinecolor": "#2a3f5f",
             "gridcolor": "white",
             "linecolor": "white",
             "minorgridcolor": "white",
             "startlinecolor": "#2a3f5f"
            },
            "type": "carpet"
           }
          ],
          "choropleth": [
           {
            "colorbar": {
             "outlinewidth": 0,
             "ticks": ""
            },
            "type": "choropleth"
           }
          ],
          "contour": [
           {
            "colorbar": {
             "outlinewidth": 0,
             "ticks": ""
            },
            "colorscale": [
             [
              0,
              "#0d0887"
             ],
             [
              0.1111111111111111,
              "#46039f"
             ],
             [
              0.2222222222222222,
              "#7201a8"
             ],
             [
              0.3333333333333333,
              "#9c179e"
             ],
             [
              0.4444444444444444,
              "#bd3786"
             ],
             [
              0.5555555555555556,
              "#d8576b"
             ],
             [
              0.6666666666666666,
              "#ed7953"
             ],
             [
              0.7777777777777778,
              "#fb9f3a"
             ],
             [
              0.8888888888888888,
              "#fdca26"
             ],
             [
              1,
              "#f0f921"
             ]
            ],
            "type": "contour"
           }
          ],
          "contourcarpet": [
           {
            "colorbar": {
             "outlinewidth": 0,
             "ticks": ""
            },
            "type": "contourcarpet"
           }
          ],
          "heatmap": [
           {
            "colorbar": {
             "outlinewidth": 0,
             "ticks": ""
            },
            "colorscale": [
             [
              0,
              "#0d0887"
             ],
             [
              0.1111111111111111,
              "#46039f"
             ],
             [
              0.2222222222222222,
              "#7201a8"
             ],
             [
              0.3333333333333333,
              "#9c179e"
             ],
             [
              0.4444444444444444,
              "#bd3786"
             ],
             [
              0.5555555555555556,
              "#d8576b"
             ],
             [
              0.6666666666666666,
              "#ed7953"
             ],
             [
              0.7777777777777778,
              "#fb9f3a"
             ],
             [
              0.8888888888888888,
              "#fdca26"
             ],
             [
              1,
              "#f0f921"
             ]
            ],
            "type": "heatmap"
           }
          ],
          "heatmapgl": [
           {
            "colorbar": {
             "outlinewidth": 0,
             "ticks": ""
            },
            "colorscale": [
             [
              0,
              "#0d0887"
             ],
             [
              0.1111111111111111,
              "#46039f"
             ],
             [
              0.2222222222222222,
              "#7201a8"
             ],
             [
              0.3333333333333333,
              "#9c179e"
             ],
             [
              0.4444444444444444,
              "#bd3786"
             ],
             [
              0.5555555555555556,
              "#d8576b"
             ],
             [
              0.6666666666666666,
              "#ed7953"
             ],
             [
              0.7777777777777778,
              "#fb9f3a"
             ],
             [
              0.8888888888888888,
              "#fdca26"
             ],
             [
              1,
              "#f0f921"
             ]
            ],
            "type": "heatmapgl"
           }
          ],
          "histogram": [
           {
            "marker": {
             "pattern": {
              "fillmode": "overlay",
              "size": 10,
              "solidity": 0.2
             }
            },
            "type": "histogram"
           }
          ],
          "histogram2d": [
           {
            "colorbar": {
             "outlinewidth": 0,
             "ticks": ""
            },
            "colorscale": [
             [
              0,
              "#0d0887"
             ],
             [
              0.1111111111111111,
              "#46039f"
             ],
             [
              0.2222222222222222,
              "#7201a8"
             ],
             [
              0.3333333333333333,
              "#9c179e"
             ],
             [
              0.4444444444444444,
              "#bd3786"
             ],
             [
              0.5555555555555556,
              "#d8576b"
             ],
             [
              0.6666666666666666,
              "#ed7953"
             ],
             [
              0.7777777777777778,
              "#fb9f3a"
             ],
             [
              0.8888888888888888,
              "#fdca26"
             ],
             [
              1,
              "#f0f921"
             ]
            ],
            "type": "histogram2d"
           }
          ],
          "histogram2dcontour": [
           {
            "colorbar": {
             "outlinewidth": 0,
             "ticks": ""
            },
            "colorscale": [
             [
              0,
              "#0d0887"
             ],
             [
              0.1111111111111111,
              "#46039f"
             ],
             [
              0.2222222222222222,
              "#7201a8"
             ],
             [
              0.3333333333333333,
              "#9c179e"
             ],
             [
              0.4444444444444444,
              "#bd3786"
             ],
             [
              0.5555555555555556,
              "#d8576b"
             ],
             [
              0.6666666666666666,
              "#ed7953"
             ],
             [
              0.7777777777777778,
              "#fb9f3a"
             ],
             [
              0.8888888888888888,
              "#fdca26"
             ],
             [
              1,
              "#f0f921"
             ]
            ],
            "type": "histogram2dcontour"
           }
          ],
          "mesh3d": [
           {
            "colorbar": {
             "outlinewidth": 0,
             "ticks": ""
            },
            "type": "mesh3d"
           }
          ],
          "parcoords": [
           {
            "line": {
             "colorbar": {
              "outlinewidth": 0,
              "ticks": ""
             }
            },
            "type": "parcoords"
           }
          ],
          "pie": [
           {
            "automargin": true,
            "type": "pie"
           }
          ],
          "scatter": [
           {
            "fillpattern": {
             "fillmode": "overlay",
             "size": 10,
             "solidity": 0.2
            },
            "type": "scatter"
           }
          ],
          "scatter3d": [
           {
            "line": {
             "colorbar": {
              "outlinewidth": 0,
              "ticks": ""
             }
            },
            "marker": {
             "colorbar": {
              "outlinewidth": 0,
              "ticks": ""
             }
            },
            "type": "scatter3d"
           }
          ],
          "scattercarpet": [
           {
            "marker": {
             "colorbar": {
              "outlinewidth": 0,
              "ticks": ""
             }
            },
            "type": "scattercarpet"
           }
          ],
          "scattergeo": [
           {
            "marker": {
             "colorbar": {
              "outlinewidth": 0,
              "ticks": ""
             }
            },
            "type": "scattergeo"
           }
          ],
          "scattergl": [
           {
            "marker": {
             "colorbar": {
              "outlinewidth": 0,
              "ticks": ""
             }
            },
            "type": "scattergl"
           }
          ],
          "scattermapbox": [
           {
            "marker": {
             "colorbar": {
              "outlinewidth": 0,
              "ticks": ""
             }
            },
            "type": "scattermapbox"
           }
          ],
          "scatterpolar": [
           {
            "marker": {
             "colorbar": {
              "outlinewidth": 0,
              "ticks": ""
             }
            },
            "type": "scatterpolar"
           }
          ],
          "scatterpolargl": [
           {
            "marker": {
             "colorbar": {
              "outlinewidth": 0,
              "ticks": ""
             }
            },
            "type": "scatterpolargl"
           }
          ],
          "scatterternary": [
           {
            "marker": {
             "colorbar": {
              "outlinewidth": 0,
              "ticks": ""
             }
            },
            "type": "scatterternary"
           }
          ],
          "surface": [
           {
            "colorbar": {
             "outlinewidth": 0,
             "ticks": ""
            },
            "colorscale": [
             [
              0,
              "#0d0887"
             ],
             [
              0.1111111111111111,
              "#46039f"
             ],
             [
              0.2222222222222222,
              "#7201a8"
             ],
             [
              0.3333333333333333,
              "#9c179e"
             ],
             [
              0.4444444444444444,
              "#bd3786"
             ],
             [
              0.5555555555555556,
              "#d8576b"
             ],
             [
              0.6666666666666666,
              "#ed7953"
             ],
             [
              0.7777777777777778,
              "#fb9f3a"
             ],
             [
              0.8888888888888888,
              "#fdca26"
             ],
             [
              1,
              "#f0f921"
             ]
            ],
            "type": "surface"
           }
          ],
          "table": [
           {
            "cells": {
             "fill": {
              "color": "#EBF0F8"
             },
             "line": {
              "color": "white"
             }
            },
            "header": {
             "fill": {
              "color": "#C8D4E3"
             },
             "line": {
              "color": "white"
             }
            },
            "type": "table"
           }
          ]
         },
         "layout": {
          "annotationdefaults": {
           "arrowcolor": "#2a3f5f",
           "arrowhead": 0,
           "arrowwidth": 1
          },
          "autotypenumbers": "strict",
          "coloraxis": {
           "colorbar": {
            "outlinewidth": 0,
            "ticks": ""
           }
          },
          "colorscale": {
           "diverging": [
            [
             0,
             "#8e0152"
            ],
            [
             0.1,
             "#c51b7d"
            ],
            [
             0.2,
             "#de77ae"
            ],
            [
             0.3,
             "#f1b6da"
            ],
            [
             0.4,
             "#fde0ef"
            ],
            [
             0.5,
             "#f7f7f7"
            ],
            [
             0.6,
             "#e6f5d0"
            ],
            [
             0.7,
             "#b8e186"
            ],
            [
             0.8,
             "#7fbc41"
            ],
            [
             0.9,
             "#4d9221"
            ],
            [
             1,
             "#276419"
            ]
           ],
           "sequential": [
            [
             0,
             "#0d0887"
            ],
            [
             0.1111111111111111,
             "#46039f"
            ],
            [
             0.2222222222222222,
             "#7201a8"
            ],
            [
             0.3333333333333333,
             "#9c179e"
            ],
            [
             0.4444444444444444,
             "#bd3786"
            ],
            [
             0.5555555555555556,
             "#d8576b"
            ],
            [
             0.6666666666666666,
             "#ed7953"
            ],
            [
             0.7777777777777778,
             "#fb9f3a"
            ],
            [
             0.8888888888888888,
             "#fdca26"
            ],
            [
             1,
             "#f0f921"
            ]
           ],
           "sequentialminus": [
            [
             0,
             "#0d0887"
            ],
            [
             0.1111111111111111,
             "#46039f"
            ],
            [
             0.2222222222222222,
             "#7201a8"
            ],
            [
             0.3333333333333333,
             "#9c179e"
            ],
            [
             0.4444444444444444,
             "#bd3786"
            ],
            [
             0.5555555555555556,
             "#d8576b"
            ],
            [
             0.6666666666666666,
             "#ed7953"
            ],
            [
             0.7777777777777778,
             "#fb9f3a"
            ],
            [
             0.8888888888888888,
             "#fdca26"
            ],
            [
             1,
             "#f0f921"
            ]
           ]
          },
          "colorway": [
           "#636efa",
           "#EF553B",
           "#00cc96",
           "#ab63fa",
           "#FFA15A",
           "#19d3f3",
           "#FF6692",
           "#B6E880",
           "#FF97FF",
           "#FECB52"
          ],
          "font": {
           "color": "#2a3f5f"
          },
          "geo": {
           "bgcolor": "white",
           "lakecolor": "white",
           "landcolor": "#E5ECF6",
           "showlakes": true,
           "showland": true,
           "subunitcolor": "white"
          },
          "hoverlabel": {
           "align": "left"
          },
          "hovermode": "closest",
          "mapbox": {
           "style": "light"
          },
          "paper_bgcolor": "white",
          "plot_bgcolor": "#E5ECF6",
          "polar": {
           "angularaxis": {
            "gridcolor": "white",
            "linecolor": "white",
            "ticks": ""
           },
           "bgcolor": "#E5ECF6",
           "radialaxis": {
            "gridcolor": "white",
            "linecolor": "white",
            "ticks": ""
           }
          },
          "scene": {
           "xaxis": {
            "backgroundcolor": "#E5ECF6",
            "gridcolor": "white",
            "gridwidth": 2,
            "linecolor": "white",
            "showbackground": true,
            "ticks": "",
            "zerolinecolor": "white"
           },
           "yaxis": {
            "backgroundcolor": "#E5ECF6",
            "gridcolor": "white",
            "gridwidth": 2,
            "linecolor": "white",
            "showbackground": true,
            "ticks": "",
            "zerolinecolor": "white"
           },
           "zaxis": {
            "backgroundcolor": "#E5ECF6",
            "gridcolor": "white",
            "gridwidth": 2,
            "linecolor": "white",
            "showbackground": true,
            "ticks": "",
            "zerolinecolor": "white"
           }
          },
          "shapedefaults": {
           "line": {
            "color": "#2a3f5f"
           }
          },
          "ternary": {
           "aaxis": {
            "gridcolor": "white",
            "linecolor": "white",
            "ticks": ""
           },
           "baxis": {
            "gridcolor": "white",
            "linecolor": "white",
            "ticks": ""
           },
           "bgcolor": "#E5ECF6",
           "caxis": {
            "gridcolor": "white",
            "linecolor": "white",
            "ticks": ""
           }
          },
          "title": {
           "x": 0.05
          },
          "xaxis": {
           "automargin": true,
           "gridcolor": "white",
           "linecolor": "white",
           "ticks": "",
           "title": {
            "standoff": 15
           },
           "zerolinecolor": "white",
           "zerolinewidth": 2
          },
          "yaxis": {
           "automargin": true,
           "gridcolor": "white",
           "linecolor": "white",
           "ticks": "",
           "title": {
            "standoff": 15
           },
           "zerolinecolor": "white",
           "zerolinewidth": 2
          }
         }
        },
        "title": {
         "text": "Countries With Highest Purchase History",
         "x": 0.5
        },
        "width": 800,
        "xaxis": {
         "title": {
          "text": "Countries"
         }
        },
        "yaxis": {
         "title": {
          "text": "Total Amount"
         }
        }
       }
      }
     },
     "metadata": {},
     "output_type": "display_data"
    }
   ],
   "source": [
    "purchase = df_preprocessed.groupby(['Country'], as_index=False)['TotalPrice'].agg('sum')\n",
    "print(purchase.head(5))\n",
    "\n",
    "top_purchased_countries = purchase.sort_values('TotalPrice', ascending=False).head(10)\n",
    "print((top_purchased_countries))\n",
    "\n",
    "fig = go.Figure(data=[go.Bar(x=top_purchased_countries['Country'].astype(str),\n",
    "                             y=top_purchased_countries['TotalPrice'], \n",
    "                             marker={'color' : top_purchased_countries['TotalPrice']},\n",
    "                             texttemplate='£%{y:.3s}',\n",
    "                             textposition='outside'\n",
    "                             )])\n",
    "\n",
    "fig.update_layout(\n",
    "    title='Countries With Highest Purchase History',\n",
    "    title_x=0.5,\n",
    "    xaxis_title='Countries',\n",
    "    yaxis_title='Total Amount',\n",
    "    plot_bgcolor='white',\n",
    "    barmode='relative', # 'relative for stacked bars\n",
    "    bargap=0.20, # Gap between bars\n",
    "    showlegend=False,\n",
    "    width=800,\n",
    "    height=700,\n",
    ")\n",
    "\n",
    "fig.show()"
   ]
  },
  {
   "cell_type": "markdown",
   "metadata": {},
   "source": [
    "## Lowest"
   ]
  },
  {
   "cell_type": "code",
   "execution_count": 7,
   "metadata": {},
   "outputs": [
    {
     "name": "stdout",
     "output_type": "stream",
     "text": [
      "                 Country  TotalPrice\n",
      "28          Saudi Arabia      145.92\n",
      "2                Bahrain      548.40\n",
      "8         Czech Republic      823.80\n",
      "27                   RSA     1002.31\n",
      "4                 Brazil     1143.60\n",
      "11    European Community     1300.25\n",
      "21             Lithuania     1661.06\n",
      "20               Lebanon     1693.88\n",
      "34  United Arab Emirates     1901.84\n",
      "22                 Malta     2515.31\n"
     ]
    },
    {
     "data": {
      "application/vnd.plotly.v1+json": {
       "config": {
        "plotlyServerURL": "https://plot.ly"
       },
       "data": [
        {
         "marker": {
          "color": [
           145.92,
           548.4,
           823.8,
           1002.3100000000001,
           1143.6,
           1300.25,
           1661.06,
           1693.88,
           1901.84,
           2515.31
          ]
         },
         "textposition": "outside",
         "texttemplate": "£%{y:.3s}",
         "type": "bar",
         "x": [
          "Saudi Arabia",
          "Bahrain",
          "Czech Republic",
          "RSA",
          "Brazil",
          "European Community",
          "Lithuania",
          "Lebanon",
          "United Arab Emirates",
          "Malta"
         ],
         "y": [
          145.92,
          548.4,
          823.8,
          1002.3100000000001,
          1143.6,
          1300.25,
          1661.06,
          1693.88,
          1901.84,
          2515.31
         ]
        }
       ],
       "layout": {
        "bargap": 0.2,
        "barmode": "relative",
        "height": 700,
        "plot_bgcolor": "white",
        "showlegend": false,
        "template": {
         "data": {
          "bar": [
           {
            "error_x": {
             "color": "#2a3f5f"
            },
            "error_y": {
             "color": "#2a3f5f"
            },
            "marker": {
             "line": {
              "color": "#E5ECF6",
              "width": 0.5
             },
             "pattern": {
              "fillmode": "overlay",
              "size": 10,
              "solidity": 0.2
             }
            },
            "type": "bar"
           }
          ],
          "barpolar": [
           {
            "marker": {
             "line": {
              "color": "#E5ECF6",
              "width": 0.5
             },
             "pattern": {
              "fillmode": "overlay",
              "size": 10,
              "solidity": 0.2
             }
            },
            "type": "barpolar"
           }
          ],
          "carpet": [
           {
            "aaxis": {
             "endlinecolor": "#2a3f5f",
             "gridcolor": "white",
             "linecolor": "white",
             "minorgridcolor": "white",
             "startlinecolor": "#2a3f5f"
            },
            "baxis": {
             "endlinecolor": "#2a3f5f",
             "gridcolor": "white",
             "linecolor": "white",
             "minorgridcolor": "white",
             "startlinecolor": "#2a3f5f"
            },
            "type": "carpet"
           }
          ],
          "choropleth": [
           {
            "colorbar": {
             "outlinewidth": 0,
             "ticks": ""
            },
            "type": "choropleth"
           }
          ],
          "contour": [
           {
            "colorbar": {
             "outlinewidth": 0,
             "ticks": ""
            },
            "colorscale": [
             [
              0,
              "#0d0887"
             ],
             [
              0.1111111111111111,
              "#46039f"
             ],
             [
              0.2222222222222222,
              "#7201a8"
             ],
             [
              0.3333333333333333,
              "#9c179e"
             ],
             [
              0.4444444444444444,
              "#bd3786"
             ],
             [
              0.5555555555555556,
              "#d8576b"
             ],
             [
              0.6666666666666666,
              "#ed7953"
             ],
             [
              0.7777777777777778,
              "#fb9f3a"
             ],
             [
              0.8888888888888888,
              "#fdca26"
             ],
             [
              1,
              "#f0f921"
             ]
            ],
            "type": "contour"
           }
          ],
          "contourcarpet": [
           {
            "colorbar": {
             "outlinewidth": 0,
             "ticks": ""
            },
            "type": "contourcarpet"
           }
          ],
          "heatmap": [
           {
            "colorbar": {
             "outlinewidth": 0,
             "ticks": ""
            },
            "colorscale": [
             [
              0,
              "#0d0887"
             ],
             [
              0.1111111111111111,
              "#46039f"
             ],
             [
              0.2222222222222222,
              "#7201a8"
             ],
             [
              0.3333333333333333,
              "#9c179e"
             ],
             [
              0.4444444444444444,
              "#bd3786"
             ],
             [
              0.5555555555555556,
              "#d8576b"
             ],
             [
              0.6666666666666666,
              "#ed7953"
             ],
             [
              0.7777777777777778,
              "#fb9f3a"
             ],
             [
              0.8888888888888888,
              "#fdca26"
             ],
             [
              1,
              "#f0f921"
             ]
            ],
            "type": "heatmap"
           }
          ],
          "heatmapgl": [
           {
            "colorbar": {
             "outlinewidth": 0,
             "ticks": ""
            },
            "colorscale": [
             [
              0,
              "#0d0887"
             ],
             [
              0.1111111111111111,
              "#46039f"
             ],
             [
              0.2222222222222222,
              "#7201a8"
             ],
             [
              0.3333333333333333,
              "#9c179e"
             ],
             [
              0.4444444444444444,
              "#bd3786"
             ],
             [
              0.5555555555555556,
              "#d8576b"
             ],
             [
              0.6666666666666666,
              "#ed7953"
             ],
             [
              0.7777777777777778,
              "#fb9f3a"
             ],
             [
              0.8888888888888888,
              "#fdca26"
             ],
             [
              1,
              "#f0f921"
             ]
            ],
            "type": "heatmapgl"
           }
          ],
          "histogram": [
           {
            "marker": {
             "pattern": {
              "fillmode": "overlay",
              "size": 10,
              "solidity": 0.2
             }
            },
            "type": "histogram"
           }
          ],
          "histogram2d": [
           {
            "colorbar": {
             "outlinewidth": 0,
             "ticks": ""
            },
            "colorscale": [
             [
              0,
              "#0d0887"
             ],
             [
              0.1111111111111111,
              "#46039f"
             ],
             [
              0.2222222222222222,
              "#7201a8"
             ],
             [
              0.3333333333333333,
              "#9c179e"
             ],
             [
              0.4444444444444444,
              "#bd3786"
             ],
             [
              0.5555555555555556,
              "#d8576b"
             ],
             [
              0.6666666666666666,
              "#ed7953"
             ],
             [
              0.7777777777777778,
              "#fb9f3a"
             ],
             [
              0.8888888888888888,
              "#fdca26"
             ],
             [
              1,
              "#f0f921"
             ]
            ],
            "type": "histogram2d"
           }
          ],
          "histogram2dcontour": [
           {
            "colorbar": {
             "outlinewidth": 0,
             "ticks": ""
            },
            "colorscale": [
             [
              0,
              "#0d0887"
             ],
             [
              0.1111111111111111,
              "#46039f"
             ],
             [
              0.2222222222222222,
              "#7201a8"
             ],
             [
              0.3333333333333333,
              "#9c179e"
             ],
             [
              0.4444444444444444,
              "#bd3786"
             ],
             [
              0.5555555555555556,
              "#d8576b"
             ],
             [
              0.6666666666666666,
              "#ed7953"
             ],
             [
              0.7777777777777778,
              "#fb9f3a"
             ],
             [
              0.8888888888888888,
              "#fdca26"
             ],
             [
              1,
              "#f0f921"
             ]
            ],
            "type": "histogram2dcontour"
           }
          ],
          "mesh3d": [
           {
            "colorbar": {
             "outlinewidth": 0,
             "ticks": ""
            },
            "type": "mesh3d"
           }
          ],
          "parcoords": [
           {
            "line": {
             "colorbar": {
              "outlinewidth": 0,
              "ticks": ""
             }
            },
            "type": "parcoords"
           }
          ],
          "pie": [
           {
            "automargin": true,
            "type": "pie"
           }
          ],
          "scatter": [
           {
            "fillpattern": {
             "fillmode": "overlay",
             "size": 10,
             "solidity": 0.2
            },
            "type": "scatter"
           }
          ],
          "scatter3d": [
           {
            "line": {
             "colorbar": {
              "outlinewidth": 0,
              "ticks": ""
             }
            },
            "marker": {
             "colorbar": {
              "outlinewidth": 0,
              "ticks": ""
             }
            },
            "type": "scatter3d"
           }
          ],
          "scattercarpet": [
           {
            "marker": {
             "colorbar": {
              "outlinewidth": 0,
              "ticks": ""
             }
            },
            "type": "scattercarpet"
           }
          ],
          "scattergeo": [
           {
            "marker": {
             "colorbar": {
              "outlinewidth": 0,
              "ticks": ""
             }
            },
            "type": "scattergeo"
           }
          ],
          "scattergl": [
           {
            "marker": {
             "colorbar": {
              "outlinewidth": 0,
              "ticks": ""
             }
            },
            "type": "scattergl"
           }
          ],
          "scattermapbox": [
           {
            "marker": {
             "colorbar": {
              "outlinewidth": 0,
              "ticks": ""
             }
            },
            "type": "scattermapbox"
           }
          ],
          "scatterpolar": [
           {
            "marker": {
             "colorbar": {
              "outlinewidth": 0,
              "ticks": ""
             }
            },
            "type": "scatterpolar"
           }
          ],
          "scatterpolargl": [
           {
            "marker": {
             "colorbar": {
              "outlinewidth": 0,
              "ticks": ""
             }
            },
            "type": "scatterpolargl"
           }
          ],
          "scatterternary": [
           {
            "marker": {
             "colorbar": {
              "outlinewidth": 0,
              "ticks": ""
             }
            },
            "type": "scatterternary"
           }
          ],
          "surface": [
           {
            "colorbar": {
             "outlinewidth": 0,
             "ticks": ""
            },
            "colorscale": [
             [
              0,
              "#0d0887"
             ],
             [
              0.1111111111111111,
              "#46039f"
             ],
             [
              0.2222222222222222,
              "#7201a8"
             ],
             [
              0.3333333333333333,
              "#9c179e"
             ],
             [
              0.4444444444444444,
              "#bd3786"
             ],
             [
              0.5555555555555556,
              "#d8576b"
             ],
             [
              0.6666666666666666,
              "#ed7953"
             ],
             [
              0.7777777777777778,
              "#fb9f3a"
             ],
             [
              0.8888888888888888,
              "#fdca26"
             ],
             [
              1,
              "#f0f921"
             ]
            ],
            "type": "surface"
           }
          ],
          "table": [
           {
            "cells": {
             "fill": {
              "color": "#EBF0F8"
             },
             "line": {
              "color": "white"
             }
            },
            "header": {
             "fill": {
              "color": "#C8D4E3"
             },
             "line": {
              "color": "white"
             }
            },
            "type": "table"
           }
          ]
         },
         "layout": {
          "annotationdefaults": {
           "arrowcolor": "#2a3f5f",
           "arrowhead": 0,
           "arrowwidth": 1
          },
          "autotypenumbers": "strict",
          "coloraxis": {
           "colorbar": {
            "outlinewidth": 0,
            "ticks": ""
           }
          },
          "colorscale": {
           "diverging": [
            [
             0,
             "#8e0152"
            ],
            [
             0.1,
             "#c51b7d"
            ],
            [
             0.2,
             "#de77ae"
            ],
            [
             0.3,
             "#f1b6da"
            ],
            [
             0.4,
             "#fde0ef"
            ],
            [
             0.5,
             "#f7f7f7"
            ],
            [
             0.6,
             "#e6f5d0"
            ],
            [
             0.7,
             "#b8e186"
            ],
            [
             0.8,
             "#7fbc41"
            ],
            [
             0.9,
             "#4d9221"
            ],
            [
             1,
             "#276419"
            ]
           ],
           "sequential": [
            [
             0,
             "#0d0887"
            ],
            [
             0.1111111111111111,
             "#46039f"
            ],
            [
             0.2222222222222222,
             "#7201a8"
            ],
            [
             0.3333333333333333,
             "#9c179e"
            ],
            [
             0.4444444444444444,
             "#bd3786"
            ],
            [
             0.5555555555555556,
             "#d8576b"
            ],
            [
             0.6666666666666666,
             "#ed7953"
            ],
            [
             0.7777777777777778,
             "#fb9f3a"
            ],
            [
             0.8888888888888888,
             "#fdca26"
            ],
            [
             1,
             "#f0f921"
            ]
           ],
           "sequentialminus": [
            [
             0,
             "#0d0887"
            ],
            [
             0.1111111111111111,
             "#46039f"
            ],
            [
             0.2222222222222222,
             "#7201a8"
            ],
            [
             0.3333333333333333,
             "#9c179e"
            ],
            [
             0.4444444444444444,
             "#bd3786"
            ],
            [
             0.5555555555555556,
             "#d8576b"
            ],
            [
             0.6666666666666666,
             "#ed7953"
            ],
            [
             0.7777777777777778,
             "#fb9f3a"
            ],
            [
             0.8888888888888888,
             "#fdca26"
            ],
            [
             1,
             "#f0f921"
            ]
           ]
          },
          "colorway": [
           "#636efa",
           "#EF553B",
           "#00cc96",
           "#ab63fa",
           "#FFA15A",
           "#19d3f3",
           "#FF6692",
           "#B6E880",
           "#FF97FF",
           "#FECB52"
          ],
          "font": {
           "color": "#2a3f5f"
          },
          "geo": {
           "bgcolor": "white",
           "lakecolor": "white",
           "landcolor": "#E5ECF6",
           "showlakes": true,
           "showland": true,
           "subunitcolor": "white"
          },
          "hoverlabel": {
           "align": "left"
          },
          "hovermode": "closest",
          "mapbox": {
           "style": "light"
          },
          "paper_bgcolor": "white",
          "plot_bgcolor": "#E5ECF6",
          "polar": {
           "angularaxis": {
            "gridcolor": "white",
            "linecolor": "white",
            "ticks": ""
           },
           "bgcolor": "#E5ECF6",
           "radialaxis": {
            "gridcolor": "white",
            "linecolor": "white",
            "ticks": ""
           }
          },
          "scene": {
           "xaxis": {
            "backgroundcolor": "#E5ECF6",
            "gridcolor": "white",
            "gridwidth": 2,
            "linecolor": "white",
            "showbackground": true,
            "ticks": "",
            "zerolinecolor": "white"
           },
           "yaxis": {
            "backgroundcolor": "#E5ECF6",
            "gridcolor": "white",
            "gridwidth": 2,
            "linecolor": "white",
            "showbackground": true,
            "ticks": "",
            "zerolinecolor": "white"
           },
           "zaxis": {
            "backgroundcolor": "#E5ECF6",
            "gridcolor": "white",
            "gridwidth": 2,
            "linecolor": "white",
            "showbackground": true,
            "ticks": "",
            "zerolinecolor": "white"
           }
          },
          "shapedefaults": {
           "line": {
            "color": "#2a3f5f"
           }
          },
          "ternary": {
           "aaxis": {
            "gridcolor": "white",
            "linecolor": "white",
            "ticks": ""
           },
           "baxis": {
            "gridcolor": "white",
            "linecolor": "white",
            "ticks": ""
           },
           "bgcolor": "#E5ECF6",
           "caxis": {
            "gridcolor": "white",
            "linecolor": "white",
            "ticks": ""
           }
          },
          "title": {
           "x": 0.05
          },
          "xaxis": {
           "automargin": true,
           "gridcolor": "white",
           "linecolor": "white",
           "ticks": "",
           "title": {
            "standoff": 15
           },
           "zerolinecolor": "white",
           "zerolinewidth": 2
          },
          "yaxis": {
           "automargin": true,
           "gridcolor": "white",
           "linecolor": "white",
           "ticks": "",
           "title": {
            "standoff": 15
           },
           "zerolinecolor": "white",
           "zerolinewidth": 2
          }
         }
        },
        "title": {
         "text": "Countries With Minimum Purchase History",
         "x": 0.5
        },
        "width": 800,
        "xaxis": {
         "title": {
          "text": "Countries"
         }
        },
        "yaxis": {
         "title": {
          "text": "Total Amount"
         }
        }
       }
      }
     },
     "metadata": {},
     "output_type": "display_data"
    }
   ],
   "source": [
    "\n",
    "min_purchased_countries = purchase.sort_values('TotalPrice').head(10)\n",
    "print((min_purchased_countries))\n",
    "\n",
    "fig = go.Figure(data=[go.Bar(x=min_purchased_countries['Country'].astype(str),\n",
    "                             y=min_purchased_countries['TotalPrice'], \n",
    "                             marker={'color' : min_purchased_countries['TotalPrice']},\n",
    "                             texttemplate='£%{y:.3s}',\n",
    "                             textposition='outside'\n",
    "                             )])\n",
    "\n",
    "fig.update_layout(\n",
    "    title='Countries With Minimum Purchase History',\n",
    "    title_x=0.5,\n",
    "    xaxis_title='Countries',\n",
    "    yaxis_title='Total Amount',\n",
    "    plot_bgcolor='white',\n",
    "    barmode='relative', # 'relative for stacked bars\n",
    "    bargap=0.20, # Gap between bars\n",
    "    showlegend=False,\n",
    "    width=800,\n",
    "    height=700,\n",
    ")\n",
    "\n",
    "fig.show()"
   ]
  },
  {
   "cell_type": "markdown",
   "metadata": {},
   "source": [
    "## Top 10 Products"
   ]
  },
  {
   "cell_type": "code",
   "execution_count": 8,
   "metadata": {},
   "outputs": [
    {
     "data": {
      "text/html": [
       "<div>\n",
       "<style scoped>\n",
       "    .dataframe tbody tr th:only-of-type {\n",
       "        vertical-align: middle;\n",
       "    }\n",
       "\n",
       "    .dataframe tbody tr th {\n",
       "        vertical-align: top;\n",
       "    }\n",
       "\n",
       "    .dataframe thead th {\n",
       "        text-align: right;\n",
       "    }\n",
       "</style>\n",
       "<table border=\"1\" class=\"dataframe\">\n",
       "  <thead>\n",
       "    <tr style=\"text-align: right;\">\n",
       "      <th></th>\n",
       "      <th>Description</th>\n",
       "      <th>Quantity</th>\n",
       "    </tr>\n",
       "  </thead>\n",
       "  <tbody>\n",
       "    <tr>\n",
       "      <th>4009</th>\n",
       "      <td>WORLD WAR 2 GLIDERS ASSTD DESIGNS</td>\n",
       "      <td>53847</td>\n",
       "    </tr>\n",
       "    <tr>\n",
       "      <th>1866</th>\n",
       "      <td>JUMBO BAG RED RETROSPOT</td>\n",
       "      <td>47363</td>\n",
       "    </tr>\n",
       "    <tr>\n",
       "      <th>244</th>\n",
       "      <td>ASSORTED COLOUR BIRD ORNAMENT</td>\n",
       "      <td>36381</td>\n",
       "    </tr>\n",
       "    <tr>\n",
       "      <th>2740</th>\n",
       "      <td>POPCORN HOLDER</td>\n",
       "      <td>36334</td>\n",
       "    </tr>\n",
       "    <tr>\n",
       "      <th>2395</th>\n",
       "      <td>PACK OF 72 RETROSPOT CAKE CASES</td>\n",
       "      <td>36039</td>\n",
       "    </tr>\n",
       "    <tr>\n",
       "      <th>3918</th>\n",
       "      <td>WHITE HANGING HEART T-LIGHT HOLDER</td>\n",
       "      <td>35317</td>\n",
       "    </tr>\n",
       "    <tr>\n",
       "      <th>2803</th>\n",
       "      <td>RABBIT NIGHT LIGHT</td>\n",
       "      <td>30680</td>\n",
       "    </tr>\n",
       "    <tr>\n",
       "      <th>2161</th>\n",
       "      <td>MINI PAINT SET VINTAGE</td>\n",
       "      <td>26437</td>\n",
       "    </tr>\n",
       "    <tr>\n",
       "      <th>2361</th>\n",
       "      <td>PACK OF 12 LONDON TISSUES</td>\n",
       "      <td>26315</td>\n",
       "    </tr>\n",
       "    <tr>\n",
       "      <th>2393</th>\n",
       "      <td>PACK OF 60 PINK PAISLEY CAKE CASES</td>\n",
       "      <td>24753</td>\n",
       "    </tr>\n",
       "  </tbody>\n",
       "</table>\n",
       "</div>"
      ],
      "text/plain": [
       "                             Description  Quantity\n",
       "4009   WORLD WAR 2 GLIDERS ASSTD DESIGNS     53847\n",
       "1866             JUMBO BAG RED RETROSPOT     47363\n",
       "244        ASSORTED COLOUR BIRD ORNAMENT     36381\n",
       "2740                      POPCORN HOLDER     36334\n",
       "2395     PACK OF 72 RETROSPOT CAKE CASES     36039\n",
       "3918  WHITE HANGING HEART T-LIGHT HOLDER     35317\n",
       "2803                  RABBIT NIGHT LIGHT     30680\n",
       "2161             MINI PAINT SET VINTAGE      26437\n",
       "2361          PACK OF 12 LONDON TISSUES      26315\n",
       "2393  PACK OF 60 PINK PAISLEY CAKE CASES     24753"
      ]
     },
     "metadata": {},
     "output_type": "display_data"
    },
    {
     "data": {
      "application/vnd.plotly.v1+json": {
       "config": {
        "plotlyServerURL": "https://plot.ly"
       },
       "data": [
        {
         "marker": {
          "color": [
           53847,
           47363,
           36381,
           36334,
           36039,
           35317,
           30680,
           26437,
           26315,
           24753
          ],
          "colorscale": [
           [
            0,
            "#440154"
           ],
           [
            0.1111111111111111,
            "#482878"
           ],
           [
            0.2222222222222222,
            "#3e4989"
           ],
           [
            0.3333333333333333,
            "#31688e"
           ],
           [
            0.4444444444444444,
            "#26828e"
           ],
           [
            0.5555555555555556,
            "#1f9e89"
           ],
           [
            0.6666666666666666,
            "#35b779"
           ],
           [
            0.7777777777777778,
            "#6ece58"
           ],
           [
            0.8888888888888888,
            "#b5de2b"
           ],
           [
            1,
            "#fde725"
           ]
          ]
         },
         "textposition": "outside",
         "texttemplate": "£%{y:.3s}",
         "type": "bar",
         "x": [
          "WORLD WAR 2 GLIDERS ASSTD DESIGNS",
          "JUMBO BAG RED RETROSPOT",
          "ASSORTED COLOUR BIRD ORNAMENT",
          "POPCORN HOLDER",
          "PACK OF 72 RETROSPOT CAKE CASES",
          "WHITE HANGING HEART T-LIGHT HOLDER",
          "RABBIT NIGHT LIGHT",
          "MINI PAINT SET VINTAGE ",
          "PACK OF 12 LONDON TISSUES ",
          "PACK OF 60 PINK PAISLEY CAKE CASES"
         ],
         "y": [
          53847,
          47363,
          36381,
          36334,
          36039,
          35317,
          30680,
          26437,
          26315,
          24753
         ]
        }
       ],
       "layout": {
        "bargap": 0.2,
        "barmode": "relative",
        "height": 700,
        "plot_bgcolor": "white",
        "template": {
         "data": {
          "bar": [
           {
            "error_x": {
             "color": "#2a3f5f"
            },
            "error_y": {
             "color": "#2a3f5f"
            },
            "marker": {
             "line": {
              "color": "#E5ECF6",
              "width": 0.5
             },
             "pattern": {
              "fillmode": "overlay",
              "size": 10,
              "solidity": 0.2
             }
            },
            "type": "bar"
           }
          ],
          "barpolar": [
           {
            "marker": {
             "line": {
              "color": "#E5ECF6",
              "width": 0.5
             },
             "pattern": {
              "fillmode": "overlay",
              "size": 10,
              "solidity": 0.2
             }
            },
            "type": "barpolar"
           }
          ],
          "carpet": [
           {
            "aaxis": {
             "endlinecolor": "#2a3f5f",
             "gridcolor": "white",
             "linecolor": "white",
             "minorgridcolor": "white",
             "startlinecolor": "#2a3f5f"
            },
            "baxis": {
             "endlinecolor": "#2a3f5f",
             "gridcolor": "white",
             "linecolor": "white",
             "minorgridcolor": "white",
             "startlinecolor": "#2a3f5f"
            },
            "type": "carpet"
           }
          ],
          "choropleth": [
           {
            "colorbar": {
             "outlinewidth": 0,
             "ticks": ""
            },
            "type": "choropleth"
           }
          ],
          "contour": [
           {
            "colorbar": {
             "outlinewidth": 0,
             "ticks": ""
            },
            "colorscale": [
             [
              0,
              "#0d0887"
             ],
             [
              0.1111111111111111,
              "#46039f"
             ],
             [
              0.2222222222222222,
              "#7201a8"
             ],
             [
              0.3333333333333333,
              "#9c179e"
             ],
             [
              0.4444444444444444,
              "#bd3786"
             ],
             [
              0.5555555555555556,
              "#d8576b"
             ],
             [
              0.6666666666666666,
              "#ed7953"
             ],
             [
              0.7777777777777778,
              "#fb9f3a"
             ],
             [
              0.8888888888888888,
              "#fdca26"
             ],
             [
              1,
              "#f0f921"
             ]
            ],
            "type": "contour"
           }
          ],
          "contourcarpet": [
           {
            "colorbar": {
             "outlinewidth": 0,
             "ticks": ""
            },
            "type": "contourcarpet"
           }
          ],
          "heatmap": [
           {
            "colorbar": {
             "outlinewidth": 0,
             "ticks": ""
            },
            "colorscale": [
             [
              0,
              "#0d0887"
             ],
             [
              0.1111111111111111,
              "#46039f"
             ],
             [
              0.2222222222222222,
              "#7201a8"
             ],
             [
              0.3333333333333333,
              "#9c179e"
             ],
             [
              0.4444444444444444,
              "#bd3786"
             ],
             [
              0.5555555555555556,
              "#d8576b"
             ],
             [
              0.6666666666666666,
              "#ed7953"
             ],
             [
              0.7777777777777778,
              "#fb9f3a"
             ],
             [
              0.8888888888888888,
              "#fdca26"
             ],
             [
              1,
              "#f0f921"
             ]
            ],
            "type": "heatmap"
           }
          ],
          "heatmapgl": [
           {
            "colorbar": {
             "outlinewidth": 0,
             "ticks": ""
            },
            "colorscale": [
             [
              0,
              "#0d0887"
             ],
             [
              0.1111111111111111,
              "#46039f"
             ],
             [
              0.2222222222222222,
              "#7201a8"
             ],
             [
              0.3333333333333333,
              "#9c179e"
             ],
             [
              0.4444444444444444,
              "#bd3786"
             ],
             [
              0.5555555555555556,
              "#d8576b"
             ],
             [
              0.6666666666666666,
              "#ed7953"
             ],
             [
              0.7777777777777778,
              "#fb9f3a"
             ],
             [
              0.8888888888888888,
              "#fdca26"
             ],
             [
              1,
              "#f0f921"
             ]
            ],
            "type": "heatmapgl"
           }
          ],
          "histogram": [
           {
            "marker": {
             "pattern": {
              "fillmode": "overlay",
              "size": 10,
              "solidity": 0.2
             }
            },
            "type": "histogram"
           }
          ],
          "histogram2d": [
           {
            "colorbar": {
             "outlinewidth": 0,
             "ticks": ""
            },
            "colorscale": [
             [
              0,
              "#0d0887"
             ],
             [
              0.1111111111111111,
              "#46039f"
             ],
             [
              0.2222222222222222,
              "#7201a8"
             ],
             [
              0.3333333333333333,
              "#9c179e"
             ],
             [
              0.4444444444444444,
              "#bd3786"
             ],
             [
              0.5555555555555556,
              "#d8576b"
             ],
             [
              0.6666666666666666,
              "#ed7953"
             ],
             [
              0.7777777777777778,
              "#fb9f3a"
             ],
             [
              0.8888888888888888,
              "#fdca26"
             ],
             [
              1,
              "#f0f921"
             ]
            ],
            "type": "histogram2d"
           }
          ],
          "histogram2dcontour": [
           {
            "colorbar": {
             "outlinewidth": 0,
             "ticks": ""
            },
            "colorscale": [
             [
              0,
              "#0d0887"
             ],
             [
              0.1111111111111111,
              "#46039f"
             ],
             [
              0.2222222222222222,
              "#7201a8"
             ],
             [
              0.3333333333333333,
              "#9c179e"
             ],
             [
              0.4444444444444444,
              "#bd3786"
             ],
             [
              0.5555555555555556,
              "#d8576b"
             ],
             [
              0.6666666666666666,
              "#ed7953"
             ],
             [
              0.7777777777777778,
              "#fb9f3a"
             ],
             [
              0.8888888888888888,
              "#fdca26"
             ],
             [
              1,
              "#f0f921"
             ]
            ],
            "type": "histogram2dcontour"
           }
          ],
          "mesh3d": [
           {
            "colorbar": {
             "outlinewidth": 0,
             "ticks": ""
            },
            "type": "mesh3d"
           }
          ],
          "parcoords": [
           {
            "line": {
             "colorbar": {
              "outlinewidth": 0,
              "ticks": ""
             }
            },
            "type": "parcoords"
           }
          ],
          "pie": [
           {
            "automargin": true,
            "type": "pie"
           }
          ],
          "scatter": [
           {
            "fillpattern": {
             "fillmode": "overlay",
             "size": 10,
             "solidity": 0.2
            },
            "type": "scatter"
           }
          ],
          "scatter3d": [
           {
            "line": {
             "colorbar": {
              "outlinewidth": 0,
              "ticks": ""
             }
            },
            "marker": {
             "colorbar": {
              "outlinewidth": 0,
              "ticks": ""
             }
            },
            "type": "scatter3d"
           }
          ],
          "scattercarpet": [
           {
            "marker": {
             "colorbar": {
              "outlinewidth": 0,
              "ticks": ""
             }
            },
            "type": "scattercarpet"
           }
          ],
          "scattergeo": [
           {
            "marker": {
             "colorbar": {
              "outlinewidth": 0,
              "ticks": ""
             }
            },
            "type": "scattergeo"
           }
          ],
          "scattergl": [
           {
            "marker": {
             "colorbar": {
              "outlinewidth": 0,
              "ticks": ""
             }
            },
            "type": "scattergl"
           }
          ],
          "scattermapbox": [
           {
            "marker": {
             "colorbar": {
              "outlinewidth": 0,
              "ticks": ""
             }
            },
            "type": "scattermapbox"
           }
          ],
          "scatterpolar": [
           {
            "marker": {
             "colorbar": {
              "outlinewidth": 0,
              "ticks": ""
             }
            },
            "type": "scatterpolar"
           }
          ],
          "scatterpolargl": [
           {
            "marker": {
             "colorbar": {
              "outlinewidth": 0,
              "ticks": ""
             }
            },
            "type": "scatterpolargl"
           }
          ],
          "scatterternary": [
           {
            "marker": {
             "colorbar": {
              "outlinewidth": 0,
              "ticks": ""
             }
            },
            "type": "scatterternary"
           }
          ],
          "surface": [
           {
            "colorbar": {
             "outlinewidth": 0,
             "ticks": ""
            },
            "colorscale": [
             [
              0,
              "#0d0887"
             ],
             [
              0.1111111111111111,
              "#46039f"
             ],
             [
              0.2222222222222222,
              "#7201a8"
             ],
             [
              0.3333333333333333,
              "#9c179e"
             ],
             [
              0.4444444444444444,
              "#bd3786"
             ],
             [
              0.5555555555555556,
              "#d8576b"
             ],
             [
              0.6666666666666666,
              "#ed7953"
             ],
             [
              0.7777777777777778,
              "#fb9f3a"
             ],
             [
              0.8888888888888888,
              "#fdca26"
             ],
             [
              1,
              "#f0f921"
             ]
            ],
            "type": "surface"
           }
          ],
          "table": [
           {
            "cells": {
             "fill": {
              "color": "#EBF0F8"
             },
             "line": {
              "color": "white"
             }
            },
            "header": {
             "fill": {
              "color": "#C8D4E3"
             },
             "line": {
              "color": "white"
             }
            },
            "type": "table"
           }
          ]
         },
         "layout": {
          "annotationdefaults": {
           "arrowcolor": "#2a3f5f",
           "arrowhead": 0,
           "arrowwidth": 1
          },
          "autotypenumbers": "strict",
          "coloraxis": {
           "colorbar": {
            "outlinewidth": 0,
            "ticks": ""
           }
          },
          "colorscale": {
           "diverging": [
            [
             0,
             "#8e0152"
            ],
            [
             0.1,
             "#c51b7d"
            ],
            [
             0.2,
             "#de77ae"
            ],
            [
             0.3,
             "#f1b6da"
            ],
            [
             0.4,
             "#fde0ef"
            ],
            [
             0.5,
             "#f7f7f7"
            ],
            [
             0.6,
             "#e6f5d0"
            ],
            [
             0.7,
             "#b8e186"
            ],
            [
             0.8,
             "#7fbc41"
            ],
            [
             0.9,
             "#4d9221"
            ],
            [
             1,
             "#276419"
            ]
           ],
           "sequential": [
            [
             0,
             "#0d0887"
            ],
            [
             0.1111111111111111,
             "#46039f"
            ],
            [
             0.2222222222222222,
             "#7201a8"
            ],
            [
             0.3333333333333333,
             "#9c179e"
            ],
            [
             0.4444444444444444,
             "#bd3786"
            ],
            [
             0.5555555555555556,
             "#d8576b"
            ],
            [
             0.6666666666666666,
             "#ed7953"
            ],
            [
             0.7777777777777778,
             "#fb9f3a"
            ],
            [
             0.8888888888888888,
             "#fdca26"
            ],
            [
             1,
             "#f0f921"
            ]
           ],
           "sequentialminus": [
            [
             0,
             "#0d0887"
            ],
            [
             0.1111111111111111,
             "#46039f"
            ],
            [
             0.2222222222222222,
             "#7201a8"
            ],
            [
             0.3333333333333333,
             "#9c179e"
            ],
            [
             0.4444444444444444,
             "#bd3786"
            ],
            [
             0.5555555555555556,
             "#d8576b"
            ],
            [
             0.6666666666666666,
             "#ed7953"
            ],
            [
             0.7777777777777778,
             "#fb9f3a"
            ],
            [
             0.8888888888888888,
             "#fdca26"
            ],
            [
             1,
             "#f0f921"
            ]
           ]
          },
          "colorway": [
           "#636efa",
           "#EF553B",
           "#00cc96",
           "#ab63fa",
           "#FFA15A",
           "#19d3f3",
           "#FF6692",
           "#B6E880",
           "#FF97FF",
           "#FECB52"
          ],
          "font": {
           "color": "#2a3f5f"
          },
          "geo": {
           "bgcolor": "white",
           "lakecolor": "white",
           "landcolor": "#E5ECF6",
           "showlakes": true,
           "showland": true,
           "subunitcolor": "white"
          },
          "hoverlabel": {
           "align": "left"
          },
          "hovermode": "closest",
          "mapbox": {
           "style": "light"
          },
          "paper_bgcolor": "white",
          "plot_bgcolor": "#E5ECF6",
          "polar": {
           "angularaxis": {
            "gridcolor": "white",
            "linecolor": "white",
            "ticks": ""
           },
           "bgcolor": "#E5ECF6",
           "radialaxis": {
            "gridcolor": "white",
            "linecolor": "white",
            "ticks": ""
           }
          },
          "scene": {
           "xaxis": {
            "backgroundcolor": "#E5ECF6",
            "gridcolor": "white",
            "gridwidth": 2,
            "linecolor": "white",
            "showbackground": true,
            "ticks": "",
            "zerolinecolor": "white"
           },
           "yaxis": {
            "backgroundcolor": "#E5ECF6",
            "gridcolor": "white",
            "gridwidth": 2,
            "linecolor": "white",
            "showbackground": true,
            "ticks": "",
            "zerolinecolor": "white"
           },
           "zaxis": {
            "backgroundcolor": "#E5ECF6",
            "gridcolor": "white",
            "gridwidth": 2,
            "linecolor": "white",
            "showbackground": true,
            "ticks": "",
            "zerolinecolor": "white"
           }
          },
          "shapedefaults": {
           "line": {
            "color": "#2a3f5f"
           }
          },
          "ternary": {
           "aaxis": {
            "gridcolor": "white",
            "linecolor": "white",
            "ticks": ""
           },
           "baxis": {
            "gridcolor": "white",
            "linecolor": "white",
            "ticks": ""
           },
           "bgcolor": "#E5ECF6",
           "caxis": {
            "gridcolor": "white",
            "linecolor": "white",
            "ticks": ""
           }
          },
          "title": {
           "x": 0.05
          },
          "xaxis": {
           "automargin": true,
           "gridcolor": "white",
           "linecolor": "white",
           "ticks": "",
           "title": {
            "standoff": 15
           },
           "zerolinecolor": "white",
           "zerolinewidth": 2
          },
          "yaxis": {
           "automargin": true,
           "gridcolor": "white",
           "linecolor": "white",
           "ticks": "",
           "title": {
            "standoff": 15
           },
           "zerolinecolor": "white",
           "zerolinewidth": 2
          }
         }
        },
        "title": {
         "text": "Top 10 Purchased Products",
         "x": 0.5
        },
        "width": 800,
        "xaxis": {
         "tickangle": 20,
         "title": {
          "text": "Description"
         }
        },
        "yaxis": {
         "title": {
          "text": "Quantity"
         }
        }
       }
      }
     },
     "metadata": {},
     "output_type": "display_data"
    }
   ],
   "source": [
    "products = df.pivot_table(index=\"Description\", values=\"Quantity\", aggfunc=np.sum).reset_index()\n",
    "top_products = products.sort_values(\"Quantity\", ascending=False).head(10)\n",
    "display(top_products)\n",
    "\n",
    "fig = go.Figure(data=[go.Bar(x=top_products['Description'].astype(str),\n",
    "                             y=top_products['Quantity'], \n",
    "                             marker={'color' : top_products['Quantity'],\n",
    "                                     'colorscale' : 'viridis'},\n",
    "                             texttemplate='£%{y:.3s}',\n",
    "                             textposition='outside',\n",
    "                             )])\n",
    "\n",
    "fig.update_layout(\n",
    "    title='Top 10 Purchased Products',\n",
    "    title_x=0.5,\n",
    "    xaxis_title='Description',\n",
    "    yaxis_title='Quantity',\n",
    "    plot_bgcolor='white',\n",
    "    barmode='relative', # 'relative for stacked bars\n",
    "    bargap=0.20, # Gap between bars\n",
    "    width=800,\n",
    "    height=700,\n",
    ")\n",
    "\n",
    "fig.update_xaxes(tickangle=20) # Rotates the x-axis labels\n",
    "\n",
    "fig.show()"
   ]
  },
  {
   "cell_type": "markdown",
   "metadata": {},
   "source": [
    "## Best Customers "
   ]
  },
  {
   "cell_type": "code",
   "execution_count": 9,
   "metadata": {},
   "outputs": [
    {
     "data": {
      "text/html": [
       "<div>\n",
       "<style scoped>\n",
       "    .dataframe tbody tr th:only-of-type {\n",
       "        vertical-align: middle;\n",
       "    }\n",
       "\n",
       "    .dataframe tbody tr th {\n",
       "        vertical-align: top;\n",
       "    }\n",
       "\n",
       "    .dataframe thead th {\n",
       "        text-align: right;\n",
       "    }\n",
       "</style>\n",
       "<table border=\"1\" class=\"dataframe\">\n",
       "  <thead>\n",
       "    <tr style=\"text-align: right;\">\n",
       "      <th></th>\n",
       "      <th>InvoiceNo</th>\n",
       "      <th>StockCode</th>\n",
       "      <th>Description</th>\n",
       "      <th>Quantity</th>\n",
       "      <th>InvoiceDate</th>\n",
       "      <th>UnitPrice</th>\n",
       "      <th>CustomerID</th>\n",
       "      <th>Country</th>\n",
       "      <th>TotalPrice</th>\n",
       "    </tr>\n",
       "  </thead>\n",
       "  <tbody>\n",
       "    <tr>\n",
       "      <th>0</th>\n",
       "      <td>536365</td>\n",
       "      <td>85123A</td>\n",
       "      <td>WHITE HANGING HEART T-LIGHT HOLDER</td>\n",
       "      <td>6.0</td>\n",
       "      <td>2010-12-01 08:26:00</td>\n",
       "      <td>2.55</td>\n",
       "      <td>17850</td>\n",
       "      <td>United Kingdom</td>\n",
       "      <td>15.30</td>\n",
       "    </tr>\n",
       "    <tr>\n",
       "      <th>1</th>\n",
       "      <td>536365</td>\n",
       "      <td>71053</td>\n",
       "      <td>WHITE METAL LANTERN</td>\n",
       "      <td>6.0</td>\n",
       "      <td>2010-12-01 08:26:00</td>\n",
       "      <td>3.39</td>\n",
       "      <td>17850</td>\n",
       "      <td>United Kingdom</td>\n",
       "      <td>20.34</td>\n",
       "    </tr>\n",
       "    <tr>\n",
       "      <th>2</th>\n",
       "      <td>536365</td>\n",
       "      <td>84406B</td>\n",
       "      <td>CREAM CUPID HEARTS COAT HANGER</td>\n",
       "      <td>8.0</td>\n",
       "      <td>2010-12-01 08:26:00</td>\n",
       "      <td>2.75</td>\n",
       "      <td>17850</td>\n",
       "      <td>United Kingdom</td>\n",
       "      <td>22.00</td>\n",
       "    </tr>\n",
       "    <tr>\n",
       "      <th>3</th>\n",
       "      <td>536365</td>\n",
       "      <td>84029G</td>\n",
       "      <td>KNITTED UNION FLAG HOT WATER BOTTLE</td>\n",
       "      <td>6.0</td>\n",
       "      <td>2010-12-01 08:26:00</td>\n",
       "      <td>3.39</td>\n",
       "      <td>17850</td>\n",
       "      <td>United Kingdom</td>\n",
       "      <td>20.34</td>\n",
       "    </tr>\n",
       "    <tr>\n",
       "      <th>4</th>\n",
       "      <td>536365</td>\n",
       "      <td>84029E</td>\n",
       "      <td>RED WOOLLY HOTTIE WHITE HEART.</td>\n",
       "      <td>6.0</td>\n",
       "      <td>2010-12-01 08:26:00</td>\n",
       "      <td>3.39</td>\n",
       "      <td>17850</td>\n",
       "      <td>United Kingdom</td>\n",
       "      <td>20.34</td>\n",
       "    </tr>\n",
       "    <tr>\n",
       "      <th>...</th>\n",
       "      <td>...</td>\n",
       "      <td>...</td>\n",
       "      <td>...</td>\n",
       "      <td>...</td>\n",
       "      <td>...</td>\n",
       "      <td>...</td>\n",
       "      <td>...</td>\n",
       "      <td>...</td>\n",
       "      <td>...</td>\n",
       "    </tr>\n",
       "    <tr>\n",
       "      <th>541904</th>\n",
       "      <td>581587</td>\n",
       "      <td>22613</td>\n",
       "      <td>PACK OF 20 SPACEBOY NAPKINS</td>\n",
       "      <td>12.0</td>\n",
       "      <td>2011-12-09 12:50:00</td>\n",
       "      <td>0.85</td>\n",
       "      <td>12680</td>\n",
       "      <td>France</td>\n",
       "      <td>10.20</td>\n",
       "    </tr>\n",
       "    <tr>\n",
       "      <th>541905</th>\n",
       "      <td>581587</td>\n",
       "      <td>22899</td>\n",
       "      <td>CHILDREN'S APRON DOLLY GIRL</td>\n",
       "      <td>6.0</td>\n",
       "      <td>2011-12-09 12:50:00</td>\n",
       "      <td>2.10</td>\n",
       "      <td>12680</td>\n",
       "      <td>France</td>\n",
       "      <td>12.60</td>\n",
       "    </tr>\n",
       "    <tr>\n",
       "      <th>541906</th>\n",
       "      <td>581587</td>\n",
       "      <td>23254</td>\n",
       "      <td>CHILDRENS CUTLERY DOLLY GIRL</td>\n",
       "      <td>4.0</td>\n",
       "      <td>2011-12-09 12:50:00</td>\n",
       "      <td>4.15</td>\n",
       "      <td>12680</td>\n",
       "      <td>France</td>\n",
       "      <td>16.60</td>\n",
       "    </tr>\n",
       "    <tr>\n",
       "      <th>541907</th>\n",
       "      <td>581587</td>\n",
       "      <td>23255</td>\n",
       "      <td>CHILDRENS CUTLERY CIRCUS PARADE</td>\n",
       "      <td>4.0</td>\n",
       "      <td>2011-12-09 12:50:00</td>\n",
       "      <td>4.15</td>\n",
       "      <td>12680</td>\n",
       "      <td>France</td>\n",
       "      <td>16.60</td>\n",
       "    </tr>\n",
       "    <tr>\n",
       "      <th>541908</th>\n",
       "      <td>581587</td>\n",
       "      <td>22138</td>\n",
       "      <td>BAKING SET 9 PIECE RETROSPOT</td>\n",
       "      <td>3.0</td>\n",
       "      <td>2011-12-09 12:50:00</td>\n",
       "      <td>4.95</td>\n",
       "      <td>12680</td>\n",
       "      <td>France</td>\n",
       "      <td>14.85</td>\n",
       "    </tr>\n",
       "  </tbody>\n",
       "</table>\n",
       "<p>397924 rows × 9 columns</p>\n",
       "</div>"
      ],
      "text/plain": [
       "       InvoiceNo StockCode                          Description  Quantity  \\\n",
       "0         536365    85123A   WHITE HANGING HEART T-LIGHT HOLDER       6.0   \n",
       "1         536365     71053                  WHITE METAL LANTERN       6.0   \n",
       "2         536365    84406B       CREAM CUPID HEARTS COAT HANGER       8.0   \n",
       "3         536365    84029G  KNITTED UNION FLAG HOT WATER BOTTLE       6.0   \n",
       "4         536365    84029E       RED WOOLLY HOTTIE WHITE HEART.       6.0   \n",
       "...          ...       ...                                  ...       ...   \n",
       "541904    581587     22613          PACK OF 20 SPACEBOY NAPKINS      12.0   \n",
       "541905    581587     22899         CHILDREN'S APRON DOLLY GIRL        6.0   \n",
       "541906    581587     23254        CHILDRENS CUTLERY DOLLY GIRL        4.0   \n",
       "541907    581587     23255      CHILDRENS CUTLERY CIRCUS PARADE       4.0   \n",
       "541908    581587     22138        BAKING SET 9 PIECE RETROSPOT        3.0   \n",
       "\n",
       "               InvoiceDate  UnitPrice CustomerID         Country  TotalPrice  \n",
       "0      2010-12-01 08:26:00       2.55      17850  United Kingdom       15.30  \n",
       "1      2010-12-01 08:26:00       3.39      17850  United Kingdom       20.34  \n",
       "2      2010-12-01 08:26:00       2.75      17850  United Kingdom       22.00  \n",
       "3      2010-12-01 08:26:00       3.39      17850  United Kingdom       20.34  \n",
       "4      2010-12-01 08:26:00       3.39      17850  United Kingdom       20.34  \n",
       "...                    ...        ...        ...             ...         ...  \n",
       "541904 2011-12-09 12:50:00       0.85      12680          France       10.20  \n",
       "541905 2011-12-09 12:50:00       2.10      12680          France       12.60  \n",
       "541906 2011-12-09 12:50:00       4.15      12680          France       16.60  \n",
       "541907 2011-12-09 12:50:00       4.15      12680          France       16.60  \n",
       "541908 2011-12-09 12:50:00       4.95      12680          France       14.85  \n",
       "\n",
       "[397924 rows x 9 columns]"
      ]
     },
     "metadata": {},
     "output_type": "display_data"
    },
    {
     "data": {
      "application/vnd.plotly.v1+json": {
       "config": {
        "plotlyServerURL": "https://plot.ly"
       },
       "data": [
        {
         "hovertext": [
          "Netherlands",
          "United Kingdom",
          "EIRE",
          "United Kingdom",
          "Australia",
          "EIRE",
          "United Kingdom",
          "United Kingdom",
          "United Kingdom",
          "United Kingdom"
         ],
         "marker": {
          "color": [
           266163.525,
           231584.345,
           139033.73,
           131710.645,
           120210.355,
           115721.47,
           90952.235,
           63785.025,
           61879.135,
           60767.9
          ],
          "colorscale": [
           [
            0,
            "#440154"
           ],
           [
            0.1111111111111111,
            "#482878"
           ],
           [
            0.2222222222222222,
            "#3e4989"
           ],
           [
            0.3333333333333333,
            "#31688e"
           ],
           [
            0.4444444444444444,
            "#26828e"
           ],
           [
            0.5555555555555556,
            "#1f9e89"
           ],
           [
            0.6666666666666666,
            "#35b779"
           ],
           [
            0.7777777777777778,
            "#6ece58"
           ],
           [
            0.8888888888888888,
            "#b5de2b"
           ],
           [
            1,
            "#fde725"
           ]
          ]
         },
         "textposition": "inside",
         "texttemplate": "£%{y:.3s}",
         "type": "bar",
         "x": [
          "14646",
          "18102",
          "14911",
          "17450",
          "12415",
          "14156",
          "17511",
          "13694",
          "16684",
          "15311"
         ],
         "y": [
          266163.525,
          231584.345,
          139033.73,
          131710.645,
          120210.355,
          115721.47,
          90952.235,
          63785.025,
          61879.135,
          60767.9
         ]
        }
       ],
       "layout": {
        "bargap": 0.2,
        "barmode": "relative",
        "height": 700,
        "plot_bgcolor": "white",
        "template": {
         "data": {
          "bar": [
           {
            "error_x": {
             "color": "#2a3f5f"
            },
            "error_y": {
             "color": "#2a3f5f"
            },
            "marker": {
             "line": {
              "color": "#E5ECF6",
              "width": 0.5
             },
             "pattern": {
              "fillmode": "overlay",
              "size": 10,
              "solidity": 0.2
             }
            },
            "type": "bar"
           }
          ],
          "barpolar": [
           {
            "marker": {
             "line": {
              "color": "#E5ECF6",
              "width": 0.5
             },
             "pattern": {
              "fillmode": "overlay",
              "size": 10,
              "solidity": 0.2
             }
            },
            "type": "barpolar"
           }
          ],
          "carpet": [
           {
            "aaxis": {
             "endlinecolor": "#2a3f5f",
             "gridcolor": "white",
             "linecolor": "white",
             "minorgridcolor": "white",
             "startlinecolor": "#2a3f5f"
            },
            "baxis": {
             "endlinecolor": "#2a3f5f",
             "gridcolor": "white",
             "linecolor": "white",
             "minorgridcolor": "white",
             "startlinecolor": "#2a3f5f"
            },
            "type": "carpet"
           }
          ],
          "choropleth": [
           {
            "colorbar": {
             "outlinewidth": 0,
             "ticks": ""
            },
            "type": "choropleth"
           }
          ],
          "contour": [
           {
            "colorbar": {
             "outlinewidth": 0,
             "ticks": ""
            },
            "colorscale": [
             [
              0,
              "#0d0887"
             ],
             [
              0.1111111111111111,
              "#46039f"
             ],
             [
              0.2222222222222222,
              "#7201a8"
             ],
             [
              0.3333333333333333,
              "#9c179e"
             ],
             [
              0.4444444444444444,
              "#bd3786"
             ],
             [
              0.5555555555555556,
              "#d8576b"
             ],
             [
              0.6666666666666666,
              "#ed7953"
             ],
             [
              0.7777777777777778,
              "#fb9f3a"
             ],
             [
              0.8888888888888888,
              "#fdca26"
             ],
             [
              1,
              "#f0f921"
             ]
            ],
            "type": "contour"
           }
          ],
          "contourcarpet": [
           {
            "colorbar": {
             "outlinewidth": 0,
             "ticks": ""
            },
            "type": "contourcarpet"
           }
          ],
          "heatmap": [
           {
            "colorbar": {
             "outlinewidth": 0,
             "ticks": ""
            },
            "colorscale": [
             [
              0,
              "#0d0887"
             ],
             [
              0.1111111111111111,
              "#46039f"
             ],
             [
              0.2222222222222222,
              "#7201a8"
             ],
             [
              0.3333333333333333,
              "#9c179e"
             ],
             [
              0.4444444444444444,
              "#bd3786"
             ],
             [
              0.5555555555555556,
              "#d8576b"
             ],
             [
              0.6666666666666666,
              "#ed7953"
             ],
             [
              0.7777777777777778,
              "#fb9f3a"
             ],
             [
              0.8888888888888888,
              "#fdca26"
             ],
             [
              1,
              "#f0f921"
             ]
            ],
            "type": "heatmap"
           }
          ],
          "heatmapgl": [
           {
            "colorbar": {
             "outlinewidth": 0,
             "ticks": ""
            },
            "colorscale": [
             [
              0,
              "#0d0887"
             ],
             [
              0.1111111111111111,
              "#46039f"
             ],
             [
              0.2222222222222222,
              "#7201a8"
             ],
             [
              0.3333333333333333,
              "#9c179e"
             ],
             [
              0.4444444444444444,
              "#bd3786"
             ],
             [
              0.5555555555555556,
              "#d8576b"
             ],
             [
              0.6666666666666666,
              "#ed7953"
             ],
             [
              0.7777777777777778,
              "#fb9f3a"
             ],
             [
              0.8888888888888888,
              "#fdca26"
             ],
             [
              1,
              "#f0f921"
             ]
            ],
            "type": "heatmapgl"
           }
          ],
          "histogram": [
           {
            "marker": {
             "pattern": {
              "fillmode": "overlay",
              "size": 10,
              "solidity": 0.2
             }
            },
            "type": "histogram"
           }
          ],
          "histogram2d": [
           {
            "colorbar": {
             "outlinewidth": 0,
             "ticks": ""
            },
            "colorscale": [
             [
              0,
              "#0d0887"
             ],
             [
              0.1111111111111111,
              "#46039f"
             ],
             [
              0.2222222222222222,
              "#7201a8"
             ],
             [
              0.3333333333333333,
              "#9c179e"
             ],
             [
              0.4444444444444444,
              "#bd3786"
             ],
             [
              0.5555555555555556,
              "#d8576b"
             ],
             [
              0.6666666666666666,
              "#ed7953"
             ],
             [
              0.7777777777777778,
              "#fb9f3a"
             ],
             [
              0.8888888888888888,
              "#fdca26"
             ],
             [
              1,
              "#f0f921"
             ]
            ],
            "type": "histogram2d"
           }
          ],
          "histogram2dcontour": [
           {
            "colorbar": {
             "outlinewidth": 0,
             "ticks": ""
            },
            "colorscale": [
             [
              0,
              "#0d0887"
             ],
             [
              0.1111111111111111,
              "#46039f"
             ],
             [
              0.2222222222222222,
              "#7201a8"
             ],
             [
              0.3333333333333333,
              "#9c179e"
             ],
             [
              0.4444444444444444,
              "#bd3786"
             ],
             [
              0.5555555555555556,
              "#d8576b"
             ],
             [
              0.6666666666666666,
              "#ed7953"
             ],
             [
              0.7777777777777778,
              "#fb9f3a"
             ],
             [
              0.8888888888888888,
              "#fdca26"
             ],
             [
              1,
              "#f0f921"
             ]
            ],
            "type": "histogram2dcontour"
           }
          ],
          "mesh3d": [
           {
            "colorbar": {
             "outlinewidth": 0,
             "ticks": ""
            },
            "type": "mesh3d"
           }
          ],
          "parcoords": [
           {
            "line": {
             "colorbar": {
              "outlinewidth": 0,
              "ticks": ""
             }
            },
            "type": "parcoords"
           }
          ],
          "pie": [
           {
            "automargin": true,
            "type": "pie"
           }
          ],
          "scatter": [
           {
            "fillpattern": {
             "fillmode": "overlay",
             "size": 10,
             "solidity": 0.2
            },
            "type": "scatter"
           }
          ],
          "scatter3d": [
           {
            "line": {
             "colorbar": {
              "outlinewidth": 0,
              "ticks": ""
             }
            },
            "marker": {
             "colorbar": {
              "outlinewidth": 0,
              "ticks": ""
             }
            },
            "type": "scatter3d"
           }
          ],
          "scattercarpet": [
           {
            "marker": {
             "colorbar": {
              "outlinewidth": 0,
              "ticks": ""
             }
            },
            "type": "scattercarpet"
           }
          ],
          "scattergeo": [
           {
            "marker": {
             "colorbar": {
              "outlinewidth": 0,
              "ticks": ""
             }
            },
            "type": "scattergeo"
           }
          ],
          "scattergl": [
           {
            "marker": {
             "colorbar": {
              "outlinewidth": 0,
              "ticks": ""
             }
            },
            "type": "scattergl"
           }
          ],
          "scattermapbox": [
           {
            "marker": {
             "colorbar": {
              "outlinewidth": 0,
              "ticks": ""
             }
            },
            "type": "scattermapbox"
           }
          ],
          "scatterpolar": [
           {
            "marker": {
             "colorbar": {
              "outlinewidth": 0,
              "ticks": ""
             }
            },
            "type": "scatterpolar"
           }
          ],
          "scatterpolargl": [
           {
            "marker": {
             "colorbar": {
              "outlinewidth": 0,
              "ticks": ""
             }
            },
            "type": "scatterpolargl"
           }
          ],
          "scatterternary": [
           {
            "marker": {
             "colorbar": {
              "outlinewidth": 0,
              "ticks": ""
             }
            },
            "type": "scatterternary"
           }
          ],
          "surface": [
           {
            "colorbar": {
             "outlinewidth": 0,
             "ticks": ""
            },
            "colorscale": [
             [
              0,
              "#0d0887"
             ],
             [
              0.1111111111111111,
              "#46039f"
             ],
             [
              0.2222222222222222,
              "#7201a8"
             ],
             [
              0.3333333333333333,
              "#9c179e"
             ],
             [
              0.4444444444444444,
              "#bd3786"
             ],
             [
              0.5555555555555556,
              "#d8576b"
             ],
             [
              0.6666666666666666,
              "#ed7953"
             ],
             [
              0.7777777777777778,
              "#fb9f3a"
             ],
             [
              0.8888888888888888,
              "#fdca26"
             ],
             [
              1,
              "#f0f921"
             ]
            ],
            "type": "surface"
           }
          ],
          "table": [
           {
            "cells": {
             "fill": {
              "color": "#EBF0F8"
             },
             "line": {
              "color": "white"
             }
            },
            "header": {
             "fill": {
              "color": "#C8D4E3"
             },
             "line": {
              "color": "white"
             }
            },
            "type": "table"
           }
          ]
         },
         "layout": {
          "annotationdefaults": {
           "arrowcolor": "#2a3f5f",
           "arrowhead": 0,
           "arrowwidth": 1
          },
          "autotypenumbers": "strict",
          "coloraxis": {
           "colorbar": {
            "outlinewidth": 0,
            "ticks": ""
           }
          },
          "colorscale": {
           "diverging": [
            [
             0,
             "#8e0152"
            ],
            [
             0.1,
             "#c51b7d"
            ],
            [
             0.2,
             "#de77ae"
            ],
            [
             0.3,
             "#f1b6da"
            ],
            [
             0.4,
             "#fde0ef"
            ],
            [
             0.5,
             "#f7f7f7"
            ],
            [
             0.6,
             "#e6f5d0"
            ],
            [
             0.7,
             "#b8e186"
            ],
            [
             0.8,
             "#7fbc41"
            ],
            [
             0.9,
             "#4d9221"
            ],
            [
             1,
             "#276419"
            ]
           ],
           "sequential": [
            [
             0,
             "#0d0887"
            ],
            [
             0.1111111111111111,
             "#46039f"
            ],
            [
             0.2222222222222222,
             "#7201a8"
            ],
            [
             0.3333333333333333,
             "#9c179e"
            ],
            [
             0.4444444444444444,
             "#bd3786"
            ],
            [
             0.5555555555555556,
             "#d8576b"
            ],
            [
             0.6666666666666666,
             "#ed7953"
            ],
            [
             0.7777777777777778,
             "#fb9f3a"
            ],
            [
             0.8888888888888888,
             "#fdca26"
            ],
            [
             1,
             "#f0f921"
            ]
           ],
           "sequentialminus": [
            [
             0,
             "#0d0887"
            ],
            [
             0.1111111111111111,
             "#46039f"
            ],
            [
             0.2222222222222222,
             "#7201a8"
            ],
            [
             0.3333333333333333,
             "#9c179e"
            ],
            [
             0.4444444444444444,
             "#bd3786"
            ],
            [
             0.5555555555555556,
             "#d8576b"
            ],
            [
             0.6666666666666666,
             "#ed7953"
            ],
            [
             0.7777777777777778,
             "#fb9f3a"
            ],
            [
             0.8888888888888888,
             "#fdca26"
            ],
            [
             1,
             "#f0f921"
            ]
           ]
          },
          "colorway": [
           "#636efa",
           "#EF553B",
           "#00cc96",
           "#ab63fa",
           "#FFA15A",
           "#19d3f3",
           "#FF6692",
           "#B6E880",
           "#FF97FF",
           "#FECB52"
          ],
          "font": {
           "color": "#2a3f5f"
          },
          "geo": {
           "bgcolor": "white",
           "lakecolor": "white",
           "landcolor": "#E5ECF6",
           "showlakes": true,
           "showland": true,
           "subunitcolor": "white"
          },
          "hoverlabel": {
           "align": "left"
          },
          "hovermode": "closest",
          "mapbox": {
           "style": "light"
          },
          "paper_bgcolor": "white",
          "plot_bgcolor": "#E5ECF6",
          "polar": {
           "angularaxis": {
            "gridcolor": "white",
            "linecolor": "white",
            "ticks": ""
           },
           "bgcolor": "#E5ECF6",
           "radialaxis": {
            "gridcolor": "white",
            "linecolor": "white",
            "ticks": ""
           }
          },
          "scene": {
           "xaxis": {
            "backgroundcolor": "#E5ECF6",
            "gridcolor": "white",
            "gridwidth": 2,
            "linecolor": "white",
            "showbackground": true,
            "ticks": "",
            "zerolinecolor": "white"
           },
           "yaxis": {
            "backgroundcolor": "#E5ECF6",
            "gridcolor": "white",
            "gridwidth": 2,
            "linecolor": "white",
            "showbackground": true,
            "ticks": "",
            "zerolinecolor": "white"
           },
           "zaxis": {
            "backgroundcolor": "#E5ECF6",
            "gridcolor": "white",
            "gridwidth": 2,
            "linecolor": "white",
            "showbackground": true,
            "ticks": "",
            "zerolinecolor": "white"
           }
          },
          "shapedefaults": {
           "line": {
            "color": "#2a3f5f"
           }
          },
          "ternary": {
           "aaxis": {
            "gridcolor": "white",
            "linecolor": "white",
            "ticks": ""
           },
           "baxis": {
            "gridcolor": "white",
            "linecolor": "white",
            "ticks": ""
           },
           "bgcolor": "#E5ECF6",
           "caxis": {
            "gridcolor": "white",
            "linecolor": "white",
            "ticks": ""
           }
          },
          "title": {
           "x": 0.05
          },
          "xaxis": {
           "automargin": true,
           "gridcolor": "white",
           "linecolor": "white",
           "ticks": "",
           "title": {
            "standoff": 15
           },
           "zerolinecolor": "white",
           "zerolinewidth": 2
          },
          "yaxis": {
           "automargin": true,
           "gridcolor": "white",
           "linecolor": "white",
           "ticks": "",
           "title": {
            "standoff": 15
           },
           "zerolinecolor": "white",
           "zerolinewidth": 2
          }
         }
        },
        "title": {
         "text": "Top 10 Best Customers",
         "x": 0.5
        },
        "width": 800,
        "xaxis": {
         "tickangle": 0,
         "title": {
          "text": "CustomerID"
         }
        },
        "yaxis": {
         "title": {
          "text": "Money Spent"
         }
        }
       }
      }
     },
     "metadata": {},
     "output_type": "display_data"
    }
   ],
   "source": [
    "display(df_preprocessed)\n",
    "customers = df_preprocessed.groupby([\"CustomerID\", \"Country\"], as_index=False)[\"TotalPrice\"].agg('sum')\n",
    "best_customers = customers.sort_values(\"TotalPrice\", ascending=False).head(10)\n",
    "best_customers\n",
    "\n",
    "fig = go.Figure(data=[go.Bar(x=best_customers[\"CustomerID\"].astype(str),\n",
    "                             y=best_customers['TotalPrice'], \n",
    "                             hovertext=best_customers[\"Country\"],\n",
    "                             marker={'color' : best_customers['TotalPrice'],\n",
    "                                     'colorscale' : 'viridis'},\n",
    "                             texttemplate='£%{y:.3s}',\n",
    "                             textposition='outside',\n",
    "                             )])\n",
    "\n",
    "fig.update_traces(textposition=\"inside\")\n",
    "\n",
    "fig.update_layout(\n",
    "    title='Top 10 Best Customers',\n",
    "    title_x=0.5,\n",
    "    xaxis_title='CustomerID',\n",
    "    yaxis_title='Money Spent',\n",
    "    plot_bgcolor='white',\n",
    "    barmode='relative', # 'relative for stacked bars\n",
    "    bargap=0.2, # Gap between bars\n",
    "    width=800,\n",
    "    height=700,\n",
    ")\n",
    "\n",
    "fig.update_xaxes(tickangle=0) # Rotates the x-axis labels\n",
    "\n",
    "fig.show()\n"
   ]
  },
  {
   "cell_type": "markdown",
   "metadata": {},
   "source": [
    "## Worst Customers"
   ]
  },
  {
   "cell_type": "code",
   "execution_count": 10,
   "metadata": {},
   "outputs": [
    {
     "data": {
      "text/html": [
       "<div>\n",
       "<style scoped>\n",
       "    .dataframe tbody tr th:only-of-type {\n",
       "        vertical-align: middle;\n",
       "    }\n",
       "\n",
       "    .dataframe tbody tr th {\n",
       "        vertical-align: top;\n",
       "    }\n",
       "\n",
       "    .dataframe thead th {\n",
       "        text-align: right;\n",
       "    }\n",
       "</style>\n",
       "<table border=\"1\" class=\"dataframe\">\n",
       "  <thead>\n",
       "    <tr style=\"text-align: right;\">\n",
       "      <th></th>\n",
       "      <th>InvoiceNo</th>\n",
       "      <th>StockCode</th>\n",
       "      <th>Description</th>\n",
       "      <th>Quantity</th>\n",
       "      <th>InvoiceDate</th>\n",
       "      <th>UnitPrice</th>\n",
       "      <th>CustomerID</th>\n",
       "      <th>Country</th>\n",
       "      <th>TotalPrice</th>\n",
       "    </tr>\n",
       "  </thead>\n",
       "  <tbody>\n",
       "    <tr>\n",
       "      <th>0</th>\n",
       "      <td>536365</td>\n",
       "      <td>85123A</td>\n",
       "      <td>WHITE HANGING HEART T-LIGHT HOLDER</td>\n",
       "      <td>6.0</td>\n",
       "      <td>2010-12-01 08:26:00</td>\n",
       "      <td>2.55</td>\n",
       "      <td>17850</td>\n",
       "      <td>United Kingdom</td>\n",
       "      <td>15.30</td>\n",
       "    </tr>\n",
       "    <tr>\n",
       "      <th>1</th>\n",
       "      <td>536365</td>\n",
       "      <td>71053</td>\n",
       "      <td>WHITE METAL LANTERN</td>\n",
       "      <td>6.0</td>\n",
       "      <td>2010-12-01 08:26:00</td>\n",
       "      <td>3.39</td>\n",
       "      <td>17850</td>\n",
       "      <td>United Kingdom</td>\n",
       "      <td>20.34</td>\n",
       "    </tr>\n",
       "    <tr>\n",
       "      <th>2</th>\n",
       "      <td>536365</td>\n",
       "      <td>84406B</td>\n",
       "      <td>CREAM CUPID HEARTS COAT HANGER</td>\n",
       "      <td>8.0</td>\n",
       "      <td>2010-12-01 08:26:00</td>\n",
       "      <td>2.75</td>\n",
       "      <td>17850</td>\n",
       "      <td>United Kingdom</td>\n",
       "      <td>22.00</td>\n",
       "    </tr>\n",
       "    <tr>\n",
       "      <th>3</th>\n",
       "      <td>536365</td>\n",
       "      <td>84029G</td>\n",
       "      <td>KNITTED UNION FLAG HOT WATER BOTTLE</td>\n",
       "      <td>6.0</td>\n",
       "      <td>2010-12-01 08:26:00</td>\n",
       "      <td>3.39</td>\n",
       "      <td>17850</td>\n",
       "      <td>United Kingdom</td>\n",
       "      <td>20.34</td>\n",
       "    </tr>\n",
       "    <tr>\n",
       "      <th>4</th>\n",
       "      <td>536365</td>\n",
       "      <td>84029E</td>\n",
       "      <td>RED WOOLLY HOTTIE WHITE HEART.</td>\n",
       "      <td>6.0</td>\n",
       "      <td>2010-12-01 08:26:00</td>\n",
       "      <td>3.39</td>\n",
       "      <td>17850</td>\n",
       "      <td>United Kingdom</td>\n",
       "      <td>20.34</td>\n",
       "    </tr>\n",
       "    <tr>\n",
       "      <th>...</th>\n",
       "      <td>...</td>\n",
       "      <td>...</td>\n",
       "      <td>...</td>\n",
       "      <td>...</td>\n",
       "      <td>...</td>\n",
       "      <td>...</td>\n",
       "      <td>...</td>\n",
       "      <td>...</td>\n",
       "      <td>...</td>\n",
       "    </tr>\n",
       "    <tr>\n",
       "      <th>541904</th>\n",
       "      <td>581587</td>\n",
       "      <td>22613</td>\n",
       "      <td>PACK OF 20 SPACEBOY NAPKINS</td>\n",
       "      <td>12.0</td>\n",
       "      <td>2011-12-09 12:50:00</td>\n",
       "      <td>0.85</td>\n",
       "      <td>12680</td>\n",
       "      <td>France</td>\n",
       "      <td>10.20</td>\n",
       "    </tr>\n",
       "    <tr>\n",
       "      <th>541905</th>\n",
       "      <td>581587</td>\n",
       "      <td>22899</td>\n",
       "      <td>CHILDREN'S APRON DOLLY GIRL</td>\n",
       "      <td>6.0</td>\n",
       "      <td>2011-12-09 12:50:00</td>\n",
       "      <td>2.10</td>\n",
       "      <td>12680</td>\n",
       "      <td>France</td>\n",
       "      <td>12.60</td>\n",
       "    </tr>\n",
       "    <tr>\n",
       "      <th>541906</th>\n",
       "      <td>581587</td>\n",
       "      <td>23254</td>\n",
       "      <td>CHILDRENS CUTLERY DOLLY GIRL</td>\n",
       "      <td>4.0</td>\n",
       "      <td>2011-12-09 12:50:00</td>\n",
       "      <td>4.15</td>\n",
       "      <td>12680</td>\n",
       "      <td>France</td>\n",
       "      <td>16.60</td>\n",
       "    </tr>\n",
       "    <tr>\n",
       "      <th>541907</th>\n",
       "      <td>581587</td>\n",
       "      <td>23255</td>\n",
       "      <td>CHILDRENS CUTLERY CIRCUS PARADE</td>\n",
       "      <td>4.0</td>\n",
       "      <td>2011-12-09 12:50:00</td>\n",
       "      <td>4.15</td>\n",
       "      <td>12680</td>\n",
       "      <td>France</td>\n",
       "      <td>16.60</td>\n",
       "    </tr>\n",
       "    <tr>\n",
       "      <th>541908</th>\n",
       "      <td>581587</td>\n",
       "      <td>22138</td>\n",
       "      <td>BAKING SET 9 PIECE RETROSPOT</td>\n",
       "      <td>3.0</td>\n",
       "      <td>2011-12-09 12:50:00</td>\n",
       "      <td>4.95</td>\n",
       "      <td>12680</td>\n",
       "      <td>France</td>\n",
       "      <td>14.85</td>\n",
       "    </tr>\n",
       "  </tbody>\n",
       "</table>\n",
       "<p>397924 rows × 9 columns</p>\n",
       "</div>"
      ],
      "text/plain": [
       "       InvoiceNo StockCode                          Description  Quantity  \\\n",
       "0         536365    85123A   WHITE HANGING HEART T-LIGHT HOLDER       6.0   \n",
       "1         536365     71053                  WHITE METAL LANTERN       6.0   \n",
       "2         536365    84406B       CREAM CUPID HEARTS COAT HANGER       8.0   \n",
       "3         536365    84029G  KNITTED UNION FLAG HOT WATER BOTTLE       6.0   \n",
       "4         536365    84029E       RED WOOLLY HOTTIE WHITE HEART.       6.0   \n",
       "...          ...       ...                                  ...       ...   \n",
       "541904    581587     22613          PACK OF 20 SPACEBOY NAPKINS      12.0   \n",
       "541905    581587     22899         CHILDREN'S APRON DOLLY GIRL        6.0   \n",
       "541906    581587     23254        CHILDRENS CUTLERY DOLLY GIRL        4.0   \n",
       "541907    581587     23255      CHILDRENS CUTLERY CIRCUS PARADE       4.0   \n",
       "541908    581587     22138        BAKING SET 9 PIECE RETROSPOT        3.0   \n",
       "\n",
       "               InvoiceDate  UnitPrice CustomerID         Country  TotalPrice  \n",
       "0      2010-12-01 08:26:00       2.55      17850  United Kingdom       15.30  \n",
       "1      2010-12-01 08:26:00       3.39      17850  United Kingdom       20.34  \n",
       "2      2010-12-01 08:26:00       2.75      17850  United Kingdom       22.00  \n",
       "3      2010-12-01 08:26:00       3.39      17850  United Kingdom       20.34  \n",
       "4      2010-12-01 08:26:00       3.39      17850  United Kingdom       20.34  \n",
       "...                    ...        ...        ...             ...         ...  \n",
       "541904 2011-12-09 12:50:00       0.85      12680          France       10.20  \n",
       "541905 2011-12-09 12:50:00       2.10      12680          France       12.60  \n",
       "541906 2011-12-09 12:50:00       4.15      12680          France       16.60  \n",
       "541907 2011-12-09 12:50:00       4.15      12680          France       16.60  \n",
       "541908 2011-12-09 12:50:00       4.95      12680          France       14.85  \n",
       "\n",
       "[397924 rows x 9 columns]"
      ]
     },
     "metadata": {},
     "output_type": "display_data"
    },
    {
     "data": {
      "application/vnd.plotly.v1+json": {
       "config": {
        "plotlyServerURL": "https://plot.ly"
       },
       "data": [
        {
         "hovertext": [
          "United Kingdom",
          "United Kingdom",
          "United Kingdom",
          "United Kingdom",
          "United Kingdom",
          "United Kingdom",
          "United Kingdom",
          "United Kingdom",
          "United Kingdom",
          "United Kingdom"
         ],
         "marker": {
          "color": [
           0,
           3.75,
           6.2,
           6.9,
           12.75,
           13.3,
           15,
           15,
           15,
           17
          ],
          "colorscale": [
           [
            0,
            "#440154"
           ],
           [
            0.1111111111111111,
            "#482878"
           ],
           [
            0.2222222222222222,
            "#3e4989"
           ],
           [
            0.3333333333333333,
            "#31688e"
           ],
           [
            0.4444444444444444,
            "#26828e"
           ],
           [
            0.5555555555555556,
            "#1f9e89"
           ],
           [
            0.6666666666666666,
            "#35b779"
           ],
           [
            0.7777777777777778,
            "#6ece58"
           ],
           [
            0.8888888888888888,
            "#b5de2b"
           ],
           [
            1,
            "#fde725"
           ]
          ]
         },
         "textposition": "inside",
         "texttemplate": "£%{y:.3s}",
         "type": "bar",
         "x": [
          "13256",
          "16738",
          "14792",
          "16454",
          "17956",
          "16878",
          "15823",
          "17763",
          "13307",
          "16093"
         ],
         "y": [
          0,
          3.75,
          6.2,
          6.9,
          12.75,
          13.3,
          15,
          15,
          15,
          17
         ]
        }
       ],
       "layout": {
        "bargap": 0.2,
        "barmode": "relative",
        "height": 700,
        "plot_bgcolor": "white",
        "template": {
         "data": {
          "bar": [
           {
            "error_x": {
             "color": "#2a3f5f"
            },
            "error_y": {
             "color": "#2a3f5f"
            },
            "marker": {
             "line": {
              "color": "#E5ECF6",
              "width": 0.5
             },
             "pattern": {
              "fillmode": "overlay",
              "size": 10,
              "solidity": 0.2
             }
            },
            "type": "bar"
           }
          ],
          "barpolar": [
           {
            "marker": {
             "line": {
              "color": "#E5ECF6",
              "width": 0.5
             },
             "pattern": {
              "fillmode": "overlay",
              "size": 10,
              "solidity": 0.2
             }
            },
            "type": "barpolar"
           }
          ],
          "carpet": [
           {
            "aaxis": {
             "endlinecolor": "#2a3f5f",
             "gridcolor": "white",
             "linecolor": "white",
             "minorgridcolor": "white",
             "startlinecolor": "#2a3f5f"
            },
            "baxis": {
             "endlinecolor": "#2a3f5f",
             "gridcolor": "white",
             "linecolor": "white",
             "minorgridcolor": "white",
             "startlinecolor": "#2a3f5f"
            },
            "type": "carpet"
           }
          ],
          "choropleth": [
           {
            "colorbar": {
             "outlinewidth": 0,
             "ticks": ""
            },
            "type": "choropleth"
           }
          ],
          "contour": [
           {
            "colorbar": {
             "outlinewidth": 0,
             "ticks": ""
            },
            "colorscale": [
             [
              0,
              "#0d0887"
             ],
             [
              0.1111111111111111,
              "#46039f"
             ],
             [
              0.2222222222222222,
              "#7201a8"
             ],
             [
              0.3333333333333333,
              "#9c179e"
             ],
             [
              0.4444444444444444,
              "#bd3786"
             ],
             [
              0.5555555555555556,
              "#d8576b"
             ],
             [
              0.6666666666666666,
              "#ed7953"
             ],
             [
              0.7777777777777778,
              "#fb9f3a"
             ],
             [
              0.8888888888888888,
              "#fdca26"
             ],
             [
              1,
              "#f0f921"
             ]
            ],
            "type": "contour"
           }
          ],
          "contourcarpet": [
           {
            "colorbar": {
             "outlinewidth": 0,
             "ticks": ""
            },
            "type": "contourcarpet"
           }
          ],
          "heatmap": [
           {
            "colorbar": {
             "outlinewidth": 0,
             "ticks": ""
            },
            "colorscale": [
             [
              0,
              "#0d0887"
             ],
             [
              0.1111111111111111,
              "#46039f"
             ],
             [
              0.2222222222222222,
              "#7201a8"
             ],
             [
              0.3333333333333333,
              "#9c179e"
             ],
             [
              0.4444444444444444,
              "#bd3786"
             ],
             [
              0.5555555555555556,
              "#d8576b"
             ],
             [
              0.6666666666666666,
              "#ed7953"
             ],
             [
              0.7777777777777778,
              "#fb9f3a"
             ],
             [
              0.8888888888888888,
              "#fdca26"
             ],
             [
              1,
              "#f0f921"
             ]
            ],
            "type": "heatmap"
           }
          ],
          "heatmapgl": [
           {
            "colorbar": {
             "outlinewidth": 0,
             "ticks": ""
            },
            "colorscale": [
             [
              0,
              "#0d0887"
             ],
             [
              0.1111111111111111,
              "#46039f"
             ],
             [
              0.2222222222222222,
              "#7201a8"
             ],
             [
              0.3333333333333333,
              "#9c179e"
             ],
             [
              0.4444444444444444,
              "#bd3786"
             ],
             [
              0.5555555555555556,
              "#d8576b"
             ],
             [
              0.6666666666666666,
              "#ed7953"
             ],
             [
              0.7777777777777778,
              "#fb9f3a"
             ],
             [
              0.8888888888888888,
              "#fdca26"
             ],
             [
              1,
              "#f0f921"
             ]
            ],
            "type": "heatmapgl"
           }
          ],
          "histogram": [
           {
            "marker": {
             "pattern": {
              "fillmode": "overlay",
              "size": 10,
              "solidity": 0.2
             }
            },
            "type": "histogram"
           }
          ],
          "histogram2d": [
           {
            "colorbar": {
             "outlinewidth": 0,
             "ticks": ""
            },
            "colorscale": [
             [
              0,
              "#0d0887"
             ],
             [
              0.1111111111111111,
              "#46039f"
             ],
             [
              0.2222222222222222,
              "#7201a8"
             ],
             [
              0.3333333333333333,
              "#9c179e"
             ],
             [
              0.4444444444444444,
              "#bd3786"
             ],
             [
              0.5555555555555556,
              "#d8576b"
             ],
             [
              0.6666666666666666,
              "#ed7953"
             ],
             [
              0.7777777777777778,
              "#fb9f3a"
             ],
             [
              0.8888888888888888,
              "#fdca26"
             ],
             [
              1,
              "#f0f921"
             ]
            ],
            "type": "histogram2d"
           }
          ],
          "histogram2dcontour": [
           {
            "colorbar": {
             "outlinewidth": 0,
             "ticks": ""
            },
            "colorscale": [
             [
              0,
              "#0d0887"
             ],
             [
              0.1111111111111111,
              "#46039f"
             ],
             [
              0.2222222222222222,
              "#7201a8"
             ],
             [
              0.3333333333333333,
              "#9c179e"
             ],
             [
              0.4444444444444444,
              "#bd3786"
             ],
             [
              0.5555555555555556,
              "#d8576b"
             ],
             [
              0.6666666666666666,
              "#ed7953"
             ],
             [
              0.7777777777777778,
              "#fb9f3a"
             ],
             [
              0.8888888888888888,
              "#fdca26"
             ],
             [
              1,
              "#f0f921"
             ]
            ],
            "type": "histogram2dcontour"
           }
          ],
          "mesh3d": [
           {
            "colorbar": {
             "outlinewidth": 0,
             "ticks": ""
            },
            "type": "mesh3d"
           }
          ],
          "parcoords": [
           {
            "line": {
             "colorbar": {
              "outlinewidth": 0,
              "ticks": ""
             }
            },
            "type": "parcoords"
           }
          ],
          "pie": [
           {
            "automargin": true,
            "type": "pie"
           }
          ],
          "scatter": [
           {
            "fillpattern": {
             "fillmode": "overlay",
             "size": 10,
             "solidity": 0.2
            },
            "type": "scatter"
           }
          ],
          "scatter3d": [
           {
            "line": {
             "colorbar": {
              "outlinewidth": 0,
              "ticks": ""
             }
            },
            "marker": {
             "colorbar": {
              "outlinewidth": 0,
              "ticks": ""
             }
            },
            "type": "scatter3d"
           }
          ],
          "scattercarpet": [
           {
            "marker": {
             "colorbar": {
              "outlinewidth": 0,
              "ticks": ""
             }
            },
            "type": "scattercarpet"
           }
          ],
          "scattergeo": [
           {
            "marker": {
             "colorbar": {
              "outlinewidth": 0,
              "ticks": ""
             }
            },
            "type": "scattergeo"
           }
          ],
          "scattergl": [
           {
            "marker": {
             "colorbar": {
              "outlinewidth": 0,
              "ticks": ""
             }
            },
            "type": "scattergl"
           }
          ],
          "scattermapbox": [
           {
            "marker": {
             "colorbar": {
              "outlinewidth": 0,
              "ticks": ""
             }
            },
            "type": "scattermapbox"
           }
          ],
          "scatterpolar": [
           {
            "marker": {
             "colorbar": {
              "outlinewidth": 0,
              "ticks": ""
             }
            },
            "type": "scatterpolar"
           }
          ],
          "scatterpolargl": [
           {
            "marker": {
             "colorbar": {
              "outlinewidth": 0,
              "ticks": ""
             }
            },
            "type": "scatterpolargl"
           }
          ],
          "scatterternary": [
           {
            "marker": {
             "colorbar": {
              "outlinewidth": 0,
              "ticks": ""
             }
            },
            "type": "scatterternary"
           }
          ],
          "surface": [
           {
            "colorbar": {
             "outlinewidth": 0,
             "ticks": ""
            },
            "colorscale": [
             [
              0,
              "#0d0887"
             ],
             [
              0.1111111111111111,
              "#46039f"
             ],
             [
              0.2222222222222222,
              "#7201a8"
             ],
             [
              0.3333333333333333,
              "#9c179e"
             ],
             [
              0.4444444444444444,
              "#bd3786"
             ],
             [
              0.5555555555555556,
              "#d8576b"
             ],
             [
              0.6666666666666666,
              "#ed7953"
             ],
             [
              0.7777777777777778,
              "#fb9f3a"
             ],
             [
              0.8888888888888888,
              "#fdca26"
             ],
             [
              1,
              "#f0f921"
             ]
            ],
            "type": "surface"
           }
          ],
          "table": [
           {
            "cells": {
             "fill": {
              "color": "#EBF0F8"
             },
             "line": {
              "color": "white"
             }
            },
            "header": {
             "fill": {
              "color": "#C8D4E3"
             },
             "line": {
              "color": "white"
             }
            },
            "type": "table"
           }
          ]
         },
         "layout": {
          "annotationdefaults": {
           "arrowcolor": "#2a3f5f",
           "arrowhead": 0,
           "arrowwidth": 1
          },
          "autotypenumbers": "strict",
          "coloraxis": {
           "colorbar": {
            "outlinewidth": 0,
            "ticks": ""
           }
          },
          "colorscale": {
           "diverging": [
            [
             0,
             "#8e0152"
            ],
            [
             0.1,
             "#c51b7d"
            ],
            [
             0.2,
             "#de77ae"
            ],
            [
             0.3,
             "#f1b6da"
            ],
            [
             0.4,
             "#fde0ef"
            ],
            [
             0.5,
             "#f7f7f7"
            ],
            [
             0.6,
             "#e6f5d0"
            ],
            [
             0.7,
             "#b8e186"
            ],
            [
             0.8,
             "#7fbc41"
            ],
            [
             0.9,
             "#4d9221"
            ],
            [
             1,
             "#276419"
            ]
           ],
           "sequential": [
            [
             0,
             "#0d0887"
            ],
            [
             0.1111111111111111,
             "#46039f"
            ],
            [
             0.2222222222222222,
             "#7201a8"
            ],
            [
             0.3333333333333333,
             "#9c179e"
            ],
            [
             0.4444444444444444,
             "#bd3786"
            ],
            [
             0.5555555555555556,
             "#d8576b"
            ],
            [
             0.6666666666666666,
             "#ed7953"
            ],
            [
             0.7777777777777778,
             "#fb9f3a"
            ],
            [
             0.8888888888888888,
             "#fdca26"
            ],
            [
             1,
             "#f0f921"
            ]
           ],
           "sequentialminus": [
            [
             0,
             "#0d0887"
            ],
            [
             0.1111111111111111,
             "#46039f"
            ],
            [
             0.2222222222222222,
             "#7201a8"
            ],
            [
             0.3333333333333333,
             "#9c179e"
            ],
            [
             0.4444444444444444,
             "#bd3786"
            ],
            [
             0.5555555555555556,
             "#d8576b"
            ],
            [
             0.6666666666666666,
             "#ed7953"
            ],
            [
             0.7777777777777778,
             "#fb9f3a"
            ],
            [
             0.8888888888888888,
             "#fdca26"
            ],
            [
             1,
             "#f0f921"
            ]
           ]
          },
          "colorway": [
           "#636efa",
           "#EF553B",
           "#00cc96",
           "#ab63fa",
           "#FFA15A",
           "#19d3f3",
           "#FF6692",
           "#B6E880",
           "#FF97FF",
           "#FECB52"
          ],
          "font": {
           "color": "#2a3f5f"
          },
          "geo": {
           "bgcolor": "white",
           "lakecolor": "white",
           "landcolor": "#E5ECF6",
           "showlakes": true,
           "showland": true,
           "subunitcolor": "white"
          },
          "hoverlabel": {
           "align": "left"
          },
          "hovermode": "closest",
          "mapbox": {
           "style": "light"
          },
          "paper_bgcolor": "white",
          "plot_bgcolor": "#E5ECF6",
          "polar": {
           "angularaxis": {
            "gridcolor": "white",
            "linecolor": "white",
            "ticks": ""
           },
           "bgcolor": "#E5ECF6",
           "radialaxis": {
            "gridcolor": "white",
            "linecolor": "white",
            "ticks": ""
           }
          },
          "scene": {
           "xaxis": {
            "backgroundcolor": "#E5ECF6",
            "gridcolor": "white",
            "gridwidth": 2,
            "linecolor": "white",
            "showbackground": true,
            "ticks": "",
            "zerolinecolor": "white"
           },
           "yaxis": {
            "backgroundcolor": "#E5ECF6",
            "gridcolor": "white",
            "gridwidth": 2,
            "linecolor": "white",
            "showbackground": true,
            "ticks": "",
            "zerolinecolor": "white"
           },
           "zaxis": {
            "backgroundcolor": "#E5ECF6",
            "gridcolor": "white",
            "gridwidth": 2,
            "linecolor": "white",
            "showbackground": true,
            "ticks": "",
            "zerolinecolor": "white"
           }
          },
          "shapedefaults": {
           "line": {
            "color": "#2a3f5f"
           }
          },
          "ternary": {
           "aaxis": {
            "gridcolor": "white",
            "linecolor": "white",
            "ticks": ""
           },
           "baxis": {
            "gridcolor": "white",
            "linecolor": "white",
            "ticks": ""
           },
           "bgcolor": "#E5ECF6",
           "caxis": {
            "gridcolor": "white",
            "linecolor": "white",
            "ticks": ""
           }
          },
          "title": {
           "x": 0.05
          },
          "xaxis": {
           "automargin": true,
           "gridcolor": "white",
           "linecolor": "white",
           "ticks": "",
           "title": {
            "standoff": 15
           },
           "zerolinecolor": "white",
           "zerolinewidth": 2
          },
          "yaxis": {
           "automargin": true,
           "gridcolor": "white",
           "linecolor": "white",
           "ticks": "",
           "title": {
            "standoff": 15
           },
           "zerolinecolor": "white",
           "zerolinewidth": 2
          }
         }
        },
        "title": {
         "text": "Top 10 Worst Customers",
         "x": 0.5
        },
        "width": 800,
        "xaxis": {
         "tickangle": 0,
         "title": {
          "text": "CustomerID"
         }
        },
        "yaxis": {
         "title": {
          "text": "Money Spent"
         }
        }
       }
      }
     },
     "metadata": {},
     "output_type": "display_data"
    }
   ],
   "source": [
    "display(df_preprocessed)\n",
    "worst_customers = customers.sort_values(\"TotalPrice\").head(10)\n",
    "worst_customers\n",
    "fig = go.Figure(data=[go.Bar(x=worst_customers[\"CustomerID\"].astype(str),\n",
    "                             y=worst_customers['TotalPrice'], \n",
    "                             hovertext=worst_customers[\"Country\"],\n",
    "                             marker={'color' : worst_customers['TotalPrice'],\n",
    "                                     'colorscale' : 'viridis'},\n",
    "                             texttemplate='£%{y:.3s}',\n",
    "                             textposition='outside',\n",
    "                             )])\n",
    "\n",
    "fig.update_traces(textposition=\"inside\")\n",
    "\n",
    "fig.update_layout(\n",
    "    title='Top 10 Worst Customers',\n",
    "    title_x=0.5,\n",
    "    xaxis_title='CustomerID',\n",
    "    yaxis_title='Money Spent',\n",
    "    plot_bgcolor='white',\n",
    "    barmode='relative', # 'relative for stacked bars\n",
    "    bargap=0.2, # Gap between bars\n",
    "    width=800,\n",
    "    height=700,\n",
    ")\n",
    "\n",
    "fig.update_xaxes(tickangle=0) # Rotates the x-axis labels\n",
    "\n",
    "fig.show()"
   ]
  },
  {
   "cell_type": "markdown",
   "metadata": {},
   "source": [
    "## Number of products per Customer"
   ]
  },
  {
   "cell_type": "code",
   "execution_count": 11,
   "metadata": {},
   "outputs": [
    {
     "data": {
      "text/html": [
       "<div>\n",
       "<style scoped>\n",
       "    .dataframe tbody tr th:only-of-type {\n",
       "        vertical-align: middle;\n",
       "    }\n",
       "\n",
       "    .dataframe tbody tr th {\n",
       "        vertical-align: top;\n",
       "    }\n",
       "\n",
       "    .dataframe thead th {\n",
       "        text-align: right;\n",
       "    }\n",
       "</style>\n",
       "<table border=\"1\" class=\"dataframe\">\n",
       "  <thead>\n",
       "    <tr style=\"text-align: right;\">\n",
       "      <th></th>\n",
       "      <th>CustomerID</th>\n",
       "      <th>InvoiceNo</th>\n",
       "      <th>Number of products</th>\n",
       "    </tr>\n",
       "  </thead>\n",
       "  <tbody>\n",
       "    <tr>\n",
       "      <th>0</th>\n",
       "      <td>12346</td>\n",
       "      <td>541431</td>\n",
       "      <td>1</td>\n",
       "    </tr>\n",
       "    <tr>\n",
       "      <th>1</th>\n",
       "      <td>12347</td>\n",
       "      <td>537626</td>\n",
       "      <td>31</td>\n",
       "    </tr>\n",
       "    <tr>\n",
       "      <th>2</th>\n",
       "      <td>12347</td>\n",
       "      <td>542237</td>\n",
       "      <td>29</td>\n",
       "    </tr>\n",
       "    <tr>\n",
       "      <th>3</th>\n",
       "      <td>12347</td>\n",
       "      <td>549222</td>\n",
       "      <td>24</td>\n",
       "    </tr>\n",
       "    <tr>\n",
       "      <th>4</th>\n",
       "      <td>12347</td>\n",
       "      <td>556201</td>\n",
       "      <td>18</td>\n",
       "    </tr>\n",
       "    <tr>\n",
       "      <th>5</th>\n",
       "      <td>12347</td>\n",
       "      <td>562032</td>\n",
       "      <td>22</td>\n",
       "    </tr>\n",
       "    <tr>\n",
       "      <th>6</th>\n",
       "      <td>12347</td>\n",
       "      <td>573511</td>\n",
       "      <td>47</td>\n",
       "    </tr>\n",
       "    <tr>\n",
       "      <th>7</th>\n",
       "      <td>12347</td>\n",
       "      <td>581180</td>\n",
       "      <td>11</td>\n",
       "    </tr>\n",
       "    <tr>\n",
       "      <th>8</th>\n",
       "      <td>12348</td>\n",
       "      <td>539318</td>\n",
       "      <td>17</td>\n",
       "    </tr>\n",
       "    <tr>\n",
       "      <th>9</th>\n",
       "      <td>12348</td>\n",
       "      <td>541998</td>\n",
       "      <td>6</td>\n",
       "    </tr>\n",
       "  </tbody>\n",
       "</table>\n",
       "</div>"
      ],
      "text/plain": [
       "  CustomerID InvoiceNo  Number of products\n",
       "0      12346    541431                   1\n",
       "1      12347    537626                  31\n",
       "2      12347    542237                  29\n",
       "3      12347    549222                  24\n",
       "4      12347    556201                  18\n",
       "5      12347    562032                  22\n",
       "6      12347    573511                  47\n",
       "7      12347    581180                  11\n",
       "8      12348    539318                  17\n",
       "9      12348    541998                   6"
      ]
     },
     "metadata": {},
     "output_type": "display_data"
    },
    {
     "name": "stdout",
     "output_type": "stream",
     "text": [
      "CustomerID            10\n",
      "InvoiceNo             10\n",
      "Number of products    10\n",
      "dtype: int64\n"
     ]
    }
   ],
   "source": [
    "# Without canceled \n",
    "temp1 = df_preprocessed.groupby([\"CustomerID\", \"InvoiceNo\"], as_index=False)[\"InvoiceDate\"].count()\n",
    "products_per_basket = temp1.rename(columns={\"InvoiceDate\" : \"Number of products\"})\n",
    "result = products_per_basket[ : 10].sort_values(\"CustomerID\")\n",
    "display(result)\n",
    "print(result.count())"
   ]
  },
  {
   "cell_type": "markdown",
   "metadata": {},
   "source": [
    "## Anomalies Detection"
   ]
  },
  {
   "cell_type": "code",
   "execution_count": 12,
   "metadata": {},
   "outputs": [],
   "source": [
    "# # Numeric variables for exploration\n",
    "# numeric_variables = ['Quantity', 'UnitPrice', 'TotalPrice']\n",
    "\n",
    "# # Box plots for each numeric variable\n",
    "# plt.figure(figsize=(15, 5))\n",
    "# for i, variable in enumerate(numeric_variables, 1):\n",
    "#     plt.subplot(1, 3, i)\n",
    "#     sns.boxplot(data=df_preprocessed, y=variable)\n",
    "#     plt.title(f'Distribution of {variable}')\n",
    "# plt.show()\n",
    "\n",
    "\n",
    "# # Histograms for Quantity and UnitPrice\n",
    "# plt.figure(figsize=(15, 5))\n",
    "\n",
    "# plt.subplot(1, 2, 1)\n",
    "# sns.histplot(df_preprocessed['Quantity'], bins=30, kde=True)\n",
    "# plt.title('Distribution of Quantity')\n",
    "\n",
    "# plt.subplot(1, 2, 2)\n",
    "# sns.histplot(df_preprocessed['UnitPrice'], bins=30, kde=True)\n",
    "# plt.title('Distribution of UnitPrice')\n",
    "\n",
    "# plt.show()\n",
    "\n",
    "# # Distribution of TotalPrice\n",
    "# plt.figure(figsize=(8, 5))\n",
    "# sns.histplot(df_preprocessed['TotalPrice'], bins=30, kde=True)\n",
    "# plt.title('Distribution of TotalPrice')\n",
    "# plt.show()\n",
    "\n",
    "# # Scatter plot for Quantity vs. UnitPrice\n",
    "# plt.figure(figsize=(8, 6))\n",
    "# sns.scatterplot(data=df_preprocessed, x='Quantity', y='UnitPrice', alpha=0.5)\n",
    "# plt.title('Scatter Plot: Quantity vs. UnitPrice')\n",
    "# plt.show()\n",
    "\n",
    "\n",
    "# # Time series plot for TotalPrice\n",
    "# plt.figure(figsize=(12, 6))\n",
    "# plt.plot(df_preprocessed['InvoiceDate'], df_preprocessed['TotalPrice'], marker='o', linestyle='-')\n",
    "# plt.title('Time Series Plot: TotalPrice over Time')\n",
    "# plt.xlabel('Invoice Date')\n",
    "# plt.ylabel('TotalPrice')\n",
    "# plt.show()"
   ]
  },
  {
   "cell_type": "markdown",
   "metadata": {},
   "source": [
    "# RFM Analysis?"
   ]
  },
  {
   "cell_type": "markdown",
   "metadata": {},
   "source": [
    "# Insight on product categories\n",
    "## Extraction of words\n"
   ]
  },
  {
   "cell_type": "code",
   "execution_count": 18,
   "metadata": {},
   "outputs": [
    {
     "data": {
      "text/plain": [
       "array(['10', '11', '12', ..., 'yellow', 'yuletide', 'zinc'], dtype=object)"
      ]
     },
     "metadata": {},
     "output_type": "display_data"
    },
    {
     "name": "stdout",
     "output_type": "stream",
     "text": [
      "Shape of matrix (3877, 1971)\n",
      "Number of keywords in variable 'Description' : 1914 \n",
      "Selected Keywords:\n",
      "['hanging', 'light', 'holder', 'white', 'heart', 'lantern', 'metal', 'cupid', 'coat', 'hanger', 'hearts', 'cream', 'knitted', 'flag', 'union', 'water', 'hot', 'bottle', 'woolly', 'hottie', 'red', 'nesting', 'boxes', 'babushka', 'set', 'frosted', 'star', 'glass', 'warmer', 'hand', 'jack', 'dot', 'polka', 'ornament', 'colour', 'bird', 'assorted', 'bedroom', 'playhouse', 'poppy', 'kitchen', 'princess', 'charlotte', 'doll', 'feltcraft', 'cosy', 'ivory', 'mug', 'teaspoons', 'box', 'blocks', 'jigsaw', 'vintage', 'alphabet', 'building', 'word', 'block', 'home', 'love', 'recipe', 'england', 'new', 'doormat', 'making', 'jars', 'jam', 'fashion', 'paris', 'rack', 'yellow', 'blue', 'bath', 'bakelike', 'alarm', 'clock', 'pink', 'green', 'panda', 'bunnies', 'sheet', 'sticker', 'stars', 'tape', 'gift', 'political', 'globe', 'inflatable', 'heads', 'tails', 'game', 'card', 'towels', 'tea', 'retrospot', 'snack', 'woodland', 'round', 'lunch', 'spaceboy', 'london', 'circus', 'parade', 'dolly', 'girl', 'design', 'bag', 'led', 'night', 'toadstool', 'puzzles', 'seaside', 'mini', 'paint', 'postage', 'chain', 'kit', 'paper', 'christmas', 'edwardian', 'parasol', 'mugs', 'coffee', 'retro', 'save', 'planet', 'drink', 'billboard', 'hate', 'finish', 'cabinet', 'drawer', 'wood', 'ant', 'picture', 'wooden', 'frame', 'antique', 'victorian', 'sewing', 'large', 'sympathy', 'jumbo', 'polkadot', 'baroque', 'black', 'toys', 'charlie', 'lola', 'strawberry', 'piece', 'cutlery', 'plates', 'spotty', 'cases', 'pack', 'cake', 'dinosaur', 'paisley', 'teatime', 'fairy', 'tomato', 'coaster', 'wastepaper', 'flora', 'bin', 'personal', 'doorsign', 'suki', 'storage', 'printed', 'pc', 'ceramic', 'girly', 'tool', 'shopper', 'lounge', 'airline', 'sign', 'knob', 'spot', 'acrylic', 'clear', 'line', 'clip', 'photo', 'chicken', 'felt', 'egg', 'piggy', 'bank', 'shoulder', 'skull', 'confusing', 'cook', 'wine', 'diet', 'gin', 'tonic', 'saucer', 'breakfast', 'cup', 'flowers', 'hook', 'small', 'des', 'time', 'rabbit', 'willie', 'winkie', 'stick', 'zinc', 'candle', 'money', 'cherry', 'jug', 'milk', 'beakers', 'funky', 'natural', 'owl', 'soft', 'toy', 'make', 'balloon', 'art', 'cloche', 'monochrome', 'gumball', 'fancy', 'font', 'sweet', 'snakes', 'ladders', 'calculator', 'chocolate', 'recycling', 'tidy', 'dressing', 'pot', 'table', 'thermometer', 'giant', 'garden', 'tier', 'tin', 'lids', 'baskets', 'oval', 'wicker', 'board', 'medina', 'chalkboard', 'slate', 'lovebird', 'birdcage', 'plant', 'classic', 'enamel', 'flower', 'bucket', 'bread', 'traditional', 'ribbons', 'organiser', 'wire', 'chilli', 'lights', 'butterfiles', 'garland', 'owls', 'nightlight', 'tale', 'cottage', 'letters', 'doorstop', 'gingham', 'decoration', 'magnets', 'fridge', 'diner', 'homemade', 'scented', 'candles', 'les', 'enfants', 'caravan', 'rose', 'magic', 'reindeer', 'cushion', 'cover', 'flying', 'ducks', 'coloured', 'gold', 'umbrella', 'wall', 'spoons', 'measuring', 'lid', 'jar', 'keepsake', 'disco', 'ball', 'popcorn', 'napkins', 'cups', 'hat', 'rain', 'deluxe', 'english', 'cube', 'mice', 'stripey', 'soldier', 'skittles', 'skipping', 'rope', 'dominoes', 'seventeen', 'sideboard', 'rustic', 'carnival', 'cones', 'party', 'candy', 'picnic', 'basket', 'painted', 'lamp', 'birthday', 'scotty', 'dog', 'chasing', 'bowl', 'clothes', 'pegs', 'travel', 'grey', 'chick', 'trinket', 'orange', 'quilt', 'embroidered', 'tissues', 'string', 'doughnut', 'silk', 'purse', 'poorly', 'scottie', 'house', 'boudoir', 'tissue', 'square', 'skulls', 'cornice', 'sew', 'crochet', 'reds', 'scandinavian', 'writing', 'balloons', 'lavender', 'incense', 'tv', 'dinner', 'tray', 'placemats', 'coasters', 'triple', 'family', 'mirrored', 'rotator', 'battery', 'operated', 'looking', 'mirror', 'silver', 'gentlemen', 'ladies', 'served', 'topiary', 'bathroom', 'toilet', 'leave', 'holiday', 'basil', 'grow', 'cakes', 'snowmen', 'santa', 'shaped', 'sandwich', 'sponge', 'apple', 'pirate', 'chest', 'treasure', 'portable', 'snowflake', 'jewelled', 'cigar', 'matches', 'hour', 'tube', 'jazz', 'notebook', 'candleholder', 'candlestick', 'baroquecandlestick', 'flannel', 'style', 'cloth', 'trellis', 'celebration', 'football', 'girls', 'pinks', 'romantic', 'bright', 'blues', 'invites', 'spaceman', 'cutters', 'cookie', 'butterfly', 'cutter', 'sweetheart', 'cars', 'bowls', 'drawing', 'bake', 'tall', 'pencils', 'harmonica', 'transfer', 'tattoos', 'pannetone', 'kids', 'pen', 'single', 'rectangle', 'funny', 'face', 'pens', 'cowboys', 'wrap', 'tokyo', 'doilies', 'plasters', 'sleeping', 'erasers', 'cat', 'cowboy', 'angels', 'rotating', 'hldr', 'ribbon', 'reel', 'spinning', 'tops', 'marbles', 'swirly', 'strand', 'crystal', 'necklace', 'squarecushion', 'childrens', 'children', 'candelabra', 'botanical', 'tag', 'luggage', 'tassle', 'charm', 'faceted', 'bangle', 'guns', 'roses', 'scent', 'vanilla', 'plate', 'bell', 'med', 'filigree', 'stand', 'pattern', 'stickers', 'pencil', 'bobbles', 'fly', 'elegant', 'aged', 'speaker', 'boom', 'shimmering', 'holly', 'bells', 'dress', 'angel', 'fruits', 'molly', 'notebooks', 'parcel', 'shoes', 'slipper', 'daisy', 'craft', 'tree', 'friends', 'little', 'rosie', 'emily', 'olivia', 'rex', 'cash', 'carry', 'tote', 'pinkwhite', 'folding', 'valentine', 'decoupage', 'soldiers', 'sock', 'bauble', 'snowy', 'village', 'turquoise', 'wreath', 'sack', 'advent', 'calendar', 'cone', 'snap', 'cards', 'drawerknob', 'purple', 'apron', 'santas', 'mushroom', 'chalk', 'sticks', 'hairband', 'hairbands', 'animals', 'fair', 'urban', 'toadstools', 'leaves', 'cupcake', 'lace', 'catch', 'cotton', 'spade', 'beach', 'boys', 'caddy', 'kings', 'choice', 'biscuit', 'empire', 'fawn', 'birdy', 'tags', 'glove', 'oven', 'namaste', 'swagat', 'classical', 'vase', 'hyacinth', 'bulb', 'towel', 'dove', 'colouring', 'brown', 'flock', 'fern', 'chrysanthemum', 'chinese', 'scissor', 'tealight', 'etched', 'cooking', 'setting', 'place', 'baubles', 'wc', 'french', 'soap', 'medium', 'washroom', 'bracelet', 'dia', 'grip', 'hair', 'diamante', 'expandable', 'ring', 'ruby', 'montana', 'present', 'aid', 'monsoon', 'rubbers', 'circular', 'stationery', 'socks', 'mittens', 'tapes', 'fabric', 'canvas', 'stamps', 'foil', 'sweetie', 'cinammon', 'stripes', 'provence', 'jardin', 'tins', 'playtime', 'dinosaurs', 'office', 'record', 'size', 'rocking', 'horse', 'cakestand', 'regency', 'bunting', 'longboard', 'ironing', 'playing', 'gentleman', 'shirt', 'repair', 'foxy', 'gents', 'jet', 'sow', 'potting', 'shed', 'champion', 'world', 'envelopes', 'seed', 'hi', 'tec', 'alpine', 'polyester', 'filler', 'pad', 'rainy', 'scarf', 'pears', 'gazebo', 'birdhouse', 'engraved', 'market', 'crates', 'crazy', 'bed', 'pizza', 'dots', 'charms', 'napkin', 'button', 'message', 'herb', 'marker', 'mint', 'rosemary', 'chives', 'parsley', 'thyme', 'merry', 'trees', 'handbag', 'happy', 'easter', 'cut', 'season', 'toast', 'path', 'journal', 'squeezer', 'washing', 'gloves', 'licorice', 'swiss', 'roll', 'spots', 'bags', 'double', 'ridged', 'pantry', 'confetti', 'multicolour', 'wick', 'morris', 'pistachio', 'honeycomb', 'spirit', 'level', 'platter', 'teacup', 'slice', 'sporting', 'fun', 'gecko', 'weight', 'sand', 'col', 'ass', 'postcard', 'spring', 'chateau', 'scales', 'multi', 'lizard', 'suction', 'engine', 'car', 'patches', 'psychedelic', 'apples', 'placemat', 'enchanted', 'forest', 'flowerpower', 'beautiful', 'case', 'life', 'rounders', 'childs', 'taper', 'ladder', 'confectionery', 'digestive', 'biscuits', 'stopper', 'welcome', 'modern', 'swallow', 'junk', 'mail', 'tile', 'finger', 'beurre', 'dish', 'greeting', 'screen', 'print', 'fonts', 'earth', 'peace', 'parasols', 'cocktail', 'strongman', 'school', 'crayons', 'games', 'booze', 'women', 'lads', 'gingerbread', 'man', 'heat', 'person', 'frying', 'pan', 'shape', 'bendy', 'straws', 'sketchbook', 'singing', 'emergency', 'frieze', 'decorative', 'door', 'drawers', 'joy', 'noel', 'cosmetic', 'regal', 'candlepot', 'swirlglass', 'pedestal', 'magazine', 'food', 'raffia', 'fluted', 'kashmir', 'folkart', 'chocolatecandle', 'grand', 'shelf', 'images', 'curious', 'days', 'jewellery', 'extremely', 'busy', 'lolita', 'lets', 'shopping', 'torch', 'camouflage', 'dragonfly', 'helicopter', 'shark', 'doctor', 'carriage', 'lightbulb', 'moon', 'musical', 'fringe', 'hammock', 'stripe', 'dec', 'crossbones', 'pony', 'cordon', 'barrier', 'teddy', 'air', 'hostess', 'letter', 'lovebirds', 'stacking', 'hut', 'key', 'passport', 'blossom', 'mod', 'cardholder', 'book', 'overnight', 'spiral', 'coal', 'feather', 'airmail', 'number', 'smiley', 'cats', 'collage', 'memory', 'childhood', 'funk', 'monkey', 'choc', 'glitter', 'nursery', 'dutch', 'cheese', 'geisha', 'newspaper', 'scandispot', 'stocking', 'jingle', 'keys', 'instrument', 'crowns', 'chalet', 'manual', 'motorbike', 'medicine', 'ma', 'campagne', 'yuletide', 'shade', 'base', 'smallfolkart', 'eucalyptus', 'pinecone', 'pudding', 'fine', 'cacti', 'marshmallow', 'knitting', 'best', 'mum', 'indians', 'spotted', 'lipstick', 'fuschia', 'brocade', 'swallows', 'ladle', 'bling', 'bingo', 'mac', 'floor', 'fauna', 'ear', 'muff', 'headphones', 'tutti', 'frutti', 'scotties', 'brush', 'bee', 'ladybird', 'ribs', 'bamboo', 'lampshade', 'gardenia', 'boxed', 'creatures', 'cute', 'badges', 'pocket', 'porcelain', 'baking', 'brocante', 'maria', 'respectable', 'memo', 'room', 'salle', 'bain', 'stack', 'presents', 'robot', 'war', 'gliders', 'designs', 'asstd', 'coathanger', 'bomb', 'pump', 'stencil', 'lovely', 'bonbon', 'toothpaste', 'purdey', 'account', 'penny', 'farthing', 'embossed', 'watering', 'bunny', 'elephant', 'pig', 'loveheart', 'vie', 'en', 'la', 'pin', 'hooks', 'patrolled', 'area', 'portrait', 'plastic', 'measure', 'rainbow', 'modelling', 'clay', 'disc', 'peg', 'floral', 'sugar', 'teapot', 'dairy', 'maid', 'container', 'touch', 'stuff', 'moody', 'boy', 'filigris', 'nest', 'hen', 'sticky', 'wishes', 'stamp', 'thank', 'glamorous', 'planter', 'dragon', 'lanterns', 'eraser', 'recycled', 'ruler', 'digitalis', 'post', 'milkshake', 'baby', 'birds', 'mobile', 'height', 'chart', 'figures', 'wedding', 'shine', 'shoe', 'columbian', 'pots', 'army', 'camo', 'bookcover', 'carrot', 'chunky', 'tassel', 'amber', 'bead', 'livingroom', 'posy', 'vine', 'lilac', 'juicy', 'fruit', 'clips', 'crawlies', 'creepy', 'memoboard', 'album', 'wash', 'local', 'cafe', 'bow', 'brooch', 'lily', 'amethyst', 'hairclip', 'pair', 'gemstone', 'drop', 'earrings', 'earring', 'hoop', 'leaf', 'hexagon', 'clam', 'shell', 'cockle', 'garage', 'fob', 'chopsticks', 'puppet', 'frog', 'candlestand', 'gaolers', 'champagne', 'big', 'sky', 'curio', 'colours', 'fan', 'duck', 'charges', 'butter', 'kid', 'open', 'farm', 'animal', 'snowstorm', 'magnet', 'tinsel', 'space', 'cadet', 'illustrated', 'monsters', 'citronella', 'folk', 'burst', 'laundry', 'fanny', 'stopmetal', 'rest', 'way', 'baths', 'pottering', 'corona', 'mexican', 'weekend', 'colander', 'ivy', 'strawbery', 'washbag', 'tub', 'feng', 'shui', 'pillar', 'novelty', 'toastrack', 'padded', 'gauze', 'herbs', 'croquet', 'holders', 'truffle', 'cabin', 'nancy', 'moroccan', 'faux', 'fur', 'throw', 'lush', 'greens', 'sandcastle', 'flags', 'pearl', 'beaded', 'wrapping', 'doggy', 'rubber', 'salad', 'bows', 'buttons', 'petit', 'du', 'sud', 'check', 'ludo', 'palmiera', 'tools', 'display', 'secateurs', 'leis', 'snake', 'field', 'camphor', 'portobello', 'draw', 'liners', 'summer', 'strawberries', 'neighbourhood', 'witch', 'pharmacie', 'salt', 'pepper', 'polkadots', 'naughty', 'sound', 'keyring', 'hello', 'sailor', 'beware', 'cinnamon', 'votive', 'jasmine', 'bone', 'china', 'settings', 'circles', 'glamour', 'midnight', 'frappucino', 'phone', 'beads', 'pendant', 'patch', 'compact', 'tropical', 'skirt', 'mouse', 'ocean', 'jewel', 'nurse', 'bohemian', 'ribbed', 'melamine', 'fresh', 'wool', 'peacock', 'salts', 'footprints', 'velvet', 'shop', 'monster', 'mousey', 'legs', 'long', 'utensil', 'wake', 'cockerel', 'rim', 'bouquet', 'pear', 'snow', 'danish', 'cast', 'iron', 'fork', 'trowel', 'pearls', 'lime', 'boudicca', 'pennant', 'labels', 'racing', 'forked', 'cactus', 'denim', 'ream', 'pop', 'poncho', 'flask', 'keyrings', 'memories', 'paperweight', 'bear', 'kashmiri', 'chair', 'mixture', 'rings', 'dream', 'chocolates', 'windsock', 'ping', 'microwave', 'mitt', 'delight', 'leap', 'periwinkle', 'silicon', 'stamped', 'netting', 'tablecloth', 'seat', 'madras', 'sandalwood', 'ice', 'rocket', 'sombrero', 'bitty', 'stones', 'abstract', 'decorations', 'glowing', 'tiaras', 'robin', 'butterflies', 'utilty', 'chicks', 'motoring', 'kensington', 'traveling', 'dogs', 'bib', 'flu', 'wrecking', 'embroidery', 'hangers', 'spoon', 'ashtray', 'shower', 'cap', 'stripy', 'queen', 'skies', 'economy', 'marshmallows', 'pumpkin', 'stitched', 'oil', 'burner', 'notelets', 'savoy', 'deco', 'hall', 'hammered', 'chrysanthemums', 'sunset', 'circle', 'envelope', 'camping', 'knif', 'sage', 'afghan', 'flowerpot', 'sundae', 'paisely', 'essential', 'balm', 'tumbler', 'cubic', 'travelogue', 'clean', 'bullet', 'puppies', 'sunrise', 'carousel', 'toxic', 'plasmatronic', 'burgundy', 'russian', 'dusty', 'sunglasses', 'blackchristmas', 'frames', 'mix', 'sweeties', 'wireless', 'doorbell', 'lattice', 'wildflower', 'bronze', 'polished', 'neckl', 'crawlie', 'smokey', 'pouri', 'cushions', 'windmill', 'pale', 'organdy', 'bea', 'mao', 'goose', 'crested', 'tit', 'cosmetics', 'flytrap', 'sunflower', 'evening', 'butterfl', 'pouffe', 'regatta', 'freestyle', 'mosaic', 'budah', 'wise', 'potion', 'masala', 'favourites', 'banquet', 'cupboard', 'xmas', 'mixed', 'nuts', 'basin', 'nile', 'eau', 'tigris', 'eye', 'vinyl', 'camembert', 'susan', 'needle', 'las', 'vegas', 'mould', 'toffee', 'cupcakes', 'pointy', 'voile', 'address', 'stool', 'photoframe', 'jungle', 'popsicles', 'lolly', 'balls', 'twine', 'sculpted', 'rnd', 'str', 'strap', 'beauty', 'cd', 'gebra', 'pebble', 'shutters', 'seafood', 'nil', 'rake', 'triangular', 'octagon', 'diva', 'chime', 'pointed', 'edge', 'hairclips', 'forties', 'dreams', 'dragons', 'blood', 'fishing', 'gnome', 'standing', 'coney', 'island', 'bottles', 'pompom', 'curtain', 'hawaiian', 'grass', 'mixing', 'colourful', 'rosette', 'class', 'trays', 'plaque', 'kitty', 'olive', 'popart', 'rect', 'asst', 'sharpener', 'tortilla', 'sucker', 'origami', 'opium', 'cand', 'sandlewood', 'rococo', 'sprig', 'artificial', 'cage', 'strawbry', 'goblet', 'rattle', 'eggs', 'highlighter', 'kittens', 'slides', 'slide', 'tiled', 'laquered', 'cartoon', 'sharpeners', 'ponies', 'vip', 'rabbits', 'old', 'doc', 'russel', 'ninja', 'scrap', 'dads', 'scroll', 'marmalade', 'garld', 'turq', 'copper', 'droplet', 'bedside', 'twist', 'murano', 'silouette', 'demi', 'choker', 'orbit', 'flowe', 'pastel', 'beaten', 'charger', 'aperitif', 'spice', 'cannister', 'bertie', 'steel', 'mr', 'vippassport', 'screwdriver', 'spaceball', 'jeweled', 'hippy', 'chic', 'mrs', 'prince', 'chalice', 'stud', 'blackboard', 'bum', 'roccoco', 'chandelier', 'swat', 'sheep', 'fruitbowl', 'freshwater', 'stone', 'teal', 'groovy', 'candl', 'blackblue', 'bus', 'comb', 'queens', 'guard', 'cubes', 'growing', 'diamond', 'lariat', 'fluffy', 'housekeeping', 'ade', 'desk', 'mock', 'lobster', 'diamon', 'raspberr', 'lazer', 'mop', 'band', 'daisies', 'delphinium', 'anemone', 'candystuft', 'wobbly', 'toybox', 'skippping', 'doughnuts', 'banner', 'cannabis', 'glow', 'dolphins', 'dark', 'wheelbarrow', 'frangipani', 'beaker', 'rosebud', 'chenille', 'shaggy', 'relax', 'day', 'waste', 'carpet', 'bar', 'condiment', 'hilda', 'congratulations', 'puddings', 'icon', 'elvis', 'drawstring', 'hare', 'gordon', 'overcrowded', 'pool', 'sisters', 'citrus', 'beetles', 'sitting', 'lighthouse', 'resin', 'crusoe', 'vegetables', 'flore', 'ridge', 'doiley', 'multicol', 'blond', 'hunt', 'start', 'aqua', 'song', 'chains', 'rasta', 'poppies', 'king', 'shapes', 'petals', 'swinging', 'farmyard', 'george', 'st', 'savannah', 'hamper', 'barn', 'hydrangea', 'suede', 'oyster', 'posies', 'flames', 'lenses', 'support', 'pole', 'sphere', 'provencal', 'rectangular', 'shelving', 'unit', 'push', 'briar', 'planters', 'roman', 'peach', 'bazaar', 'tranquility', 'shells', 'climbing', 'hydranga', 'radio', 'buddha', 'head', 'pet', 'goldfish', 'tiny', 'revolutionary', 'tie', 'jade', 'cluster', 'windchime', 'sea', 'pom', 'cracked', 'glaze', 'vint', 'necklac', 'nat', 'hopper', 'monte', 'carlo', 'scrubbing', 'jelly', 'moulds', 'meadow', 'wallet', 'transport', 'calm', 'giraffe', 'revolver', 'pill', 'ticket', 'rolling', 'run', 'dotcomgiftshop', 'raspberry', 'berries', 'woven', 'scallop', 'secret', 'starfish', 'riviera', 'dad', 'heavens', 'fragrance', 'oils', 'flame', 'allium', 'foxglove', 'artiifcial', 'occupied', 'vacant', 'buffalo', 'gymkhanna', 'abc', 'pastry', 'amelie', 'dollcraft', 'nicole', 'frost', 'jean', 'paul', 'gymkhana', 'mother', 'corer', 'acapulco', 'mat', 'lives', 'opener', 'bull', 'guitar', 'ol', 'splodges', 'hole', 'punch', 'bonbons', 'doors', 'gems', 'bad', 'geometric', 'lt', 'sanskrit', 'wallhanging', 'turquois', 'kukui', 'coconut', 'glasses', 'lip', 'gloss', 'closed', 'pancake', 'grocery', 'knickerbockerglory', 'lucky', 'mummy', 'hibiscus', 'nativity', 'goldie', 'hurricane', 'backpack', 'opal', 'hardman', 'chests', 'feathers', 'bubble', 'gum', 'pads', 'match', 'aluminium', 'parlour', 'georgian', 'barrel', 'antoienett', 'marie', 'miniature', 'gel', 'wht', 'crystals', 'cote', 'azure', 'tropez', 'maxwell', 'tone', 'page', 'mistletoe', 'handle', 'laser', 'tongs', 'come', 'strainer', 'point', 'cinderella', 'miniture', 'patterns', 'antoinette', 'sequin', 'studded', 'sizes', 'spliff', 'exercise', 'bundle', 'books', 'note', 'supplies', 'parisienne', 'le', 'dispenser', 'miseltoe', 'bon', 'montan', 'gerden', 'gardeners', 'kneeling', 'housework', 'peony', 'stiletto', 'flowr', 'capiz', 'quartz', 'braclet', 'blank', 'laurel', 'cherub', 'ollie', 'beak', 'halloween', 'ghost', 'icicle', 'snowflakes', 'knick', 'knack', 'hold', 'bubblegum', 'pieces', 'sleigh', 'trim', 'dolphin', 'wish', 'list', 'mid', 'spike', 'meter', 'donkey', 'tail', 'perfume', 'apothecary', 'elixir', 'songbird', 'crackle', 'transparent', 'doorknob', 'bonne', 'swords', 'disposable', 'magnetic', 'cordial', 'notepad', 'refectory', 'reto', 'madeline', 'vegetable', 'mark', 'hens', 'cracker', 'packing', 'charge', 'crackers', 'brass', 'hairslide', 'loaf', 'articulated', 'suck', 'bili', 'nut', 'poster', 'park', 'ceature', 'branch', 'oriental', 'frill', 'adult', 'doily', 'jampot', 'crate', 'sex', 'bubbles', 'quilted', 'patchwork', 'dotcom', 'pretty', 'belle', 'jardiniere', 'poste', 'france', 'foot', 'bonheur', 'botanique', 'sweeet', 'pants', 'makers', 'grinder', 'linen', 'spatula', 'whisk', 'metalic', 'toilette', 'chambre', 'chopping', 'jubilee', 'rebecca', 'sally', 'rachel', 'susie', 'rucksack', 'peridot', 'sophie', 'claire', 'blk', 'whit', 'dovecote', 'tuscan', 'villa', 'trellistriple', 'fields', 'saftey', 'bicycle', 'stop', 'loves', 'licence', 'haven', 'ahoy', 'nature', 'century', 'work', 'play', 'baseball', 'boot', 'feeding', 'station', 'safety', 'metre', 'ubo', 'triobase', 'feeder', 'henrietta', 'maids', 'ingrid', 'milkmaid', 'carrier', 'pearlised', 'helga', 'heidi', 'high', 'resolution', 'image', 'bridge', 'landmark', 'covent', 'oxford', 'street', 'baker', 'notting', 'hill', 'camden', 'town', 'mushrooms', 'gardens', 'miror', 'decrotivevintage', 'pick', 'portraits', 'naughts', 'crosses', 'tradtional', 'blueberry', 'fondant', 'chrome', 'sil', 'squ', 'crome', 'panettone', 'czech', 'cross', 'puncture', 'country', 'perfectly', 'birdie']\n",
      "\n",
      "Roots and Keywords:\n",
      "hanging: {'hanging'}\n",
      "light: {'light'}\n",
      "holder: {'holder'}\n",
      "white: {'white'}\n",
      "heart: {'heart'}\n",
      "lantern: {'lantern'}\n",
      "metal: {'metal'}\n",
      "cupid: {'cupid'}\n",
      "coat: {'coat'}\n",
      "hanger: {'hanger'}\n",
      "hearts: {'hearts'}\n",
      "cream: {'cream'}\n",
      "knitted: {'knitted'}\n",
      "flag: {'flag'}\n",
      "union: {'union'}\n",
      "water: {'water'}\n",
      "hot: {'hot'}\n",
      "bottle: {'bottle'}\n",
      "woolly: {'woolly'}\n",
      "hottie: {'hottie'}\n",
      "red: {'red'}\n",
      "nesting: {'nesting'}\n",
      "boxes: {'boxes'}\n",
      "babushka: {'babushka'}\n",
      "set: {'set'}\n",
      "frosted: {'frosted'}\n",
      "star: {'star'}\n",
      "glass: {'glass'}\n",
      "warmer: {'warmer'}\n",
      "hand: {'hand'}\n",
      "jack: {'jack'}\n",
      "dot: {'dot'}\n",
      "polka: {'polka'}\n",
      "ornament: {'ornament'}\n",
      "colour: {'colour'}\n",
      "bird: {'bird'}\n",
      "assorted: {'assorted'}\n",
      "bedroom: {'bedroom'}\n",
      "playhouse: {'playhouse'}\n",
      "poppy: {'poppy'}\n",
      "kitchen: {'kitchen'}\n",
      "princess: {'princess'}\n",
      "charlotte: {'charlotte'}\n",
      "doll: {'doll'}\n",
      "feltcraft: {'feltcraft'}\n",
      "cosy: {'cosy'}\n",
      "ivory: {'ivory'}\n",
      "mug: {'mug'}\n",
      "teaspoons: {'teaspoons'}\n",
      "box: {'box'}\n",
      "blocks: {'blocks'}\n",
      "jigsaw: {'jigsaw'}\n",
      "vintage: {'vintage'}\n",
      "alphabet: {'alphabet'}\n",
      "building: {'building'}\n",
      "word: {'word'}\n",
      "block: {'block'}\n",
      "home: {'home'}\n",
      "love: {'love'}\n",
      "recipe: {'recipe'}\n",
      "england: {'england'}\n",
      "new: {'new'}\n",
      "doormat: {'doormat'}\n",
      "making: {'making'}\n",
      "jars: {'jars'}\n",
      "jam: {'jam'}\n",
      "fashion: {'fashion'}\n",
      "paris: {'paris'}\n",
      "rack: {'rack'}\n",
      "yellow: {'yellow'}\n",
      "blue: {'blue'}\n",
      "bath: {'bath'}\n",
      "bakelike: {'bakelike'}\n",
      "alarm: {'alarm'}\n",
      "clock: {'clock'}\n",
      "pink: {'pink'}\n",
      "green: {'green'}\n",
      "panda: {'panda'}\n",
      "bunnies: {'bunnies'}\n",
      "sheet: {'sheet'}\n",
      "sticker: {'sticker'}\n",
      "stars: {'stars'}\n",
      "tape: {'tape'}\n",
      "gift: {'gift'}\n",
      "political: {'political'}\n",
      "globe: {'globe'}\n",
      "inflatable: {'inflatable'}\n",
      "heads: {'heads'}\n",
      "tails: {'tails'}\n",
      "game: {'game'}\n",
      "card: {'card'}\n",
      "towels: {'towels'}\n",
      "tea: {'tea'}\n",
      "retrospot: {'retrospot'}\n",
      "snack: {'snack'}\n",
      "woodland: {'woodland'}\n",
      "round: {'round'}\n",
      "lunch: {'lunch'}\n",
      "spaceboy: {'spaceboy'}\n",
      "london: {'london'}\n",
      "circus: {'circus'}\n",
      "parade: {'parade'}\n",
      "dolly: {'dolly'}\n",
      "girl: {'girl'}\n",
      "design: {'design'}\n",
      "bag: {'bag'}\n",
      "led: {'led'}\n",
      "night: {'night'}\n",
      "toadstool: {'toadstool'}\n",
      "puzzles: {'puzzles'}\n",
      "seaside: {'seaside'}\n",
      "mini: {'mini'}\n",
      "paint: {'paint'}\n",
      "postage: {'postage'}\n",
      "chain: {'chain'}\n",
      "kit: {'kit'}\n",
      "paper: {'paper'}\n",
      "christmas: {'christmas'}\n",
      "edwardian: {'edwardian'}\n",
      "parasol: {'parasol'}\n",
      "mugs: {'mugs'}\n",
      "coffee: {'coffee'}\n",
      "retro: {'retro'}\n",
      "save: {'save'}\n",
      "planet: {'planet'}\n",
      "drink: {'drink'}\n",
      "billboard: {'billboard'}\n",
      "hate: {'hate'}\n",
      "finish: {'finish'}\n",
      "cabinet: {'cabinet'}\n",
      "drawer: {'drawer'}\n",
      "wood: {'wood'}\n",
      "ant: {'ant'}\n",
      "picture: {'picture'}\n",
      "wooden: {'wooden'}\n",
      "frame: {'frame'}\n",
      "antique: {'antique'}\n",
      "victorian: {'victorian'}\n",
      "sewing: {'sewing'}\n",
      "large: {'large'}\n",
      "sympathy: {'sympathy'}\n",
      "jumbo: {'jumbo'}\n",
      "polkadot: {'polkadot'}\n",
      "baroque: {'baroque'}\n",
      "black: {'black'}\n",
      "toys: {'toys'}\n",
      "charlie: {'charlie'}\n",
      "lola: {'lola'}\n",
      "strawberry: {'strawberry'}\n",
      "piece: {'piece'}\n",
      "cutlery: {'cutlery'}\n",
      "plates: {'plates'}\n",
      "spotty: {'spotty'}\n",
      "cases: {'cases'}\n",
      "pack: {'pack'}\n",
      "cake: {'cake'}\n",
      "dinosaur: {'dinosaur'}\n",
      "paisley: {'paisley'}\n",
      "teatime: {'teatime'}\n",
      "fairy: {'fairy'}\n",
      "tomato: {'tomato'}\n",
      "coaster: {'coaster'}\n",
      "wastepaper: {'wastepaper'}\n",
      "flora: {'flora'}\n",
      "bin: {'bin'}\n",
      "personal: {'personal'}\n",
      "doorsign: {'doorsign'}\n",
      "suki: {'suki'}\n",
      "storage: {'storage'}\n",
      "printed: {'printed'}\n",
      "pc: {'pc'}\n",
      "ceramic: {'ceramic'}\n",
      "girly: {'girly'}\n",
      "tool: {'tool'}\n",
      "shopper: {'shopper'}\n",
      "lounge: {'lounge'}\n",
      "airline: {'airline'}\n",
      "sign: {'sign'}\n",
      "knob: {'knob'}\n",
      "spot: {'spot'}\n",
      "acrylic: {'acrylic'}\n",
      "clear: {'clear'}\n",
      "line: {'line'}\n",
      "clip: {'clip'}\n",
      "photo: {'photo'}\n",
      "chicken: {'chicken'}\n",
      "felt: {'felt'}\n",
      "egg: {'egg'}\n",
      "piggy: {'piggy'}\n",
      "bank: {'bank'}\n",
      "shoulder: {'shoulder'}\n",
      "skull: {'skull'}\n",
      "confusing: {'confusing'}\n",
      "cook: {'cook'}\n",
      "wine: {'wine'}\n",
      "diet: {'diet'}\n",
      "gin: {'gin'}\n",
      "tonic: {'tonic'}\n",
      "saucer: {'saucer'}\n",
      "breakfast: {'breakfast'}\n",
      "cup: {'cup'}\n",
      "flowers: {'flowers'}\n",
      "hook: {'hook'}\n",
      "small: {'small'}\n",
      "des: {'des'}\n",
      "time: {'time'}\n",
      "rabbit: {'rabbit'}\n",
      "willie: {'willie'}\n",
      "winkie: {'winkie'}\n",
      "stick: {'stick'}\n",
      "zinc: {'zinc'}\n",
      "candle: {'candle'}\n",
      "money: {'money'}\n",
      "cherry: {'cherry'}\n",
      "jug: {'jug'}\n",
      "milk: {'milk'}\n",
      "beakers: {'beakers'}\n",
      "funky: {'funky'}\n",
      "natural: {'natural'}\n",
      "owl: {'owl'}\n",
      "soft: {'soft'}\n",
      "toy: {'toy'}\n",
      "make: {'make'}\n",
      "balloon: {'balloon'}\n",
      "art: {'art'}\n",
      "cloche: {'cloche'}\n",
      "monochrome: {'monochrome'}\n",
      "gumball: {'gumball'}\n",
      "fancy: {'fancy'}\n",
      "font: {'font'}\n",
      "sweet: {'sweet'}\n",
      "snakes: {'snakes'}\n",
      "ladders: {'ladders'}\n",
      "calculator: {'calculator'}\n",
      "chocolate: {'chocolate'}\n",
      "recycling: {'recycling'}\n",
      "tidy: {'tidy'}\n",
      "dressing: {'dressing'}\n",
      "pot: {'pot'}\n",
      "table: {'table'}\n",
      "thermometer: {'thermometer'}\n",
      "giant: {'giant'}\n",
      "garden: {'garden'}\n",
      "tier: {'tier'}\n",
      "tin: {'tin'}\n",
      "lids: {'lids'}\n",
      "baskets: {'baskets'}\n",
      "oval: {'oval'}\n",
      "wicker: {'wicker'}\n",
      "board: {'board'}\n",
      "medina: {'medina'}\n",
      "chalkboard: {'chalkboard'}\n",
      "slate: {'slate'}\n",
      "lovebird: {'lovebird'}\n",
      "birdcage: {'birdcage'}\n",
      "plant: {'plant'}\n",
      "classic: {'classic'}\n",
      "enamel: {'enamel'}\n",
      "flower: {'flower'}\n",
      "bucket: {'bucket'}\n",
      "bread: {'bread'}\n",
      "traditional: {'traditional'}\n",
      "ribbons: {'ribbons'}\n",
      "organiser: {'organiser'}\n",
      "wire: {'wire'}\n",
      "chilli: {'chilli'}\n",
      "lights: {'lights'}\n",
      "butterfiles: {'butterfiles'}\n",
      "garland: {'garland'}\n",
      "owls: {'owls'}\n",
      "nightlight: {'nightlight'}\n",
      "tale: {'tale'}\n",
      "cottage: {'cottage'}\n",
      "letters: {'letters'}\n",
      "doorstop: {'doorstop'}\n",
      "gingham: {'gingham'}\n",
      "decoration: {'decoration'}\n",
      "magnets: {'magnets'}\n",
      "fridge: {'fridge'}\n",
      "diner: {'diner'}\n",
      "homemade: {'homemade'}\n",
      "scented: {'scented'}\n",
      "candles: {'candles'}\n",
      "les: {'les'}\n",
      "enfants: {'enfants'}\n",
      "caravan: {'caravan'}\n",
      "rose: {'rose'}\n",
      "magic: {'magic'}\n",
      "reindeer: {'reindeer'}\n",
      "cushion: {'cushion'}\n",
      "cover: {'cover'}\n",
      "flying: {'flying'}\n",
      "ducks: {'ducks'}\n",
      "coloured: {'coloured'}\n",
      "gold: {'gold'}\n",
      "umbrella: {'umbrella'}\n",
      "wall: {'wall'}\n",
      "spoons: {'spoons'}\n",
      "measuring: {'measuring'}\n",
      "lid: {'lid'}\n",
      "jar: {'jar'}\n",
      "keepsake: {'keepsake'}\n",
      "disco: {'disco'}\n",
      "ball: {'ball'}\n",
      "popcorn: {'popcorn'}\n",
      "napkins: {'napkins'}\n",
      "cups: {'cups'}\n",
      "hat: {'hat'}\n",
      "rain: {'rain'}\n",
      "deluxe: {'deluxe'}\n",
      "english: {'english'}\n",
      "cube: {'cube'}\n",
      "mice: {'mice'}\n",
      "stripey: {'stripey'}\n",
      "soldier: {'soldier'}\n",
      "skittles: {'skittles'}\n",
      "skipping: {'skipping'}\n",
      "rope: {'rope'}\n",
      "dominoes: {'dominoes'}\n",
      "seventeen: {'seventeen'}\n",
      "sideboard: {'sideboard'}\n",
      "rustic: {'rustic'}\n",
      "carnival: {'carnival'}\n",
      "cones: {'cones'}\n",
      "party: {'party'}\n",
      "candy: {'candy'}\n",
      "picnic: {'picnic'}\n",
      "basket: {'basket'}\n",
      "painted: {'painted'}\n",
      "lamp: {'lamp'}\n",
      "birthday: {'birthday'}\n",
      "scotty: {'scotty'}\n",
      "dog: {'dog'}\n",
      "chasing: {'chasing'}\n",
      "bowl: {'bowl'}\n",
      "clothes: {'clothes'}\n",
      "pegs: {'pegs'}\n",
      "travel: {'travel'}\n",
      "grey: {'grey'}\n",
      "chick: {'chick'}\n",
      "trinket: {'trinket'}\n",
      "orange: {'orange'}\n",
      "quilt: {'quilt'}\n",
      "embroidered: {'embroidered'}\n",
      "tissues: {'tissues'}\n",
      "string: {'string'}\n",
      "doughnut: {'doughnut'}\n",
      "silk: {'silk'}\n",
      "purse: {'purse'}\n",
      "poorly: {'poorly'}\n",
      "scottie: {'scottie'}\n",
      "house: {'house'}\n",
      "boudoir: {'boudoir'}\n",
      "tissue: {'tissue'}\n",
      "square: {'square'}\n",
      "skulls: {'skulls'}\n",
      "cornice: {'cornice'}\n",
      "sew: {'sew'}\n",
      "crochet: {'crochet'}\n",
      "reds: {'reds'}\n",
      "scandinavian: {'scandinavian'}\n",
      "writing: {'writing'}\n",
      "balloons: {'balloons'}\n",
      "lavender: {'lavender'}\n",
      "incense: {'incense'}\n",
      "tv: {'tv'}\n",
      "dinner: {'dinner'}\n",
      "tray: {'tray'}\n",
      "placemats: {'placemats'}\n",
      "coasters: {'coasters'}\n",
      "triple: {'triple'}\n",
      "family: {'family'}\n",
      "mirrored: {'mirrored'}\n",
      "rotator: {'rotator'}\n",
      "battery: {'battery'}\n",
      "operated: {'operated'}\n",
      "looking: {'looking'}\n",
      "mirror: {'mirror'}\n",
      "silver: {'silver'}\n",
      "gentlemen: {'gentlemen'}\n",
      "ladies: {'ladies'}\n",
      "served: {'served'}\n",
      "topiary: {'topiary'}\n",
      "bathroom: {'bathroom'}\n",
      "toilet: {'toilet'}\n",
      "leave: {'leave'}\n",
      "holiday: {'holiday'}\n",
      "basil: {'basil'}\n",
      "grow: {'grow'}\n",
      "cakes: {'cakes'}\n",
      "snowmen: {'snowmen'}\n",
      "santa: {'santa'}\n",
      "shaped: {'shaped'}\n",
      "sandwich: {'sandwich'}\n",
      "sponge: {'sponge'}\n",
      "apple: {'apple'}\n",
      "pirate: {'pirate'}\n",
      "chest: {'chest'}\n",
      "treasure: {'treasure'}\n",
      "portable: {'portable'}\n",
      "snowflake: {'snowflake'}\n",
      "jewelled: {'jewelled'}\n",
      "cigar: {'cigar'}\n",
      "matches: {'matches'}\n",
      "hour: {'hour'}\n",
      "tube: {'tube'}\n",
      "jazz: {'jazz'}\n",
      "notebook: {'notebook'}\n",
      "candleholder: {'candleholder'}\n",
      "candlestick: {'candlestick'}\n",
      "baroquecandlestick: {'baroquecandlestick'}\n",
      "flannel: {'flannel'}\n",
      "style: {'style'}\n",
      "cloth: {'cloth'}\n",
      "trellis: {'trellis'}\n",
      "celebration: {'celebration'}\n",
      "football: {'football'}\n",
      "girls: {'girls'}\n",
      "pinks: {'pinks'}\n",
      "romantic: {'romantic'}\n",
      "bright: {'bright'}\n",
      "blues: {'blues'}\n",
      "invites: {'invites'}\n",
      "spaceman: {'spaceman'}\n",
      "cutters: {'cutters'}\n",
      "cookie: {'cookie'}\n",
      "butterfly: {'butterfly'}\n",
      "cutter: {'cutter'}\n",
      "sweetheart: {'sweetheart'}\n",
      "cars: {'cars'}\n",
      "bowls: {'bowls'}\n",
      "drawing: {'drawing'}\n",
      "bake: {'bake'}\n",
      "tall: {'tall'}\n",
      "pencils: {'pencils'}\n",
      "harmonica: {'harmonica'}\n",
      "transfer: {'transfer'}\n",
      "tattoos: {'tattoos'}\n",
      "pannetone: {'pannetone'}\n",
      "kids: {'kids'}\n",
      "pen: {'pen'}\n",
      "single: {'single'}\n",
      "rectangle: {'rectangle'}\n",
      "funny: {'funny'}\n",
      "face: {'face'}\n",
      "pens: {'pens'}\n",
      "cowboys: {'cowboys'}\n",
      "wrap: {'wrap'}\n",
      "tokyo: {'tokyo'}\n",
      "doilies: {'doilies'}\n",
      "plasters: {'plasters'}\n",
      "sleeping: {'sleeping'}\n",
      "erasers: {'erasers'}\n",
      "cat: {'cat'}\n",
      "cowboy: {'cowboy'}\n",
      "angels: {'angels'}\n",
      "rotating: {'rotating'}\n",
      "hldr: {'hldr'}\n",
      "ribbon: {'ribbon'}\n",
      "reel: {'reel'}\n",
      "spinning: {'spinning'}\n",
      "tops: {'tops'}\n",
      "marbles: {'marbles'}\n",
      "swirly: {'swirly'}\n",
      "strand: {'strand'}\n",
      "crystal: {'crystal'}\n",
      "necklace: {'necklace'}\n",
      "squarecushion: {'squarecushion'}\n",
      "childrens: {'childrens'}\n",
      "children: {'children'}\n",
      "candelabra: {'candelabra'}\n",
      "botanical: {'botanical'}\n",
      "tag: {'tag'}\n",
      "luggage: {'luggage'}\n",
      "tassle: {'tassle'}\n",
      "charm: {'charm'}\n",
      "faceted: {'faceted'}\n",
      "bangle: {'bangle'}\n",
      "guns: {'guns'}\n",
      "roses: {'roses'}\n",
      "scent: {'scent'}\n",
      "vanilla: {'vanilla'}\n",
      "plate: {'plate'}\n",
      "bell: {'bell'}\n",
      "med: {'med'}\n",
      "filigree: {'filigree'}\n",
      "stand: {'stand'}\n",
      "pattern: {'pattern'}\n",
      "stickers: {'stickers'}\n",
      "pencil: {'pencil'}\n",
      "bobbles: {'bobbles'}\n",
      "fly: {'fly'}\n",
      "elegant: {'elegant'}\n",
      "aged: {'aged'}\n",
      "speaker: {'speaker'}\n",
      "boom: {'boom'}\n",
      "shimmering: {'shimmering'}\n",
      "holly: {'holly'}\n",
      "bells: {'bells'}\n",
      "dress: {'dress'}\n",
      "angel: {'angel'}\n",
      "fruits: {'fruits'}\n",
      "molly: {'molly'}\n",
      "notebooks: {'notebooks'}\n",
      "parcel: {'parcel'}\n",
      "shoes: {'shoes'}\n",
      "slipper: {'slipper'}\n",
      "daisy: {'daisy'}\n",
      "craft: {'craft'}\n",
      "tree: {'tree'}\n",
      "friends: {'friends'}\n",
      "little: {'little'}\n",
      "rosie: {'rosie'}\n",
      "emily: {'emily'}\n",
      "olivia: {'olivia'}\n",
      "rex: {'rex'}\n",
      "cash: {'cash'}\n",
      "carry: {'carry'}\n",
      "tote: {'tote'}\n",
      "pinkwhite: {'pinkwhite'}\n",
      "folding: {'folding'}\n",
      "valentine: {'valentine'}\n",
      "decoupage: {'decoupage'}\n",
      "soldiers: {'soldiers'}\n",
      "sock: {'sock'}\n",
      "bauble: {'bauble'}\n",
      "snowy: {'snowy'}\n",
      "village: {'village'}\n",
      "turquoise: {'turquoise'}\n",
      "wreath: {'wreath'}\n",
      "sack: {'sack'}\n",
      "advent: {'advent'}\n",
      "calendar: {'calendar'}\n",
      "cone: {'cone'}\n",
      "snap: {'snap'}\n",
      "cards: {'cards'}\n",
      "drawerknob: {'drawerknob'}\n",
      "purple: {'purple'}\n",
      "apron: {'apron'}\n",
      "santas: {'santas'}\n",
      "mushroom: {'mushroom'}\n",
      "chalk: {'chalk'}\n",
      "sticks: {'sticks'}\n",
      "hairband: {'hairband'}\n",
      "hairbands: {'hairbands'}\n",
      "animals: {'animals'}\n",
      "fair: {'fair'}\n",
      "urban: {'urban'}\n",
      "toadstools: {'toadstools'}\n",
      "leaves: {'leaves'}\n",
      "cupcake: {'cupcake'}\n",
      "lace: {'lace'}\n",
      "catch: {'catch'}\n",
      "cotton: {'cotton'}\n",
      "spade: {'spade'}\n",
      "beach: {'beach'}\n",
      "boys: {'boys'}\n",
      "caddy: {'caddy'}\n",
      "kings: {'kings'}\n",
      "choice: {'choice'}\n",
      "biscuit: {'biscuit'}\n",
      "empire: {'empire'}\n",
      "fawn: {'fawn'}\n",
      "birdy: {'birdy'}\n",
      "tags: {'tags'}\n",
      "glove: {'glove'}\n",
      "oven: {'oven'}\n",
      "namaste: {'namaste'}\n",
      "swagat: {'swagat'}\n",
      "classical: {'classical'}\n",
      "vase: {'vase'}\n",
      "hyacinth: {'hyacinth'}\n",
      "bulb: {'bulb'}\n",
      "towel: {'towel'}\n",
      "dove: {'dove'}\n",
      "colouring: {'colouring'}\n",
      "brown: {'brown'}\n",
      "flock: {'flock'}\n",
      "fern: {'fern'}\n",
      "chrysanthemum: {'chrysanthemum'}\n",
      "chinese: {'chinese'}\n",
      "scissor: {'scissor'}\n",
      "tealight: {'tealight'}\n",
      "etched: {'etched'}\n",
      "cooking: {'cooking'}\n",
      "setting: {'setting'}\n",
      "place: {'place'}\n",
      "baubles: {'baubles'}\n",
      "wc: {'wc'}\n",
      "french: {'french'}\n",
      "soap: {'soap'}\n",
      "medium: {'medium'}\n",
      "washroom: {'washroom'}\n",
      "bracelet: {'bracelet'}\n",
      "dia: {'dia'}\n",
      "grip: {'grip'}\n",
      "hair: {'hair'}\n",
      "diamante: {'diamante'}\n",
      "expandable: {'expandable'}\n",
      "ring: {'ring'}\n",
      "ruby: {'ruby'}\n",
      "montana: {'montana'}\n",
      "present: {'present'}\n",
      "aid: {'aid'}\n",
      "monsoon: {'monsoon'}\n",
      "rubbers: {'rubbers'}\n",
      "circular: {'circular'}\n",
      "stationery: {'stationery'}\n",
      "socks: {'socks'}\n",
      "mittens: {'mittens'}\n",
      "tapes: {'tapes'}\n",
      "fabric: {'fabric'}\n",
      "canvas: {'canvas'}\n",
      "stamps: {'stamps'}\n",
      "foil: {'foil'}\n",
      "sweetie: {'sweetie'}\n",
      "cinammon: {'cinammon'}\n",
      "stripes: {'stripes'}\n",
      "provence: {'provence'}\n",
      "jardin: {'jardin'}\n",
      "tins: {'tins'}\n",
      "playtime: {'playtime'}\n",
      "dinosaurs: {'dinosaurs'}\n",
      "office: {'office'}\n",
      "record: {'record'}\n",
      "size: {'size'}\n",
      "rocking: {'rocking'}\n",
      "horse: {'horse'}\n",
      "cakestand: {'cakestand'}\n",
      "regency: {'regency'}\n",
      "bunting: {'bunting'}\n",
      "longboard: {'longboard'}\n",
      "ironing: {'ironing'}\n",
      "playing: {'playing'}\n",
      "gentleman: {'gentleman'}\n",
      "shirt: {'shirt'}\n",
      "repair: {'repair'}\n",
      "foxy: {'foxy'}\n",
      "gents: {'gents'}\n",
      "jet: {'jet'}\n",
      "sow: {'sow'}\n",
      "potting: {'potting'}\n",
      "shed: {'shed'}\n",
      "champion: {'champion'}\n",
      "world: {'world'}\n",
      "envelopes: {'envelopes'}\n",
      "seed: {'seed'}\n",
      "hi: {'hi'}\n",
      "tec: {'tec'}\n",
      "alpine: {'alpine'}\n",
      "polyester: {'polyester'}\n",
      "filler: {'filler'}\n",
      "pad: {'pad'}\n",
      "rainy: {'rainy'}\n",
      "scarf: {'scarf'}\n",
      "pears: {'pears'}\n",
      "gazebo: {'gazebo'}\n",
      "birdhouse: {'birdhouse'}\n",
      "engraved: {'engraved'}\n",
      "market: {'market'}\n",
      "crates: {'crates'}\n",
      "crazy: {'crazy'}\n",
      "bed: {'bed'}\n",
      "pizza: {'pizza'}\n",
      "dots: {'dots'}\n",
      "charms: {'charms'}\n",
      "napkin: {'napkin'}\n",
      "button: {'button'}\n",
      "message: {'message'}\n",
      "herb: {'herb'}\n",
      "marker: {'marker'}\n",
      "mint: {'mint'}\n",
      "rosemary: {'rosemary'}\n",
      "chives: {'chives'}\n",
      "parsley: {'parsley'}\n",
      "thyme: {'thyme'}\n",
      "merry: {'merry'}\n",
      "trees: {'trees'}\n",
      "handbag: {'handbag'}\n",
      "happy: {'happy'}\n",
      "easter: {'easter'}\n",
      "cut: {'cut'}\n",
      "season: {'season'}\n",
      "toast: {'toast'}\n",
      "path: {'path'}\n",
      "journal: {'journal'}\n",
      "squeezer: {'squeezer'}\n",
      "washing: {'washing'}\n",
      "gloves: {'gloves'}\n",
      "licorice: {'licorice'}\n",
      "swiss: {'swiss'}\n",
      "roll: {'roll'}\n",
      "spots: {'spots'}\n",
      "bags: {'bags'}\n",
      "double: {'double'}\n",
      "ridged: {'ridged'}\n",
      "pantry: {'pantry'}\n",
      "confetti: {'confetti'}\n",
      "multicolour: {'multicolour'}\n",
      "wick: {'wick'}\n",
      "morris: {'morris'}\n",
      "pistachio: {'pistachio'}\n",
      "honeycomb: {'honeycomb'}\n",
      "spirit: {'spirit'}\n",
      "level: {'level'}\n",
      "platter: {'platter'}\n",
      "teacup: {'teacup'}\n",
      "slice: {'slice'}\n",
      "sporting: {'sporting'}\n",
      "fun: {'fun'}\n",
      "gecko: {'gecko'}\n",
      "weight: {'weight'}\n",
      "sand: {'sand'}\n",
      "col: {'col'}\n",
      "ass: {'ass'}\n",
      "postcard: {'postcard'}\n",
      "spring: {'spring'}\n",
      "chateau: {'chateau'}\n",
      "scales: {'scales'}\n",
      "multi: {'multi'}\n",
      "lizard: {'lizard'}\n",
      "suction: {'suction'}\n",
      "engine: {'engine'}\n",
      "car: {'car'}\n",
      "patches: {'patches'}\n",
      "psychedelic: {'psychedelic'}\n",
      "apples: {'apples'}\n",
      "placemat: {'placemat'}\n",
      "enchanted: {'enchanted'}\n",
      "forest: {'forest'}\n",
      "flowerpower: {'flowerpower'}\n",
      "beautiful: {'beautiful'}\n",
      "case: {'case'}\n",
      "life: {'life'}\n",
      "rounders: {'rounders'}\n",
      "childs: {'childs'}\n",
      "taper: {'taper'}\n",
      "ladder: {'ladder'}\n",
      "confectionery: {'confectionery'}\n",
      "digestive: {'digestive'}\n",
      "biscuits: {'biscuits'}\n",
      "stopper: {'stopper'}\n",
      "welcome: {'welcome'}\n",
      "modern: {'modern'}\n",
      "swallow: {'swallow'}\n",
      "junk: {'junk'}\n",
      "mail: {'mail'}\n",
      "tile: {'tile'}\n",
      "finger: {'finger'}\n",
      "beurre: {'beurre'}\n",
      "dish: {'dish'}\n",
      "greeting: {'greeting'}\n",
      "screen: {'screen'}\n",
      "print: {'print'}\n",
      "fonts: {'fonts'}\n",
      "earth: {'earth'}\n",
      "peace: {'peace'}\n",
      "parasols: {'parasols'}\n",
      "cocktail: {'cocktail'}\n",
      "strongman: {'strongman'}\n",
      "school: {'school'}\n",
      "crayons: {'crayons'}\n",
      "games: {'games'}\n",
      "booze: {'booze'}\n",
      "women: {'women'}\n",
      "lads: {'lads'}\n",
      "gingerbread: {'gingerbread'}\n",
      "man: {'man'}\n",
      "heat: {'heat'}\n",
      "person: {'person'}\n",
      "frying: {'frying'}\n",
      "pan: {'pan'}\n",
      "shape: {'shape'}\n",
      "bendy: {'bendy'}\n",
      "straws: {'straws'}\n",
      "sketchbook: {'sketchbook'}\n",
      "singing: {'singing'}\n",
      "emergency: {'emergency'}\n",
      "frieze: {'frieze'}\n",
      "decorative: {'decorative'}\n",
      "door: {'door'}\n",
      "drawers: {'drawers'}\n",
      "joy: {'joy'}\n",
      "noel: {'noel'}\n",
      "cosmetic: {'cosmetic'}\n",
      "regal: {'regal'}\n",
      "candlepot: {'candlepot'}\n",
      "swirlglass: {'swirlglass'}\n",
      "pedestal: {'pedestal'}\n",
      "magazine: {'magazine'}\n",
      "food: {'food'}\n",
      "raffia: {'raffia'}\n",
      "fluted: {'fluted'}\n",
      "kashmir: {'kashmir'}\n",
      "folkart: {'folkart'}\n",
      "chocolatecandle: {'chocolatecandle'}\n",
      "grand: {'grand'}\n",
      "shelf: {'shelf'}\n",
      "images: {'images'}\n",
      "curious: {'curious'}\n",
      "days: {'days'}\n",
      "jewellery: {'jewellery'}\n",
      "extremely: {'extremely'}\n",
      "busy: {'busy'}\n",
      "lolita: {'lolita'}\n",
      "lets: {'lets'}\n",
      "shopping: {'shopping'}\n",
      "torch: {'torch'}\n",
      "camouflage: {'camouflage'}\n",
      "dragonfly: {'dragonfly'}\n",
      "helicopter: {'helicopter'}\n",
      "shark: {'shark'}\n",
      "doctor: {'doctor'}\n",
      "carriage: {'carriage'}\n",
      "lightbulb: {'lightbulb'}\n",
      "moon: {'moon'}\n",
      "musical: {'musical'}\n",
      "fringe: {'fringe'}\n",
      "hammock: {'hammock'}\n",
      "stripe: {'stripe'}\n",
      "dec: {'dec'}\n",
      "crossbones: {'crossbones'}\n",
      "pony: {'pony'}\n",
      "cordon: {'cordon'}\n",
      "barrier: {'barrier'}\n",
      "teddy: {'teddy'}\n",
      "air: {'air'}\n",
      "hostess: {'hostess'}\n",
      "letter: {'letter'}\n",
      "lovebirds: {'lovebirds'}\n",
      "stacking: {'stacking'}\n",
      "hut: {'hut'}\n",
      "key: {'key'}\n",
      "passport: {'passport'}\n",
      "blossom: {'blossom'}\n",
      "mod: {'mod'}\n",
      "cardholder: {'cardholder'}\n",
      "book: {'book'}\n",
      "overnight: {'overnight'}\n",
      "spiral: {'spiral'}\n",
      "coal: {'coal'}\n",
      "feather: {'feather'}\n",
      "airmail: {'airmail'}\n",
      "number: {'number'}\n",
      "smiley: {'smiley'}\n",
      "cats: {'cats'}\n",
      "collage: {'collage'}\n",
      "memory: {'memory'}\n",
      "childhood: {'childhood'}\n",
      "funk: {'funk'}\n",
      "monkey: {'monkey'}\n",
      "choc: {'choc'}\n",
      "glitter: {'glitter'}\n",
      "nursery: {'nursery'}\n",
      "dutch: {'dutch'}\n",
      "cheese: {'cheese'}\n",
      "geisha: {'geisha'}\n",
      "newspaper: {'newspaper'}\n",
      "scandispot: {'scandispot'}\n",
      "stocking: {'stocking'}\n",
      "jingle: {'jingle'}\n",
      "keys: {'keys'}\n",
      "instrument: {'instrument'}\n",
      "crowns: {'crowns'}\n",
      "chalet: {'chalet'}\n",
      "manual: {'manual'}\n",
      "motorbike: {'motorbike'}\n",
      "medicine: {'medicine'}\n",
      "ma: {'ma'}\n",
      "campagne: {'campagne'}\n",
      "yuletide: {'yuletide'}\n",
      "shade: {'shade'}\n",
      "base: {'base'}\n",
      "smallfolkart: {'smallfolkart'}\n",
      "eucalyptus: {'eucalyptus'}\n",
      "pinecone: {'pinecone'}\n",
      "pudding: {'pudding'}\n",
      "fine: {'fine'}\n",
      "cacti: {'cacti'}\n",
      "marshmallow: {'marshmallow'}\n",
      "knitting: {'knitting'}\n",
      "best: {'best'}\n",
      "mum: {'mum'}\n",
      "indians: {'indians'}\n",
      "spotted: {'spotted'}\n",
      "lipstick: {'lipstick'}\n",
      "fuschia: {'fuschia'}\n",
      "brocade: {'brocade'}\n",
      "swallows: {'swallows'}\n",
      "ladle: {'ladle'}\n",
      "bling: {'bling'}\n",
      "bingo: {'bingo'}\n",
      "mac: {'mac'}\n",
      "floor: {'floor'}\n",
      "fauna: {'fauna'}\n",
      "ear: {'ear'}\n",
      "muff: {'muff'}\n",
      "headphones: {'headphones'}\n",
      "tutti: {'tutti'}\n",
      "frutti: {'frutti'}\n",
      "scotties: {'scotties'}\n",
      "brush: {'brush'}\n",
      "bee: {'bee'}\n",
      "ladybird: {'ladybird'}\n",
      "ribs: {'ribs'}\n",
      "bamboo: {'bamboo'}\n",
      "lampshade: {'lampshade'}\n",
      "gardenia: {'gardenia'}\n",
      "boxed: {'boxed'}\n",
      "creatures: {'creatures'}\n",
      "cute: {'cute'}\n",
      "badges: {'badges'}\n",
      "pocket: {'pocket'}\n",
      "porcelain: {'porcelain'}\n",
      "baking: {'baking'}\n",
      "brocante: {'brocante'}\n",
      "maria: {'maria'}\n",
      "respectable: {'respectable'}\n",
      "memo: {'memo'}\n",
      "room: {'room'}\n",
      "salle: {'salle'}\n",
      "bain: {'bain'}\n",
      "stack: {'stack'}\n",
      "presents: {'presents'}\n",
      "robot: {'robot'}\n",
      "war: {'war'}\n",
      "gliders: {'gliders'}\n",
      "designs: {'designs'}\n",
      "asstd: {'asstd'}\n",
      "coathanger: {'coathanger'}\n",
      "bomb: {'bomb'}\n",
      "pump: {'pump'}\n",
      "stencil: {'stencil'}\n",
      "lovely: {'lovely'}\n",
      "bonbon: {'bonbon'}\n",
      "toothpaste: {'toothpaste'}\n",
      "purdey: {'purdey'}\n",
      "account: {'account'}\n",
      "penny: {'penny'}\n",
      "farthing: {'farthing'}\n",
      "embossed: {'embossed'}\n",
      "watering: {'watering'}\n",
      "bunny: {'bunny'}\n",
      "elephant: {'elephant'}\n",
      "pig: {'pig'}\n",
      "loveheart: {'loveheart'}\n",
      "vie: {'vie'}\n",
      "en: {'en'}\n",
      "la: {'la'}\n",
      "pin: {'pin'}\n",
      "hooks: {'hooks'}\n",
      "patrolled: {'patrolled'}\n",
      "area: {'area'}\n",
      "portrait: {'portrait'}\n",
      "plastic: {'plastic'}\n",
      "measure: {'measure'}\n",
      "rainbow: {'rainbow'}\n",
      "modelling: {'modelling'}\n",
      "clay: {'clay'}\n",
      "disc: {'disc'}\n",
      "peg: {'peg'}\n",
      "floral: {'floral'}\n",
      "sugar: {'sugar'}\n",
      "teapot: {'teapot'}\n",
      "dairy: {'dairy'}\n",
      "maid: {'maid'}\n",
      "container: {'container'}\n",
      "touch: {'touch'}\n",
      "stuff: {'stuff'}\n",
      "moody: {'moody'}\n",
      "boy: {'boy'}\n",
      "filigris: {'filigris'}\n",
      "nest: {'nest'}\n",
      "hen: {'hen'}\n",
      "sticky: {'sticky'}\n",
      "wishes: {'wishes'}\n",
      "stamp: {'stamp'}\n",
      "thank: {'thank'}\n",
      "glamorous: {'glamorous'}\n",
      "planter: {'planter'}\n",
      "dragon: {'dragon'}\n",
      "lanterns: {'lanterns'}\n",
      "eraser: {'eraser'}\n",
      "recycled: {'recycled'}\n",
      "ruler: {'ruler'}\n",
      "digitalis: {'digitalis'}\n",
      "post: {'post'}\n",
      "milkshake: {'milkshake'}\n",
      "baby: {'baby'}\n",
      "birds: {'birds'}\n",
      "mobile: {'mobile'}\n",
      "height: {'height'}\n",
      "chart: {'chart'}\n",
      "figures: {'figures'}\n",
      "wedding: {'wedding'}\n",
      "shine: {'shine'}\n",
      "shoe: {'shoe'}\n",
      "columbian: {'columbian'}\n",
      "pots: {'pots'}\n",
      "army: {'army'}\n",
      "camo: {'camo'}\n",
      "bookcover: {'bookcover'}\n",
      "carrot: {'carrot'}\n",
      "chunky: {'chunky'}\n",
      "tassel: {'tassel'}\n",
      "amber: {'amber'}\n",
      "bead: {'bead'}\n",
      "livingroom: {'livingroom'}\n",
      "posy: {'posy'}\n",
      "vine: {'vine'}\n",
      "lilac: {'lilac'}\n",
      "juicy: {'juicy'}\n",
      "fruit: {'fruit'}\n",
      "clips: {'clips'}\n",
      "crawlies: {'crawlies'}\n",
      "creepy: {'creepy'}\n",
      "memoboard: {'memoboard'}\n",
      "album: {'album'}\n",
      "wash: {'wash'}\n",
      "local: {'local'}\n",
      "cafe: {'cafe'}\n",
      "bow: {'bow'}\n",
      "brooch: {'brooch'}\n",
      "lily: {'lily'}\n",
      "amethyst: {'amethyst'}\n",
      "hairclip: {'hairclip'}\n",
      "pair: {'pair'}\n",
      "gemstone: {'gemstone'}\n",
      "drop: {'drop'}\n",
      "earrings: {'earrings'}\n",
      "earring: {'earring'}\n",
      "hoop: {'hoop'}\n",
      "leaf: {'leaf'}\n",
      "hexagon: {'hexagon'}\n",
      "clam: {'clam'}\n",
      "shell: {'shell'}\n",
      "cockle: {'cockle'}\n",
      "garage: {'garage'}\n",
      "fob: {'fob'}\n",
      "chopsticks: {'chopsticks'}\n",
      "puppet: {'puppet'}\n",
      "frog: {'frog'}\n",
      "candlestand: {'candlestand'}\n",
      "gaolers: {'gaolers'}\n",
      "champagne: {'champagne'}\n",
      "big: {'big'}\n",
      "sky: {'sky'}\n",
      "curio: {'curio'}\n",
      "colours: {'colours'}\n",
      "fan: {'fan'}\n",
      "duck: {'duck'}\n",
      "charges: {'charges'}\n",
      "butter: {'butter'}\n",
      "kid: {'kid'}\n",
      "open: {'open'}\n",
      "farm: {'farm'}\n",
      "animal: {'animal'}\n",
      "snowstorm: {'snowstorm'}\n",
      "magnet: {'magnet'}\n",
      "tinsel: {'tinsel'}\n",
      "space: {'space'}\n",
      "cadet: {'cadet'}\n",
      "illustrated: {'illustrated'}\n",
      "monsters: {'monsters'}\n",
      "citronella: {'citronella'}\n",
      "folk: {'folk'}\n",
      "burst: {'burst'}\n",
      "laundry: {'laundry'}\n",
      "fanny: {'fanny'}\n",
      "stopmetal: {'stopmetal'}\n",
      "rest: {'rest'}\n",
      "way: {'way'}\n",
      "baths: {'baths'}\n",
      "pottering: {'pottering'}\n",
      "corona: {'corona'}\n",
      "mexican: {'mexican'}\n",
      "weekend: {'weekend'}\n",
      "colander: {'colander'}\n",
      "ivy: {'ivy'}\n",
      "strawbery: {'strawbery'}\n",
      "washbag: {'washbag'}\n",
      "tub: {'tub'}\n",
      "feng: {'feng'}\n",
      "shui: {'shui'}\n",
      "pillar: {'pillar'}\n",
      "novelty: {'novelty'}\n",
      "toastrack: {'toastrack'}\n",
      "padded: {'padded'}\n",
      "gauze: {'gauze'}\n",
      "herbs: {'herbs'}\n",
      "croquet: {'croquet'}\n",
      "holders: {'holders'}\n",
      "truffle: {'truffle'}\n",
      "cabin: {'cabin'}\n",
      "nancy: {'nancy'}\n",
      "moroccan: {'moroccan'}\n",
      "faux: {'faux'}\n",
      "fur: {'fur'}\n",
      "throw: {'throw'}\n",
      "lush: {'lush'}\n",
      "greens: {'greens'}\n",
      "sandcastle: {'sandcastle'}\n",
      "flags: {'flags'}\n",
      "pearl: {'pearl'}\n",
      "beaded: {'beaded'}\n",
      "wrapping: {'wrapping'}\n",
      "doggy: {'doggy'}\n",
      "rubber: {'rubber'}\n",
      "salad: {'salad'}\n",
      "bows: {'bows'}\n",
      "buttons: {'buttons'}\n",
      "petit: {'petit'}\n",
      "du: {'du'}\n",
      "sud: {'sud'}\n",
      "check: {'check'}\n",
      "ludo: {'ludo'}\n",
      "palmiera: {'palmiera'}\n",
      "tools: {'tools'}\n",
      "display: {'display'}\n",
      "secateurs: {'secateurs'}\n",
      "leis: {'leis'}\n",
      "snake: {'snake'}\n",
      "field: {'field'}\n",
      "camphor: {'camphor'}\n",
      "portobello: {'portobello'}\n",
      "draw: {'draw'}\n",
      "liners: {'liners'}\n",
      "summer: {'summer'}\n",
      "strawberries: {'strawberries'}\n",
      "neighbourhood: {'neighbourhood'}\n",
      "witch: {'witch'}\n",
      "pharmacie: {'pharmacie'}\n",
      "salt: {'salt'}\n",
      "pepper: {'pepper'}\n",
      "polkadots: {'polkadots'}\n",
      "naughty: {'naughty'}\n",
      "sound: {'sound'}\n",
      "keyring: {'keyring'}\n",
      "hello: {'hello'}\n",
      "sailor: {'sailor'}\n",
      "beware: {'beware'}\n",
      "cinnamon: {'cinnamon'}\n",
      "votive: {'votive'}\n",
      "jasmine: {'jasmine'}\n",
      "bone: {'bone'}\n",
      "china: {'china'}\n",
      "settings: {'settings'}\n",
      "circles: {'circles'}\n",
      "glamour: {'glamour'}\n",
      "midnight: {'midnight'}\n",
      "frappucino: {'frappucino'}\n",
      "phone: {'phone'}\n",
      "beads: {'beads'}\n",
      "pendant: {'pendant'}\n",
      "patch: {'patch'}\n",
      "compact: {'compact'}\n",
      "tropical: {'tropical'}\n",
      "skirt: {'skirt'}\n",
      "mouse: {'mouse'}\n",
      "ocean: {'ocean'}\n",
      "jewel: {'jewel'}\n",
      "nurse: {'nurse'}\n",
      "bohemian: {'bohemian'}\n",
      "ribbed: {'ribbed'}\n",
      "melamine: {'melamine'}\n",
      "fresh: {'fresh'}\n",
      "wool: {'wool'}\n",
      "peacock: {'peacock'}\n",
      "salts: {'salts'}\n",
      "footprints: {'footprints'}\n",
      "velvet: {'velvet'}\n",
      "shop: {'shop'}\n",
      "monster: {'monster'}\n",
      "mousey: {'mousey'}\n",
      "legs: {'legs'}\n",
      "long: {'long'}\n",
      "utensil: {'utensil'}\n",
      "wake: {'wake'}\n",
      "cockerel: {'cockerel'}\n",
      "rim: {'rim'}\n",
      "bouquet: {'bouquet'}\n",
      "pear: {'pear'}\n",
      "snow: {'snow'}\n",
      "danish: {'danish'}\n",
      "cast: {'cast'}\n",
      "iron: {'iron'}\n",
      "fork: {'fork'}\n",
      "trowel: {'trowel'}\n",
      "pearls: {'pearls'}\n",
      "lime: {'lime'}\n",
      "boudicca: {'boudicca'}\n",
      "pennant: {'pennant'}\n",
      "labels: {'labels'}\n",
      "racing: {'racing'}\n",
      "forked: {'forked'}\n",
      "cactus: {'cactus'}\n",
      "denim: {'denim'}\n",
      "ream: {'ream'}\n",
      "pop: {'pop'}\n",
      "poncho: {'poncho'}\n",
      "flask: {'flask'}\n",
      "keyrings: {'keyrings'}\n",
      "memories: {'memories'}\n",
      "paperweight: {'paperweight'}\n",
      "bear: {'bear'}\n",
      "kashmiri: {'kashmiri'}\n",
      "chair: {'chair'}\n",
      "mixture: {'mixture'}\n",
      "rings: {'rings'}\n",
      "dream: {'dream'}\n",
      "chocolates: {'chocolates'}\n",
      "windsock: {'windsock'}\n",
      "ping: {'ping'}\n",
      "microwave: {'microwave'}\n",
      "mitt: {'mitt'}\n",
      "delight: {'delight'}\n",
      "leap: {'leap'}\n",
      "periwinkle: {'periwinkle'}\n",
      "silicon: {'silicon'}\n",
      "stamped: {'stamped'}\n",
      "netting: {'netting'}\n",
      "tablecloth: {'tablecloth'}\n",
      "seat: {'seat'}\n",
      "madras: {'madras'}\n",
      "sandalwood: {'sandalwood'}\n",
      "ice: {'ice'}\n",
      "rocket: {'rocket'}\n",
      "sombrero: {'sombrero'}\n",
      "bitty: {'bitty'}\n",
      "stones: {'stones'}\n",
      "abstract: {'abstract'}\n",
      "decorations: {'decorations'}\n",
      "glowing: {'glowing'}\n",
      "tiaras: {'tiaras'}\n",
      "robin: {'robin'}\n",
      "butterflies: {'butterflies'}\n",
      "utilty: {'utilty'}\n",
      "chicks: {'chicks'}\n",
      "motoring: {'motoring'}\n",
      "kensington: {'kensington'}\n",
      "traveling: {'traveling'}\n",
      "dogs: {'dogs'}\n",
      "bib: {'bib'}\n",
      "flu: {'flu'}\n",
      "wrecking: {'wrecking'}\n",
      "embroidery: {'embroidery'}\n",
      "hangers: {'hangers'}\n",
      "spoon: {'spoon'}\n",
      "ashtray: {'ashtray'}\n",
      "shower: {'shower'}\n",
      "cap: {'cap'}\n",
      "stripy: {'stripy'}\n",
      "queen: {'queen'}\n",
      "skies: {'skies'}\n",
      "economy: {'economy'}\n",
      "marshmallows: {'marshmallows'}\n",
      "pumpkin: {'pumpkin'}\n",
      "stitched: {'stitched'}\n",
      "oil: {'oil'}\n",
      "burner: {'burner'}\n",
      "notelets: {'notelets'}\n",
      "savoy: {'savoy'}\n",
      "deco: {'deco'}\n",
      "hall: {'hall'}\n",
      "hammered: {'hammered'}\n",
      "chrysanthemums: {'chrysanthemums'}\n",
      "sunset: {'sunset'}\n",
      "circle: {'circle'}\n",
      "envelope: {'envelope'}\n",
      "camping: {'camping'}\n",
      "knif: {'knif'}\n",
      "sage: {'sage'}\n",
      "afghan: {'afghan'}\n",
      "flowerpot: {'flowerpot'}\n",
      "sundae: {'sundae'}\n",
      "paisely: {'paisely'}\n",
      "essential: {'essential'}\n",
      "balm: {'balm'}\n",
      "tumbler: {'tumbler'}\n",
      "cubic: {'cubic'}\n",
      "travelogue: {'travelogue'}\n",
      "clean: {'clean'}\n",
      "bullet: {'bullet'}\n",
      "puppies: {'puppies'}\n",
      "sunrise: {'sunrise'}\n",
      "carousel: {'carousel'}\n",
      "toxic: {'toxic'}\n",
      "plasmatronic: {'plasmatronic'}\n",
      "burgundy: {'burgundy'}\n",
      "russian: {'russian'}\n",
      "dusty: {'dusty'}\n",
      "sunglasses: {'sunglasses'}\n",
      "blackchristmas: {'blackchristmas'}\n",
      "frames: {'frames'}\n",
      "mix: {'mix'}\n",
      "sweeties: {'sweeties'}\n",
      "wireless: {'wireless'}\n",
      "doorbell: {'doorbell'}\n",
      "lattice: {'lattice'}\n",
      "wildflower: {'wildflower'}\n",
      "bronze: {'bronze'}\n",
      "polished: {'polished'}\n",
      "neckl: {'neckl'}\n",
      "crawlie: {'crawlie'}\n",
      "smokey: {'smokey'}\n",
      "pouri: {'pouri'}\n",
      "cushions: {'cushions'}\n",
      "windmill: {'windmill'}\n",
      "pale: {'pale'}\n",
      "organdy: {'organdy'}\n",
      "bea: {'bea'}\n",
      "mao: {'mao'}\n",
      "goose: {'goose'}\n",
      "crested: {'crested'}\n",
      "tit: {'tit'}\n",
      "cosmetics: {'cosmetics'}\n",
      "flytrap: {'flytrap'}\n",
      "sunflower: {'sunflower'}\n",
      "evening: {'evening'}\n",
      "butterfl: {'butterfl'}\n",
      "pouffe: {'pouffe'}\n",
      "regatta: {'regatta'}\n",
      "freestyle: {'freestyle'}\n",
      "mosaic: {'mosaic'}\n",
      "budah: {'budah'}\n",
      "wise: {'wise'}\n",
      "potion: {'potion'}\n",
      "masala: {'masala'}\n",
      "favourites: {'favourites'}\n",
      "banquet: {'banquet'}\n",
      "cupboard: {'cupboard'}\n",
      "xmas: {'xmas'}\n",
      "mixed: {'mixed'}\n",
      "nuts: {'nuts'}\n",
      "basin: {'basin'}\n",
      "nile: {'nile'}\n",
      "eau: {'eau'}\n",
      "tigris: {'tigris'}\n",
      "eye: {'eye'}\n",
      "vinyl: {'vinyl'}\n",
      "camembert: {'camembert'}\n",
      "susan: {'susan'}\n",
      "needle: {'needle'}\n",
      "las: {'las'}\n",
      "vegas: {'vegas'}\n",
      "mould: {'mould'}\n",
      "toffee: {'toffee'}\n",
      "cupcakes: {'cupcakes'}\n",
      "pointy: {'pointy'}\n",
      "voile: {'voile'}\n",
      "address: {'address'}\n",
      "stool: {'stool'}\n",
      "photoframe: {'photoframe'}\n",
      "jungle: {'jungle'}\n",
      "popsicles: {'popsicles'}\n",
      "lolly: {'lolly'}\n",
      "balls: {'balls'}\n",
      "twine: {'twine'}\n",
      "sculpted: {'sculpted'}\n",
      "rnd: {'rnd'}\n",
      "str: {'str'}\n",
      "strap: {'strap'}\n",
      "beauty: {'beauty'}\n",
      "cd: {'cd'}\n",
      "gebra: {'gebra'}\n",
      "pebble: {'pebble'}\n",
      "shutters: {'shutters'}\n",
      "seafood: {'seafood'}\n",
      "nil: {'nil'}\n",
      "rake: {'rake'}\n",
      "triangular: {'triangular'}\n",
      "octagon: {'octagon'}\n",
      "diva: {'diva'}\n",
      "chime: {'chime'}\n",
      "pointed: {'pointed'}\n",
      "edge: {'edge'}\n",
      "hairclips: {'hairclips'}\n",
      "forties: {'forties'}\n",
      "dreams: {'dreams'}\n",
      "dragons: {'dragons'}\n",
      "blood: {'blood'}\n",
      "fishing: {'fishing'}\n",
      "gnome: {'gnome'}\n",
      "standing: {'standing'}\n",
      "coney: {'coney'}\n",
      "island: {'island'}\n",
      "bottles: {'bottles'}\n",
      "pompom: {'pompom'}\n",
      "curtain: {'curtain'}\n",
      "hawaiian: {'hawaiian'}\n",
      "grass: {'grass'}\n",
      "mixing: {'mixing'}\n",
      "colourful: {'colourful'}\n",
      "rosette: {'rosette'}\n",
      "class: {'class'}\n",
      "trays: {'trays'}\n",
      "plaque: {'plaque'}\n",
      "kitty: {'kitty'}\n",
      "olive: {'olive'}\n",
      "popart: {'popart'}\n",
      "rect: {'rect'}\n",
      "asst: {'asst'}\n",
      "sharpener: {'sharpener'}\n",
      "tortilla: {'tortilla'}\n",
      "sucker: {'sucker'}\n",
      "origami: {'origami'}\n",
      "opium: {'opium'}\n",
      "cand: {'cand'}\n",
      "sandlewood: {'sandlewood'}\n",
      "rococo: {'rococo'}\n",
      "sprig: {'sprig'}\n",
      "artificial: {'artificial'}\n",
      "cage: {'cage'}\n",
      "strawbry: {'strawbry'}\n",
      "goblet: {'goblet'}\n",
      "rattle: {'rattle'}\n",
      "eggs: {'eggs'}\n",
      "highlighter: {'highlighter'}\n",
      "kittens: {'kittens'}\n",
      "slides: {'slides'}\n",
      "slide: {'slide'}\n",
      "tiled: {'tiled'}\n",
      "laquered: {'laquered'}\n",
      "cartoon: {'cartoon'}\n",
      "sharpeners: {'sharpeners'}\n",
      "ponies: {'ponies'}\n",
      "vip: {'vip'}\n",
      "rabbits: {'rabbits'}\n",
      "old: {'old'}\n",
      "doc: {'doc'}\n",
      "russel: {'russel'}\n",
      "ninja: {'ninja'}\n",
      "scrap: {'scrap'}\n",
      "dads: {'dads'}\n",
      "scroll: {'scroll'}\n",
      "marmalade: {'marmalade'}\n",
      "garld: {'garld'}\n",
      "turq: {'turq'}\n",
      "copper: {'copper'}\n",
      "droplet: {'droplet'}\n",
      "bedside: {'bedside'}\n",
      "twist: {'twist'}\n",
      "murano: {'murano'}\n",
      "silouette: {'silouette'}\n",
      "demi: {'demi'}\n",
      "choker: {'choker'}\n",
      "orbit: {'orbit'}\n",
      "flowe: {'flowe'}\n",
      "pastel: {'pastel'}\n",
      "beaten: {'beaten'}\n",
      "charger: {'charger'}\n",
      "aperitif: {'aperitif'}\n",
      "spice: {'spice'}\n",
      "cannister: {'cannister'}\n",
      "bertie: {'bertie'}\n",
      "steel: {'steel'}\n",
      "mr: {'mr'}\n",
      "vippassport: {'vippassport'}\n",
      "screwdriver: {'screwdriver'}\n",
      "spaceball: {'spaceball'}\n",
      "jeweled: {'jeweled'}\n",
      "hippy: {'hippy'}\n",
      "chic: {'chic'}\n",
      "mrs: {'mrs'}\n",
      "prince: {'prince'}\n",
      "chalice: {'chalice'}\n",
      "stud: {'stud'}\n",
      "blackboard: {'blackboard'}\n",
      "bum: {'bum'}\n",
      "roccoco: {'roccoco'}\n",
      "chandelier: {'chandelier'}\n",
      "swat: {'swat'}\n",
      "sheep: {'sheep'}\n",
      "fruitbowl: {'fruitbowl'}\n",
      "freshwater: {'freshwater'}\n",
      "stone: {'stone'}\n",
      "teal: {'teal'}\n",
      "groovy: {'groovy'}\n",
      "candl: {'candl'}\n",
      "blackblue: {'blackblue'}\n",
      "bus: {'bus'}\n",
      "comb: {'comb'}\n",
      "queens: {'queens'}\n",
      "guard: {'guard'}\n",
      "cubes: {'cubes'}\n",
      "growing: {'growing'}\n",
      "diamond: {'diamond'}\n",
      "lariat: {'lariat'}\n",
      "fluffy: {'fluffy'}\n",
      "housekeeping: {'housekeeping'}\n",
      "ade: {'ade'}\n",
      "desk: {'desk'}\n",
      "mock: {'mock'}\n",
      "lobster: {'lobster'}\n",
      "diamon: {'diamon'}\n",
      "raspberr: {'raspberr'}\n",
      "lazer: {'lazer'}\n",
      "mop: {'mop'}\n",
      "band: {'band'}\n",
      "daisies: {'daisies'}\n",
      "delphinium: {'delphinium'}\n",
      "anemone: {'anemone'}\n",
      "candystuft: {'candystuft'}\n",
      "wobbly: {'wobbly'}\n",
      "toybox: {'toybox'}\n",
      "skippping: {'skippping'}\n",
      "doughnuts: {'doughnuts'}\n",
      "banner: {'banner'}\n",
      "cannabis: {'cannabis'}\n",
      "glow: {'glow'}\n",
      "dolphins: {'dolphins'}\n",
      "dark: {'dark'}\n",
      "wheelbarrow: {'wheelbarrow'}\n",
      "frangipani: {'frangipani'}\n",
      "beaker: {'beaker'}\n",
      "rosebud: {'rosebud'}\n",
      "chenille: {'chenille'}\n",
      "shaggy: {'shaggy'}\n",
      "relax: {'relax'}\n",
      "day: {'day'}\n",
      "waste: {'waste'}\n",
      "carpet: {'carpet'}\n",
      "bar: {'bar'}\n",
      "condiment: {'condiment'}\n",
      "hilda: {'hilda'}\n",
      "congratulations: {'congratulations'}\n",
      "puddings: {'puddings'}\n",
      "icon: {'icon'}\n",
      "elvis: {'elvis'}\n",
      "drawstring: {'drawstring'}\n",
      "hare: {'hare'}\n",
      "gordon: {'gordon'}\n",
      "overcrowded: {'overcrowded'}\n",
      "pool: {'pool'}\n",
      "sisters: {'sisters'}\n",
      "citrus: {'citrus'}\n",
      "beetles: {'beetles'}\n",
      "sitting: {'sitting'}\n",
      "lighthouse: {'lighthouse'}\n",
      "resin: {'resin'}\n",
      "crusoe: {'crusoe'}\n",
      "vegetables: {'vegetables'}\n",
      "flore: {'flore'}\n",
      "ridge: {'ridge'}\n",
      "doiley: {'doiley'}\n",
      "multicol: {'multicol'}\n",
      "blond: {'blond'}\n",
      "hunt: {'hunt'}\n",
      "start: {'start'}\n",
      "aqua: {'aqua'}\n",
      "song: {'song'}\n",
      "chains: {'chains'}\n",
      "rasta: {'rasta'}\n",
      "poppies: {'poppies'}\n",
      "king: {'king'}\n",
      "shapes: {'shapes'}\n",
      "petals: {'petals'}\n",
      "swinging: {'swinging'}\n",
      "farmyard: {'farmyard'}\n",
      "george: {'george'}\n",
      "st: {'st'}\n",
      "savannah: {'savannah'}\n",
      "hamper: {'hamper'}\n",
      "barn: {'barn'}\n",
      "hydrangea: {'hydrangea'}\n",
      "suede: {'suede'}\n",
      "oyster: {'oyster'}\n",
      "posies: {'posies'}\n",
      "flames: {'flames'}\n",
      "lenses: {'lenses'}\n",
      "support: {'support'}\n",
      "pole: {'pole'}\n",
      "sphere: {'sphere'}\n",
      "provencal: {'provencal'}\n",
      "rectangular: {'rectangular'}\n",
      "shelving: {'shelving'}\n",
      "unit: {'unit'}\n",
      "push: {'push'}\n",
      "briar: {'briar'}\n",
      "planters: {'planters'}\n",
      "roman: {'roman'}\n",
      "peach: {'peach'}\n",
      "bazaar: {'bazaar'}\n",
      "tranquility: {'tranquility'}\n",
      "shells: {'shells'}\n",
      "climbing: {'climbing'}\n",
      "hydranga: {'hydranga'}\n",
      "radio: {'radio'}\n",
      "buddha: {'buddha'}\n",
      "head: {'head'}\n",
      "pet: {'pet'}\n",
      "goldfish: {'goldfish'}\n",
      "tiny: {'tiny'}\n",
      "revolutionary: {'revolutionary'}\n",
      "tie: {'tie'}\n",
      "jade: {'jade'}\n",
      "cluster: {'cluster'}\n",
      "windchime: {'windchime'}\n",
      "sea: {'sea'}\n",
      "pom: {'pom'}\n",
      "cracked: {'cracked'}\n",
      "glaze: {'glaze'}\n",
      "vint: {'vint'}\n",
      "necklac: {'necklac'}\n",
      "nat: {'nat'}\n",
      "hopper: {'hopper'}\n",
      "monte: {'monte'}\n",
      "carlo: {'carlo'}\n",
      "scrubbing: {'scrubbing'}\n",
      "jelly: {'jelly'}\n",
      "moulds: {'moulds'}\n",
      "meadow: {'meadow'}\n",
      "wallet: {'wallet'}\n",
      "transport: {'transport'}\n",
      "calm: {'calm'}\n",
      "giraffe: {'giraffe'}\n",
      "revolver: {'revolver'}\n",
      "pill: {'pill'}\n",
      "ticket: {'ticket'}\n",
      "rolling: {'rolling'}\n",
      "run: {'run'}\n",
      "dotcomgiftshop: {'dotcomgiftshop'}\n",
      "raspberry: {'raspberry'}\n",
      "berries: {'berries'}\n",
      "woven: {'woven'}\n",
      "scallop: {'scallop'}\n",
      "secret: {'secret'}\n",
      "starfish: {'starfish'}\n",
      "riviera: {'riviera'}\n",
      "dad: {'dad'}\n",
      "heavens: {'heavens'}\n",
      "fragrance: {'fragrance'}\n",
      "oils: {'oils'}\n",
      "flame: {'flame'}\n",
      "allium: {'allium'}\n",
      "foxglove: {'foxglove'}\n",
      "artiifcial: {'artiifcial'}\n",
      "occupied: {'occupied'}\n",
      "vacant: {'vacant'}\n",
      "buffalo: {'buffalo'}\n",
      "gymkhanna: {'gymkhanna'}\n",
      "abc: {'abc'}\n",
      "pastry: {'pastry'}\n",
      "amelie: {'amelie'}\n",
      "dollcraft: {'dollcraft'}\n",
      "nicole: {'nicole'}\n",
      "frost: {'frost'}\n",
      "jean: {'jean'}\n",
      "paul: {'paul'}\n",
      "gymkhana: {'gymkhana'}\n",
      "mother: {'mother'}\n",
      "corer: {'corer'}\n",
      "acapulco: {'acapulco'}\n",
      "mat: {'mat'}\n",
      "lives: {'lives'}\n",
      "opener: {'opener'}\n",
      "bull: {'bull'}\n",
      "guitar: {'guitar'}\n",
      "ol: {'ol'}\n",
      "splodges: {'splodges'}\n",
      "hole: {'hole'}\n",
      "punch: {'punch'}\n",
      "bonbons: {'bonbons'}\n",
      "doors: {'doors'}\n",
      "gems: {'gems'}\n",
      "bad: {'bad'}\n",
      "geometric: {'geometric'}\n",
      "lt: {'lt'}\n",
      "sanskrit: {'sanskrit'}\n",
      "wallhanging: {'wallhanging'}\n",
      "turquois: {'turquois'}\n",
      "kukui: {'kukui'}\n",
      "coconut: {'coconut'}\n",
      "glasses: {'glasses'}\n",
      "lip: {'lip'}\n",
      "gloss: {'gloss'}\n",
      "closed: {'closed'}\n",
      "pancake: {'pancake'}\n",
      "grocery: {'grocery'}\n",
      "knickerbockerglory: {'knickerbockerglory'}\n",
      "lucky: {'lucky'}\n",
      "mummy: {'mummy'}\n",
      "hibiscus: {'hibiscus'}\n",
      "nativity: {'nativity'}\n",
      "goldie: {'goldie'}\n",
      "hurricane: {'hurricane'}\n",
      "backpack: {'backpack'}\n",
      "opal: {'opal'}\n",
      "hardman: {'hardman'}\n",
      "chests: {'chests'}\n",
      "feathers: {'feathers'}\n",
      "bubble: {'bubble'}\n",
      "gum: {'gum'}\n",
      "pads: {'pads'}\n",
      "match: {'match'}\n",
      "aluminium: {'aluminium'}\n",
      "parlour: {'parlour'}\n",
      "georgian: {'georgian'}\n",
      "barrel: {'barrel'}\n",
      "antoienett: {'antoienett'}\n",
      "marie: {'marie'}\n",
      "miniature: {'miniature'}\n",
      "gel: {'gel'}\n",
      "wht: {'wht'}\n",
      "crystals: {'crystals'}\n",
      "cote: {'cote'}\n",
      "azure: {'azure'}\n",
      "tropez: {'tropez'}\n",
      "maxwell: {'maxwell'}\n",
      "tone: {'tone'}\n",
      "page: {'page'}\n",
      "mistletoe: {'mistletoe'}\n",
      "handle: {'handle'}\n",
      "laser: {'laser'}\n",
      "tongs: {'tongs'}\n",
      "come: {'come'}\n",
      "strainer: {'strainer'}\n",
      "point: {'point'}\n",
      "cinderella: {'cinderella'}\n",
      "miniture: {'miniture'}\n",
      "patterns: {'patterns'}\n",
      "antoinette: {'antoinette'}\n",
      "sequin: {'sequin'}\n",
      "studded: {'studded'}\n",
      "sizes: {'sizes'}\n",
      "spliff: {'spliff'}\n",
      "exercise: {'exercise'}\n",
      "bundle: {'bundle'}\n",
      "books: {'books'}\n",
      "note: {'note'}\n",
      "supplies: {'supplies'}\n",
      "parisienne: {'parisienne'}\n",
      "le: {'le'}\n",
      "dispenser: {'dispenser'}\n",
      "miseltoe: {'miseltoe'}\n",
      "bon: {'bon'}\n",
      "montan: {'montan'}\n",
      "gerden: {'gerden'}\n",
      "gardeners: {'gardeners'}\n",
      "kneeling: {'kneeling'}\n",
      "housework: {'housework'}\n",
      "peony: {'peony'}\n",
      "stiletto: {'stiletto'}\n",
      "flowr: {'flowr'}\n",
      "capiz: {'capiz'}\n",
      "quartz: {'quartz'}\n",
      "braclet: {'braclet'}\n",
      "blank: {'blank'}\n",
      "laurel: {'laurel'}\n",
      "cherub: {'cherub'}\n",
      "ollie: {'ollie'}\n",
      "beak: {'beak'}\n",
      "halloween: {'halloween'}\n",
      "ghost: {'ghost'}\n",
      "icicle: {'icicle'}\n",
      "snowflakes: {'snowflakes'}\n",
      "knick: {'knick'}\n",
      "knack: {'knack'}\n",
      "hold: {'hold'}\n",
      "bubblegum: {'bubblegum'}\n",
      "pieces: {'pieces'}\n",
      "sleigh: {'sleigh'}\n",
      "trim: {'trim'}\n",
      "dolphin: {'dolphin'}\n",
      "wish: {'wish'}\n",
      "list: {'list'}\n",
      "mid: {'mid'}\n",
      "spike: {'spike'}\n",
      "meter: {'meter'}\n",
      "donkey: {'donkey'}\n",
      "tail: {'tail'}\n",
      "perfume: {'perfume'}\n",
      "apothecary: {'apothecary'}\n",
      "elixir: {'elixir'}\n",
      "songbird: {'songbird'}\n",
      "crackle: {'crackle'}\n",
      "transparent: {'transparent'}\n",
      "doorknob: {'doorknob'}\n",
      "bonne: {'bonne'}\n",
      "swords: {'swords'}\n",
      "disposable: {'disposable'}\n",
      "magnetic: {'magnetic'}\n",
      "cordial: {'cordial'}\n",
      "notepad: {'notepad'}\n",
      "refectory: {'refectory'}\n",
      "reto: {'reto'}\n",
      "madeline: {'madeline'}\n",
      "vegetable: {'vegetable'}\n",
      "mark: {'mark'}\n",
      "hens: {'hens'}\n",
      "cracker: {'cracker'}\n",
      "packing: {'packing'}\n",
      "charge: {'charge'}\n",
      "crackers: {'crackers'}\n",
      "brass: {'brass'}\n",
      "hairslide: {'hairslide'}\n",
      "loaf: {'loaf'}\n",
      "articulated: {'articulated'}\n",
      "suck: {'suck'}\n",
      "bili: {'bili'}\n",
      "nut: {'nut'}\n",
      "poster: {'poster'}\n",
      "park: {'park'}\n",
      "ceature: {'ceature'}\n",
      "branch: {'branch'}\n",
      "oriental: {'oriental'}\n",
      "frill: {'frill'}\n",
      "adult: {'adult'}\n",
      "doily: {'doily'}\n",
      "jampot: {'jampot'}\n",
      "crate: {'crate'}\n",
      "sex: {'sex'}\n",
      "bubbles: {'bubbles'}\n",
      "quilted: {'quilted'}\n",
      "patchwork: {'patchwork'}\n",
      "dotcom: {'dotcom'}\n",
      "pretty: {'pretty'}\n",
      "belle: {'belle'}\n",
      "jardiniere: {'jardiniere'}\n",
      "poste: {'poste'}\n",
      "france: {'france'}\n",
      "foot: {'foot'}\n",
      "bonheur: {'bonheur'}\n",
      "botanique: {'botanique'}\n",
      "sweeet: {'sweeet'}\n",
      "pants: {'pants'}\n",
      "makers: {'makers'}\n",
      "grinder: {'grinder'}\n",
      "linen: {'linen'}\n",
      "spatula: {'spatula'}\n",
      "whisk: {'whisk'}\n",
      "metalic: {'metalic'}\n",
      "toilette: {'toilette'}\n",
      "chambre: {'chambre'}\n",
      "chopping: {'chopping'}\n",
      "jubilee: {'jubilee'}\n",
      "rebecca: {'rebecca'}\n",
      "sally: {'sally'}\n",
      "rachel: {'rachel'}\n",
      "susie: {'susie'}\n",
      "rucksack: {'rucksack'}\n",
      "peridot: {'peridot'}\n",
      "sophie: {'sophie'}\n",
      "claire: {'claire'}\n",
      "blk: {'blk'}\n",
      "whit: {'whit'}\n",
      "dovecote: {'dovecote'}\n",
      "tuscan: {'tuscan'}\n",
      "villa: {'villa'}\n",
      "trellistriple: {'trellistriple'}\n",
      "fields: {'fields'}\n",
      "saftey: {'saftey'}\n",
      "bicycle: {'bicycle'}\n",
      "stop: {'stop'}\n",
      "loves: {'loves'}\n",
      "licence: {'licence'}\n",
      "haven: {'haven'}\n",
      "ahoy: {'ahoy'}\n",
      "nature: {'nature'}\n",
      "century: {'century'}\n",
      "work: {'work'}\n",
      "play: {'play'}\n",
      "baseball: {'baseball'}\n",
      "boot: {'boot'}\n",
      "feeding: {'feeding'}\n",
      "station: {'station'}\n",
      "safety: {'safety'}\n",
      "metre: {'metre'}\n",
      "ubo: {'ubo'}\n",
      "triobase: {'triobase'}\n",
      "feeder: {'feeder'}\n",
      "henrietta: {'henrietta'}\n",
      "maids: {'maids'}\n",
      "ingrid: {'ingrid'}\n",
      "milkmaid: {'milkmaid'}\n",
      "carrier: {'carrier'}\n",
      "pearlised: {'pearlised'}\n",
      "helga: {'helga'}\n",
      "heidi: {'heidi'}\n",
      "high: {'high'}\n",
      "resolution: {'resolution'}\n",
      "image: {'image'}\n",
      "bridge: {'bridge'}\n",
      "landmark: {'landmark'}\n",
      "covent: {'covent'}\n",
      "oxford: {'oxford'}\n",
      "street: {'street'}\n",
      "baker: {'baker'}\n",
      "notting: {'notting'}\n",
      "hill: {'hill'}\n",
      "camden: {'camden'}\n",
      "town: {'town'}\n",
      "mushrooms: {'mushrooms'}\n",
      "gardens: {'gardens'}\n",
      "miror: {'miror'}\n",
      "decrotivevintage: {'decrotivevintage'}\n",
      "pick: {'pick'}\n",
      "portraits: {'portraits'}\n",
      "naughts: {'naughts'}\n",
      "crosses: {'crosses'}\n",
      "tradtional: {'tradtional'}\n",
      "blueberry: {'blueberry'}\n",
      "fondant: {'fondant'}\n",
      "chrome: {'chrome'}\n",
      "sil: {'sil'}\n",
      "squ: {'squ'}\n",
      "crome: {'crome'}\n",
      "panettone: {'panettone'}\n",
      "czech: {'czech'}\n",
      "cross: {'cross'}\n",
      "puncture: {'puncture'}\n",
      "country: {'country'}\n",
      "perfectly: {'perfectly'}\n",
      "birdie: {'birdie'}\n",
      "\n",
      "Selected Keywords Dictionary:\n",
      "{'hanging': 'hanging', 'light': 'light', 'holder': 'holder', 'white': 'white', 'heart': 'heart', 'lantern': 'lantern', 'metal': 'metal', 'cupid': 'cupid', 'coat': 'coat', 'hanger': 'hanger', 'hearts': 'hearts', 'cream': 'cream', 'knitted': 'knitted', 'flag': 'flag', 'union': 'union', 'water': 'water', 'hot': 'hot', 'bottle': 'bottle', 'woolly': 'woolly', 'hottie': 'hottie', 'red': 'red', 'nesting': 'nesting', 'boxes': 'boxes', 'babushka': 'babushka', 'set': 'set', 'frosted': 'frosted', 'star': 'star', 'glass': 'glass', 'warmer': 'warmer', 'hand': 'hand', 'jack': 'jack', 'dot': 'dot', 'polka': 'polka', 'ornament': 'ornament', 'colour': 'colour', 'bird': 'bird', 'assorted': 'assorted', 'bedroom': 'bedroom', 'playhouse': 'playhouse', 'poppy': 'poppy', 'kitchen': 'kitchen', 'princess': 'princess', 'charlotte': 'charlotte', 'doll': 'doll', 'feltcraft': 'feltcraft', 'cosy': 'cosy', 'ivory': 'ivory', 'mug': 'mug', 'teaspoons': 'teaspoons', 'box': 'box', 'blocks': 'blocks', 'jigsaw': 'jigsaw', 'vintage': 'vintage', 'alphabet': 'alphabet', 'building': 'building', 'word': 'word', 'block': 'block', 'home': 'home', 'love': 'love', 'recipe': 'recipe', 'england': 'england', 'new': 'new', 'doormat': 'doormat', 'making': 'making', 'jars': 'jars', 'jam': 'jam', 'fashion': 'fashion', 'paris': 'paris', 'rack': 'rack', 'yellow': 'yellow', 'blue': 'blue', 'bath': 'bath', 'bakelike': 'bakelike', 'alarm': 'alarm', 'clock': 'clock', 'pink': 'pink', 'green': 'green', 'panda': 'panda', 'bunnies': 'bunnies', 'sheet': 'sheet', 'sticker': 'sticker', 'stars': 'stars', 'tape': 'tape', 'gift': 'gift', 'political': 'political', 'globe': 'globe', 'inflatable': 'inflatable', 'heads': 'heads', 'tails': 'tails', 'game': 'game', 'card': 'card', 'towels': 'towels', 'tea': 'tea', 'retrospot': 'retrospot', 'snack': 'snack', 'woodland': 'woodland', 'round': 'round', 'lunch': 'lunch', 'spaceboy': 'spaceboy', 'london': 'london', 'circus': 'circus', 'parade': 'parade', 'dolly': 'dolly', 'girl': 'girl', 'design': 'design', 'bag': 'bag', 'led': 'led', 'night': 'night', 'toadstool': 'toadstool', 'puzzles': 'puzzles', 'seaside': 'seaside', 'mini': 'mini', 'paint': 'paint', 'postage': 'postage', 'chain': 'chain', 'kit': 'kit', 'paper': 'paper', 'christmas': 'christmas', 'edwardian': 'edwardian', 'parasol': 'parasol', 'mugs': 'mugs', 'coffee': 'coffee', 'retro': 'retro', 'save': 'save', 'planet': 'planet', 'drink': 'drink', 'billboard': 'billboard', 'hate': 'hate', 'finish': 'finish', 'cabinet': 'cabinet', 'drawer': 'drawer', 'wood': 'wood', 'ant': 'ant', 'picture': 'picture', 'wooden': 'wooden', 'frame': 'frame', 'antique': 'antique', 'victorian': 'victorian', 'sewing': 'sewing', 'large': 'large', 'sympathy': 'sympathy', 'jumbo': 'jumbo', 'polkadot': 'polkadot', 'baroque': 'baroque', 'black': 'black', 'toys': 'toys', 'charlie': 'charlie', 'lola': 'lola', 'strawberry': 'strawberry', 'piece': 'piece', 'cutlery': 'cutlery', 'plates': 'plates', 'spotty': 'spotty', 'cases': 'cases', 'pack': 'pack', 'cake': 'cake', 'dinosaur': 'dinosaur', 'paisley': 'paisley', 'teatime': 'teatime', 'fairy': 'fairy', 'tomato': 'tomato', 'coaster': 'coaster', 'wastepaper': 'wastepaper', 'flora': 'flora', 'bin': 'bin', 'personal': 'personal', 'doorsign': 'doorsign', 'suki': 'suki', 'storage': 'storage', 'printed': 'printed', 'pc': 'pc', 'ceramic': 'ceramic', 'girly': 'girly', 'tool': 'tool', 'shopper': 'shopper', 'lounge': 'lounge', 'airline': 'airline', 'sign': 'sign', 'knob': 'knob', 'spot': 'spot', 'acrylic': 'acrylic', 'clear': 'clear', 'line': 'line', 'clip': 'clip', 'photo': 'photo', 'chicken': 'chicken', 'felt': 'felt', 'egg': 'egg', 'piggy': 'piggy', 'bank': 'bank', 'shoulder': 'shoulder', 'skull': 'skull', 'confusing': 'confusing', 'cook': 'cook', 'wine': 'wine', 'diet': 'diet', 'gin': 'gin', 'tonic': 'tonic', 'saucer': 'saucer', 'breakfast': 'breakfast', 'cup': 'cup', 'flowers': 'flowers', 'hook': 'hook', 'small': 'small', 'des': 'des', 'time': 'time', 'rabbit': 'rabbit', 'willie': 'willie', 'winkie': 'winkie', 'stick': 'stick', 'zinc': 'zinc', 'candle': 'candle', 'money': 'money', 'cherry': 'cherry', 'jug': 'jug', 'milk': 'milk', 'beakers': 'beakers', 'funky': 'funky', 'natural': 'natural', 'owl': 'owl', 'soft': 'soft', 'toy': 'toy', 'make': 'make', 'balloon': 'balloon', 'art': 'art', 'cloche': 'cloche', 'monochrome': 'monochrome', 'gumball': 'gumball', 'fancy': 'fancy', 'font': 'font', 'sweet': 'sweet', 'snakes': 'snakes', 'ladders': 'ladders', 'calculator': 'calculator', 'chocolate': 'chocolate', 'recycling': 'recycling', 'tidy': 'tidy', 'dressing': 'dressing', 'pot': 'pot', 'table': 'table', 'thermometer': 'thermometer', 'giant': 'giant', 'garden': 'garden', 'tier': 'tier', 'tin': 'tin', 'lids': 'lids', 'baskets': 'baskets', 'oval': 'oval', 'wicker': 'wicker', 'board': 'board', 'medina': 'medina', 'chalkboard': 'chalkboard', 'slate': 'slate', 'lovebird': 'lovebird', 'birdcage': 'birdcage', 'plant': 'plant', 'classic': 'classic', 'enamel': 'enamel', 'flower': 'flower', 'bucket': 'bucket', 'bread': 'bread', 'traditional': 'traditional', 'ribbons': 'ribbons', 'organiser': 'organiser', 'wire': 'wire', 'chilli': 'chilli', 'lights': 'lights', 'butterfiles': 'butterfiles', 'garland': 'garland', 'owls': 'owls', 'nightlight': 'nightlight', 'tale': 'tale', 'cottage': 'cottage', 'letters': 'letters', 'doorstop': 'doorstop', 'gingham': 'gingham', 'decoration': 'decoration', 'magnets': 'magnets', 'fridge': 'fridge', 'diner': 'diner', 'homemade': 'homemade', 'scented': 'scented', 'candles': 'candles', 'les': 'les', 'enfants': 'enfants', 'caravan': 'caravan', 'rose': 'rose', 'magic': 'magic', 'reindeer': 'reindeer', 'cushion': 'cushion', 'cover': 'cover', 'flying': 'flying', 'ducks': 'ducks', 'coloured': 'coloured', 'gold': 'gold', 'umbrella': 'umbrella', 'wall': 'wall', 'spoons': 'spoons', 'measuring': 'measuring', 'lid': 'lid', 'jar': 'jar', 'keepsake': 'keepsake', 'disco': 'disco', 'ball': 'ball', 'popcorn': 'popcorn', 'napkins': 'napkins', 'cups': 'cups', 'hat': 'hat', 'rain': 'rain', 'deluxe': 'deluxe', 'english': 'english', 'cube': 'cube', 'mice': 'mice', 'stripey': 'stripey', 'soldier': 'soldier', 'skittles': 'skittles', 'skipping': 'skipping', 'rope': 'rope', 'dominoes': 'dominoes', 'seventeen': 'seventeen', 'sideboard': 'sideboard', 'rustic': 'rustic', 'carnival': 'carnival', 'cones': 'cones', 'party': 'party', 'candy': 'candy', 'picnic': 'picnic', 'basket': 'basket', 'painted': 'painted', 'lamp': 'lamp', 'birthday': 'birthday', 'scotty': 'scotty', 'dog': 'dog', 'chasing': 'chasing', 'bowl': 'bowl', 'clothes': 'clothes', 'pegs': 'pegs', 'travel': 'travel', 'grey': 'grey', 'chick': 'chick', 'trinket': 'trinket', 'orange': 'orange', 'quilt': 'quilt', 'embroidered': 'embroidered', 'tissues': 'tissues', 'string': 'string', 'doughnut': 'doughnut', 'silk': 'silk', 'purse': 'purse', 'poorly': 'poorly', 'scottie': 'scottie', 'house': 'house', 'boudoir': 'boudoir', 'tissue': 'tissue', 'square': 'square', 'skulls': 'skulls', 'cornice': 'cornice', 'sew': 'sew', 'crochet': 'crochet', 'reds': 'reds', 'scandinavian': 'scandinavian', 'writing': 'writing', 'balloons': 'balloons', 'lavender': 'lavender', 'incense': 'incense', 'tv': 'tv', 'dinner': 'dinner', 'tray': 'tray', 'placemats': 'placemats', 'coasters': 'coasters', 'triple': 'triple', 'family': 'family', 'mirrored': 'mirrored', 'rotator': 'rotator', 'battery': 'battery', 'operated': 'operated', 'looking': 'looking', 'mirror': 'mirror', 'silver': 'silver', 'gentlemen': 'gentlemen', 'ladies': 'ladies', 'served': 'served', 'topiary': 'topiary', 'bathroom': 'bathroom', 'toilet': 'toilet', 'leave': 'leave', 'holiday': 'holiday', 'basil': 'basil', 'grow': 'grow', 'cakes': 'cakes', 'snowmen': 'snowmen', 'santa': 'santa', 'shaped': 'shaped', 'sandwich': 'sandwich', 'sponge': 'sponge', 'apple': 'apple', 'pirate': 'pirate', 'chest': 'chest', 'treasure': 'treasure', 'portable': 'portable', 'snowflake': 'snowflake', 'jewelled': 'jewelled', 'cigar': 'cigar', 'matches': 'matches', 'hour': 'hour', 'tube': 'tube', 'jazz': 'jazz', 'notebook': 'notebook', 'candleholder': 'candleholder', 'candlestick': 'candlestick', 'baroquecandlestick': 'baroquecandlestick', 'flannel': 'flannel', 'style': 'style', 'cloth': 'cloth', 'trellis': 'trellis', 'celebration': 'celebration', 'football': 'football', 'girls': 'girls', 'pinks': 'pinks', 'romantic': 'romantic', 'bright': 'bright', 'blues': 'blues', 'invites': 'invites', 'spaceman': 'spaceman', 'cutters': 'cutters', 'cookie': 'cookie', 'butterfly': 'butterfly', 'cutter': 'cutter', 'sweetheart': 'sweetheart', 'cars': 'cars', 'bowls': 'bowls', 'drawing': 'drawing', 'bake': 'bake', 'tall': 'tall', 'pencils': 'pencils', 'harmonica': 'harmonica', 'transfer': 'transfer', 'tattoos': 'tattoos', 'pannetone': 'pannetone', 'kids': 'kids', 'pen': 'pen', 'single': 'single', 'rectangle': 'rectangle', 'funny': 'funny', 'face': 'face', 'pens': 'pens', 'cowboys': 'cowboys', 'wrap': 'wrap', 'tokyo': 'tokyo', 'doilies': 'doilies', 'plasters': 'plasters', 'sleeping': 'sleeping', 'erasers': 'erasers', 'cat': 'cat', 'cowboy': 'cowboy', 'angels': 'angels', 'rotating': 'rotating', 'hldr': 'hldr', 'ribbon': 'ribbon', 'reel': 'reel', 'spinning': 'spinning', 'tops': 'tops', 'marbles': 'marbles', 'swirly': 'swirly', 'strand': 'strand', 'crystal': 'crystal', 'necklace': 'necklace', 'squarecushion': 'squarecushion', 'childrens': 'childrens', 'children': 'children', 'candelabra': 'candelabra', 'botanical': 'botanical', 'tag': 'tag', 'luggage': 'luggage', 'tassle': 'tassle', 'charm': 'charm', 'faceted': 'faceted', 'bangle': 'bangle', 'guns': 'guns', 'roses': 'roses', 'scent': 'scent', 'vanilla': 'vanilla', 'plate': 'plate', 'bell': 'bell', 'med': 'med', 'filigree': 'filigree', 'stand': 'stand', 'pattern': 'pattern', 'stickers': 'stickers', 'pencil': 'pencil', 'bobbles': 'bobbles', 'fly': 'fly', 'elegant': 'elegant', 'aged': 'aged', 'speaker': 'speaker', 'boom': 'boom', 'shimmering': 'shimmering', 'holly': 'holly', 'bells': 'bells', 'dress': 'dress', 'angel': 'angel', 'fruits': 'fruits', 'molly': 'molly', 'notebooks': 'notebooks', 'parcel': 'parcel', 'shoes': 'shoes', 'slipper': 'slipper', 'daisy': 'daisy', 'craft': 'craft', 'tree': 'tree', 'friends': 'friends', 'little': 'little', 'rosie': 'rosie', 'emily': 'emily', 'olivia': 'olivia', 'rex': 'rex', 'cash': 'cash', 'carry': 'carry', 'tote': 'tote', 'pinkwhite': 'pinkwhite', 'folding': 'folding', 'valentine': 'valentine', 'decoupage': 'decoupage', 'soldiers': 'soldiers', 'sock': 'sock', 'bauble': 'bauble', 'snowy': 'snowy', 'village': 'village', 'turquoise': 'turquoise', 'wreath': 'wreath', 'sack': 'sack', 'advent': 'advent', 'calendar': 'calendar', 'cone': 'cone', 'snap': 'snap', 'cards': 'cards', 'drawerknob': 'drawerknob', 'purple': 'purple', 'apron': 'apron', 'santas': 'santas', 'mushroom': 'mushroom', 'chalk': 'chalk', 'sticks': 'sticks', 'hairband': 'hairband', 'hairbands': 'hairbands', 'animals': 'animals', 'fair': 'fair', 'urban': 'urban', 'toadstools': 'toadstools', 'leaves': 'leaves', 'cupcake': 'cupcake', 'lace': 'lace', 'catch': 'catch', 'cotton': 'cotton', 'spade': 'spade', 'beach': 'beach', 'boys': 'boys', 'caddy': 'caddy', 'kings': 'kings', 'choice': 'choice', 'biscuit': 'biscuit', 'empire': 'empire', 'fawn': 'fawn', 'birdy': 'birdy', 'tags': 'tags', 'glove': 'glove', 'oven': 'oven', 'namaste': 'namaste', 'swagat': 'swagat', 'classical': 'classical', 'vase': 'vase', 'hyacinth': 'hyacinth', 'bulb': 'bulb', 'towel': 'towel', 'dove': 'dove', 'colouring': 'colouring', 'brown': 'brown', 'flock': 'flock', 'fern': 'fern', 'chrysanthemum': 'chrysanthemum', 'chinese': 'chinese', 'scissor': 'scissor', 'tealight': 'tealight', 'etched': 'etched', 'cooking': 'cooking', 'setting': 'setting', 'place': 'place', 'baubles': 'baubles', 'wc': 'wc', 'french': 'french', 'soap': 'soap', 'medium': 'medium', 'washroom': 'washroom', 'bracelet': 'bracelet', 'dia': 'dia', 'grip': 'grip', 'hair': 'hair', 'diamante': 'diamante', 'expandable': 'expandable', 'ring': 'ring', 'ruby': 'ruby', 'montana': 'montana', 'present': 'present', 'aid': 'aid', 'monsoon': 'monsoon', 'rubbers': 'rubbers', 'circular': 'circular', 'stationery': 'stationery', 'socks': 'socks', 'mittens': 'mittens', 'tapes': 'tapes', 'fabric': 'fabric', 'canvas': 'canvas', 'stamps': 'stamps', 'foil': 'foil', 'sweetie': 'sweetie', 'cinammon': 'cinammon', 'stripes': 'stripes', 'provence': 'provence', 'jardin': 'jardin', 'tins': 'tins', 'playtime': 'playtime', 'dinosaurs': 'dinosaurs', 'office': 'office', 'record': 'record', 'size': 'size', 'rocking': 'rocking', 'horse': 'horse', 'cakestand': 'cakestand', 'regency': 'regency', 'bunting': 'bunting', 'longboard': 'longboard', 'ironing': 'ironing', 'playing': 'playing', 'gentleman': 'gentleman', 'shirt': 'shirt', 'repair': 'repair', 'foxy': 'foxy', 'gents': 'gents', 'jet': 'jet', 'sow': 'sow', 'potting': 'potting', 'shed': 'shed', 'champion': 'champion', 'world': 'world', 'envelopes': 'envelopes', 'seed': 'seed', 'hi': 'hi', 'tec': 'tec', 'alpine': 'alpine', 'polyester': 'polyester', 'filler': 'filler', 'pad': 'pad', 'rainy': 'rainy', 'scarf': 'scarf', 'pears': 'pears', 'gazebo': 'gazebo', 'birdhouse': 'birdhouse', 'engraved': 'engraved', 'market': 'market', 'crates': 'crates', 'crazy': 'crazy', 'bed': 'bed', 'pizza': 'pizza', 'dots': 'dots', 'charms': 'charms', 'napkin': 'napkin', 'button': 'button', 'message': 'message', 'herb': 'herb', 'marker': 'marker', 'mint': 'mint', 'rosemary': 'rosemary', 'chives': 'chives', 'parsley': 'parsley', 'thyme': 'thyme', 'merry': 'merry', 'trees': 'trees', 'handbag': 'handbag', 'happy': 'happy', 'easter': 'easter', 'cut': 'cut', 'season': 'season', 'toast': 'toast', 'path': 'path', 'journal': 'journal', 'squeezer': 'squeezer', 'washing': 'washing', 'gloves': 'gloves', 'licorice': 'licorice', 'swiss': 'swiss', 'roll': 'roll', 'spots': 'spots', 'bags': 'bags', 'double': 'double', 'ridged': 'ridged', 'pantry': 'pantry', 'confetti': 'confetti', 'multicolour': 'multicolour', 'wick': 'wick', 'morris': 'morris', 'pistachio': 'pistachio', 'honeycomb': 'honeycomb', 'spirit': 'spirit', 'level': 'level', 'platter': 'platter', 'teacup': 'teacup', 'slice': 'slice', 'sporting': 'sporting', 'fun': 'fun', 'gecko': 'gecko', 'weight': 'weight', 'sand': 'sand', 'col': 'col', 'ass': 'ass', 'postcard': 'postcard', 'spring': 'spring', 'chateau': 'chateau', 'scales': 'scales', 'multi': 'multi', 'lizard': 'lizard', 'suction': 'suction', 'engine': 'engine', 'car': 'car', 'patches': 'patches', 'psychedelic': 'psychedelic', 'apples': 'apples', 'placemat': 'placemat', 'enchanted': 'enchanted', 'forest': 'forest', 'flowerpower': 'flowerpower', 'beautiful': 'beautiful', 'case': 'case', 'life': 'life', 'rounders': 'rounders', 'childs': 'childs', 'taper': 'taper', 'ladder': 'ladder', 'confectionery': 'confectionery', 'digestive': 'digestive', 'biscuits': 'biscuits', 'stopper': 'stopper', 'welcome': 'welcome', 'modern': 'modern', 'swallow': 'swallow', 'junk': 'junk', 'mail': 'mail', 'tile': 'tile', 'finger': 'finger', 'beurre': 'beurre', 'dish': 'dish', 'greeting': 'greeting', 'screen': 'screen', 'print': 'print', 'fonts': 'fonts', 'earth': 'earth', 'peace': 'peace', 'parasols': 'parasols', 'cocktail': 'cocktail', 'strongman': 'strongman', 'school': 'school', 'crayons': 'crayons', 'games': 'games', 'booze': 'booze', 'women': 'women', 'lads': 'lads', 'gingerbread': 'gingerbread', 'man': 'man', 'heat': 'heat', 'person': 'person', 'frying': 'frying', 'pan': 'pan', 'shape': 'shape', 'bendy': 'bendy', 'straws': 'straws', 'sketchbook': 'sketchbook', 'singing': 'singing', 'emergency': 'emergency', 'frieze': 'frieze', 'decorative': 'decorative', 'door': 'door', 'drawers': 'drawers', 'joy': 'joy', 'noel': 'noel', 'cosmetic': 'cosmetic', 'regal': 'regal', 'candlepot': 'candlepot', 'swirlglass': 'swirlglass', 'pedestal': 'pedestal', 'magazine': 'magazine', 'food': 'food', 'raffia': 'raffia', 'fluted': 'fluted', 'kashmir': 'kashmir', 'folkart': 'folkart', 'chocolatecandle': 'chocolatecandle', 'grand': 'grand', 'shelf': 'shelf', 'images': 'images', 'curious': 'curious', 'days': 'days', 'jewellery': 'jewellery', 'extremely': 'extremely', 'busy': 'busy', 'lolita': 'lolita', 'lets': 'lets', 'shopping': 'shopping', 'torch': 'torch', 'camouflage': 'camouflage', 'dragonfly': 'dragonfly', 'helicopter': 'helicopter', 'shark': 'shark', 'doctor': 'doctor', 'carriage': 'carriage', 'lightbulb': 'lightbulb', 'moon': 'moon', 'musical': 'musical', 'fringe': 'fringe', 'hammock': 'hammock', 'stripe': 'stripe', 'dec': 'dec', 'crossbones': 'crossbones', 'pony': 'pony', 'cordon': 'cordon', 'barrier': 'barrier', 'teddy': 'teddy', 'air': 'air', 'hostess': 'hostess', 'letter': 'letter', 'lovebirds': 'lovebirds', 'stacking': 'stacking', 'hut': 'hut', 'key': 'key', 'passport': 'passport', 'blossom': 'blossom', 'mod': 'mod', 'cardholder': 'cardholder', 'book': 'book', 'overnight': 'overnight', 'spiral': 'spiral', 'coal': 'coal', 'feather': 'feather', 'airmail': 'airmail', 'number': 'number', 'smiley': 'smiley', 'cats': 'cats', 'collage': 'collage', 'memory': 'memory', 'childhood': 'childhood', 'funk': 'funk', 'monkey': 'monkey', 'choc': 'choc', 'glitter': 'glitter', 'nursery': 'nursery', 'dutch': 'dutch', 'cheese': 'cheese', 'geisha': 'geisha', 'newspaper': 'newspaper', 'scandispot': 'scandispot', 'stocking': 'stocking', 'jingle': 'jingle', 'keys': 'keys', 'instrument': 'instrument', 'crowns': 'crowns', 'chalet': 'chalet', 'manual': 'manual', 'motorbike': 'motorbike', 'medicine': 'medicine', 'ma': 'ma', 'campagne': 'campagne', 'yuletide': 'yuletide', 'shade': 'shade', 'base': 'base', 'smallfolkart': 'smallfolkart', 'eucalyptus': 'eucalyptus', 'pinecone': 'pinecone', 'pudding': 'pudding', 'fine': 'fine', 'cacti': 'cacti', 'marshmallow': 'marshmallow', 'knitting': 'knitting', 'best': 'best', 'mum': 'mum', 'indians': 'indians', 'spotted': 'spotted', 'lipstick': 'lipstick', 'fuschia': 'fuschia', 'brocade': 'brocade', 'swallows': 'swallows', 'ladle': 'ladle', 'bling': 'bling', 'bingo': 'bingo', 'mac': 'mac', 'floor': 'floor', 'fauna': 'fauna', 'ear': 'ear', 'muff': 'muff', 'headphones': 'headphones', 'tutti': 'tutti', 'frutti': 'frutti', 'scotties': 'scotties', 'brush': 'brush', 'bee': 'bee', 'ladybird': 'ladybird', 'ribs': 'ribs', 'bamboo': 'bamboo', 'lampshade': 'lampshade', 'gardenia': 'gardenia', 'boxed': 'boxed', 'creatures': 'creatures', 'cute': 'cute', 'badges': 'badges', 'pocket': 'pocket', 'porcelain': 'porcelain', 'baking': 'baking', 'brocante': 'brocante', 'maria': 'maria', 'respectable': 'respectable', 'memo': 'memo', 'room': 'room', 'salle': 'salle', 'bain': 'bain', 'stack': 'stack', 'presents': 'presents', 'robot': 'robot', 'war': 'war', 'gliders': 'gliders', 'designs': 'designs', 'asstd': 'asstd', 'coathanger': 'coathanger', 'bomb': 'bomb', 'pump': 'pump', 'stencil': 'stencil', 'lovely': 'lovely', 'bonbon': 'bonbon', 'toothpaste': 'toothpaste', 'purdey': 'purdey', 'account': 'account', 'penny': 'penny', 'farthing': 'farthing', 'embossed': 'embossed', 'watering': 'watering', 'bunny': 'bunny', 'elephant': 'elephant', 'pig': 'pig', 'loveheart': 'loveheart', 'vie': 'vie', 'en': 'en', 'la': 'la', 'pin': 'pin', 'hooks': 'hooks', 'patrolled': 'patrolled', 'area': 'area', 'portrait': 'portrait', 'plastic': 'plastic', 'measure': 'measure', 'rainbow': 'rainbow', 'modelling': 'modelling', 'clay': 'clay', 'disc': 'disc', 'peg': 'peg', 'floral': 'floral', 'sugar': 'sugar', 'teapot': 'teapot', 'dairy': 'dairy', 'maid': 'maid', 'container': 'container', 'touch': 'touch', 'stuff': 'stuff', 'moody': 'moody', 'boy': 'boy', 'filigris': 'filigris', 'nest': 'nest', 'hen': 'hen', 'sticky': 'sticky', 'wishes': 'wishes', 'stamp': 'stamp', 'thank': 'thank', 'glamorous': 'glamorous', 'planter': 'planter', 'dragon': 'dragon', 'lanterns': 'lanterns', 'eraser': 'eraser', 'recycled': 'recycled', 'ruler': 'ruler', 'digitalis': 'digitalis', 'post': 'post', 'milkshake': 'milkshake', 'baby': 'baby', 'birds': 'birds', 'mobile': 'mobile', 'height': 'height', 'chart': 'chart', 'figures': 'figures', 'wedding': 'wedding', 'shine': 'shine', 'shoe': 'shoe', 'columbian': 'columbian', 'pots': 'pots', 'army': 'army', 'camo': 'camo', 'bookcover': 'bookcover', 'carrot': 'carrot', 'chunky': 'chunky', 'tassel': 'tassel', 'amber': 'amber', 'bead': 'bead', 'livingroom': 'livingroom', 'posy': 'posy', 'vine': 'vine', 'lilac': 'lilac', 'juicy': 'juicy', 'fruit': 'fruit', 'clips': 'clips', 'crawlies': 'crawlies', 'creepy': 'creepy', 'memoboard': 'memoboard', 'album': 'album', 'wash': 'wash', 'local': 'local', 'cafe': 'cafe', 'bow': 'bow', 'brooch': 'brooch', 'lily': 'lily', 'amethyst': 'amethyst', 'hairclip': 'hairclip', 'pair': 'pair', 'gemstone': 'gemstone', 'drop': 'drop', 'earrings': 'earrings', 'earring': 'earring', 'hoop': 'hoop', 'leaf': 'leaf', 'hexagon': 'hexagon', 'clam': 'clam', 'shell': 'shell', 'cockle': 'cockle', 'garage': 'garage', 'fob': 'fob', 'chopsticks': 'chopsticks', 'puppet': 'puppet', 'frog': 'frog', 'candlestand': 'candlestand', 'gaolers': 'gaolers', 'champagne': 'champagne', 'big': 'big', 'sky': 'sky', 'curio': 'curio', 'colours': 'colours', 'fan': 'fan', 'duck': 'duck', 'charges': 'charges', 'butter': 'butter', 'kid': 'kid', 'open': 'open', 'farm': 'farm', 'animal': 'animal', 'snowstorm': 'snowstorm', 'magnet': 'magnet', 'tinsel': 'tinsel', 'space': 'space', 'cadet': 'cadet', 'illustrated': 'illustrated', 'monsters': 'monsters', 'citronella': 'citronella', 'folk': 'folk', 'burst': 'burst', 'laundry': 'laundry', 'fanny': 'fanny', 'stopmetal': 'stopmetal', 'rest': 'rest', 'way': 'way', 'baths': 'baths', 'pottering': 'pottering', 'corona': 'corona', 'mexican': 'mexican', 'weekend': 'weekend', 'colander': 'colander', 'ivy': 'ivy', 'strawbery': 'strawbery', 'washbag': 'washbag', 'tub': 'tub', 'feng': 'feng', 'shui': 'shui', 'pillar': 'pillar', 'novelty': 'novelty', 'toastrack': 'toastrack', 'padded': 'padded', 'gauze': 'gauze', 'herbs': 'herbs', 'croquet': 'croquet', 'holders': 'holders', 'truffle': 'truffle', 'cabin': 'cabin', 'nancy': 'nancy', 'moroccan': 'moroccan', 'faux': 'faux', 'fur': 'fur', 'throw': 'throw', 'lush': 'lush', 'greens': 'greens', 'sandcastle': 'sandcastle', 'flags': 'flags', 'pearl': 'pearl', 'beaded': 'beaded', 'wrapping': 'wrapping', 'doggy': 'doggy', 'rubber': 'rubber', 'salad': 'salad', 'bows': 'bows', 'buttons': 'buttons', 'petit': 'petit', 'du': 'du', 'sud': 'sud', 'check': 'check', 'ludo': 'ludo', 'palmiera': 'palmiera', 'tools': 'tools', 'display': 'display', 'secateurs': 'secateurs', 'leis': 'leis', 'snake': 'snake', 'field': 'field', 'camphor': 'camphor', 'portobello': 'portobello', 'draw': 'draw', 'liners': 'liners', 'summer': 'summer', 'strawberries': 'strawberries', 'neighbourhood': 'neighbourhood', 'witch': 'witch', 'pharmacie': 'pharmacie', 'salt': 'salt', 'pepper': 'pepper', 'polkadots': 'polkadots', 'naughty': 'naughty', 'sound': 'sound', 'keyring': 'keyring', 'hello': 'hello', 'sailor': 'sailor', 'beware': 'beware', 'cinnamon': 'cinnamon', 'votive': 'votive', 'jasmine': 'jasmine', 'bone': 'bone', 'china': 'china', 'settings': 'settings', 'circles': 'circles', 'glamour': 'glamour', 'midnight': 'midnight', 'frappucino': 'frappucino', 'phone': 'phone', 'beads': 'beads', 'pendant': 'pendant', 'patch': 'patch', 'compact': 'compact', 'tropical': 'tropical', 'skirt': 'skirt', 'mouse': 'mouse', 'ocean': 'ocean', 'jewel': 'jewel', 'nurse': 'nurse', 'bohemian': 'bohemian', 'ribbed': 'ribbed', 'melamine': 'melamine', 'fresh': 'fresh', 'wool': 'wool', 'peacock': 'peacock', 'salts': 'salts', 'footprints': 'footprints', 'velvet': 'velvet', 'shop': 'shop', 'monster': 'monster', 'mousey': 'mousey', 'legs': 'legs', 'long': 'long', 'utensil': 'utensil', 'wake': 'wake', 'cockerel': 'cockerel', 'rim': 'rim', 'bouquet': 'bouquet', 'pear': 'pear', 'snow': 'snow', 'danish': 'danish', 'cast': 'cast', 'iron': 'iron', 'fork': 'fork', 'trowel': 'trowel', 'pearls': 'pearls', 'lime': 'lime', 'boudicca': 'boudicca', 'pennant': 'pennant', 'labels': 'labels', 'racing': 'racing', 'forked': 'forked', 'cactus': 'cactus', 'denim': 'denim', 'ream': 'ream', 'pop': 'pop', 'poncho': 'poncho', 'flask': 'flask', 'keyrings': 'keyrings', 'memories': 'memories', 'paperweight': 'paperweight', 'bear': 'bear', 'kashmiri': 'kashmiri', 'chair': 'chair', 'mixture': 'mixture', 'rings': 'rings', 'dream': 'dream', 'chocolates': 'chocolates', 'windsock': 'windsock', 'ping': 'ping', 'microwave': 'microwave', 'mitt': 'mitt', 'delight': 'delight', 'leap': 'leap', 'periwinkle': 'periwinkle', 'silicon': 'silicon', 'stamped': 'stamped', 'netting': 'netting', 'tablecloth': 'tablecloth', 'seat': 'seat', 'madras': 'madras', 'sandalwood': 'sandalwood', 'ice': 'ice', 'rocket': 'rocket', 'sombrero': 'sombrero', 'bitty': 'bitty', 'stones': 'stones', 'abstract': 'abstract', 'decorations': 'decorations', 'glowing': 'glowing', 'tiaras': 'tiaras', 'robin': 'robin', 'butterflies': 'butterflies', 'utilty': 'utilty', 'chicks': 'chicks', 'motoring': 'motoring', 'kensington': 'kensington', 'traveling': 'traveling', 'dogs': 'dogs', 'bib': 'bib', 'flu': 'flu', 'wrecking': 'wrecking', 'embroidery': 'embroidery', 'hangers': 'hangers', 'spoon': 'spoon', 'ashtray': 'ashtray', 'shower': 'shower', 'cap': 'cap', 'stripy': 'stripy', 'queen': 'queen', 'skies': 'skies', 'economy': 'economy', 'marshmallows': 'marshmallows', 'pumpkin': 'pumpkin', 'stitched': 'stitched', 'oil': 'oil', 'burner': 'burner', 'notelets': 'notelets', 'savoy': 'savoy', 'deco': 'deco', 'hall': 'hall', 'hammered': 'hammered', 'chrysanthemums': 'chrysanthemums', 'sunset': 'sunset', 'circle': 'circle', 'envelope': 'envelope', 'camping': 'camping', 'knif': 'knif', 'sage': 'sage', 'afghan': 'afghan', 'flowerpot': 'flowerpot', 'sundae': 'sundae', 'paisely': 'paisely', 'essential': 'essential', 'balm': 'balm', 'tumbler': 'tumbler', 'cubic': 'cubic', 'travelogue': 'travelogue', 'clean': 'clean', 'bullet': 'bullet', 'puppies': 'puppies', 'sunrise': 'sunrise', 'carousel': 'carousel', 'toxic': 'toxic', 'plasmatronic': 'plasmatronic', 'burgundy': 'burgundy', 'russian': 'russian', 'dusty': 'dusty', 'sunglasses': 'sunglasses', 'blackchristmas': 'blackchristmas', 'frames': 'frames', 'mix': 'mix', 'sweeties': 'sweeties', 'wireless': 'wireless', 'doorbell': 'doorbell', 'lattice': 'lattice', 'wildflower': 'wildflower', 'bronze': 'bronze', 'polished': 'polished', 'neckl': 'neckl', 'crawlie': 'crawlie', 'smokey': 'smokey', 'pouri': 'pouri', 'cushions': 'cushions', 'windmill': 'windmill', 'pale': 'pale', 'organdy': 'organdy', 'bea': 'bea', 'mao': 'mao', 'goose': 'goose', 'crested': 'crested', 'tit': 'tit', 'cosmetics': 'cosmetics', 'flytrap': 'flytrap', 'sunflower': 'sunflower', 'evening': 'evening', 'butterfl': 'butterfl', 'pouffe': 'pouffe', 'regatta': 'regatta', 'freestyle': 'freestyle', 'mosaic': 'mosaic', 'budah': 'budah', 'wise': 'wise', 'potion': 'potion', 'masala': 'masala', 'favourites': 'favourites', 'banquet': 'banquet', 'cupboard': 'cupboard', 'xmas': 'xmas', 'mixed': 'mixed', 'nuts': 'nuts', 'basin': 'basin', 'nile': 'nile', 'eau': 'eau', 'tigris': 'tigris', 'eye': 'eye', 'vinyl': 'vinyl', 'camembert': 'camembert', 'susan': 'susan', 'needle': 'needle', 'las': 'las', 'vegas': 'vegas', 'mould': 'mould', 'toffee': 'toffee', 'cupcakes': 'cupcakes', 'pointy': 'pointy', 'voile': 'voile', 'address': 'address', 'stool': 'stool', 'photoframe': 'photoframe', 'jungle': 'jungle', 'popsicles': 'popsicles', 'lolly': 'lolly', 'balls': 'balls', 'twine': 'twine', 'sculpted': 'sculpted', 'rnd': 'rnd', 'str': 'str', 'strap': 'strap', 'beauty': 'beauty', 'cd': 'cd', 'gebra': 'gebra', 'pebble': 'pebble', 'shutters': 'shutters', 'seafood': 'seafood', 'nil': 'nil', 'rake': 'rake', 'triangular': 'triangular', 'octagon': 'octagon', 'diva': 'diva', 'chime': 'chime', 'pointed': 'pointed', 'edge': 'edge', 'hairclips': 'hairclips', 'forties': 'forties', 'dreams': 'dreams', 'dragons': 'dragons', 'blood': 'blood', 'fishing': 'fishing', 'gnome': 'gnome', 'standing': 'standing', 'coney': 'coney', 'island': 'island', 'bottles': 'bottles', 'pompom': 'pompom', 'curtain': 'curtain', 'hawaiian': 'hawaiian', 'grass': 'grass', 'mixing': 'mixing', 'colourful': 'colourful', 'rosette': 'rosette', 'class': 'class', 'trays': 'trays', 'plaque': 'plaque', 'kitty': 'kitty', 'olive': 'olive', 'popart': 'popart', 'rect': 'rect', 'asst': 'asst', 'sharpener': 'sharpener', 'tortilla': 'tortilla', 'sucker': 'sucker', 'origami': 'origami', 'opium': 'opium', 'cand': 'cand', 'sandlewood': 'sandlewood', 'rococo': 'rococo', 'sprig': 'sprig', 'artificial': 'artificial', 'cage': 'cage', 'strawbry': 'strawbry', 'goblet': 'goblet', 'rattle': 'rattle', 'eggs': 'eggs', 'highlighter': 'highlighter', 'kittens': 'kittens', 'slides': 'slides', 'slide': 'slide', 'tiled': 'tiled', 'laquered': 'laquered', 'cartoon': 'cartoon', 'sharpeners': 'sharpeners', 'ponies': 'ponies', 'vip': 'vip', 'rabbits': 'rabbits', 'old': 'old', 'doc': 'doc', 'russel': 'russel', 'ninja': 'ninja', 'scrap': 'scrap', 'dads': 'dads', 'scroll': 'scroll', 'marmalade': 'marmalade', 'garld': 'garld', 'turq': 'turq', 'copper': 'copper', 'droplet': 'droplet', 'bedside': 'bedside', 'twist': 'twist', 'murano': 'murano', 'silouette': 'silouette', 'demi': 'demi', 'choker': 'choker', 'orbit': 'orbit', 'flowe': 'flowe', 'pastel': 'pastel', 'beaten': 'beaten', 'charger': 'charger', 'aperitif': 'aperitif', 'spice': 'spice', 'cannister': 'cannister', 'bertie': 'bertie', 'steel': 'steel', 'mr': 'mr', 'vippassport': 'vippassport', 'screwdriver': 'screwdriver', 'spaceball': 'spaceball', 'jeweled': 'jeweled', 'hippy': 'hippy', 'chic': 'chic', 'mrs': 'mrs', 'prince': 'prince', 'chalice': 'chalice', 'stud': 'stud', 'blackboard': 'blackboard', 'bum': 'bum', 'roccoco': 'roccoco', 'chandelier': 'chandelier', 'swat': 'swat', 'sheep': 'sheep', 'fruitbowl': 'fruitbowl', 'freshwater': 'freshwater', 'stone': 'stone', 'teal': 'teal', 'groovy': 'groovy', 'candl': 'candl', 'blackblue': 'blackblue', 'bus': 'bus', 'comb': 'comb', 'queens': 'queens', 'guard': 'guard', 'cubes': 'cubes', 'growing': 'growing', 'diamond': 'diamond', 'lariat': 'lariat', 'fluffy': 'fluffy', 'housekeeping': 'housekeeping', 'ade': 'ade', 'desk': 'desk', 'mock': 'mock', 'lobster': 'lobster', 'diamon': 'diamon', 'raspberr': 'raspberr', 'lazer': 'lazer', 'mop': 'mop', 'band': 'band', 'daisies': 'daisies', 'delphinium': 'delphinium', 'anemone': 'anemone', 'candystuft': 'candystuft', 'wobbly': 'wobbly', 'toybox': 'toybox', 'skippping': 'skippping', 'doughnuts': 'doughnuts', 'banner': 'banner', 'cannabis': 'cannabis', 'glow': 'glow', 'dolphins': 'dolphins', 'dark': 'dark', 'wheelbarrow': 'wheelbarrow', 'frangipani': 'frangipani', 'beaker': 'beaker', 'rosebud': 'rosebud', 'chenille': 'chenille', 'shaggy': 'shaggy', 'relax': 'relax', 'day': 'day', 'waste': 'waste', 'carpet': 'carpet', 'bar': 'bar', 'condiment': 'condiment', 'hilda': 'hilda', 'congratulations': 'congratulations', 'puddings': 'puddings', 'icon': 'icon', 'elvis': 'elvis', 'drawstring': 'drawstring', 'hare': 'hare', 'gordon': 'gordon', 'overcrowded': 'overcrowded', 'pool': 'pool', 'sisters': 'sisters', 'citrus': 'citrus', 'beetles': 'beetles', 'sitting': 'sitting', 'lighthouse': 'lighthouse', 'resin': 'resin', 'crusoe': 'crusoe', 'vegetables': 'vegetables', 'flore': 'flore', 'ridge': 'ridge', 'doiley': 'doiley', 'multicol': 'multicol', 'blond': 'blond', 'hunt': 'hunt', 'start': 'start', 'aqua': 'aqua', 'song': 'song', 'chains': 'chains', 'rasta': 'rasta', 'poppies': 'poppies', 'king': 'king', 'shapes': 'shapes', 'petals': 'petals', 'swinging': 'swinging', 'farmyard': 'farmyard', 'george': 'george', 'st': 'st', 'savannah': 'savannah', 'hamper': 'hamper', 'barn': 'barn', 'hydrangea': 'hydrangea', 'suede': 'suede', 'oyster': 'oyster', 'posies': 'posies', 'flames': 'flames', 'lenses': 'lenses', 'support': 'support', 'pole': 'pole', 'sphere': 'sphere', 'provencal': 'provencal', 'rectangular': 'rectangular', 'shelving': 'shelving', 'unit': 'unit', 'push': 'push', 'briar': 'briar', 'planters': 'planters', 'roman': 'roman', 'peach': 'peach', 'bazaar': 'bazaar', 'tranquility': 'tranquility', 'shells': 'shells', 'climbing': 'climbing', 'hydranga': 'hydranga', 'radio': 'radio', 'buddha': 'buddha', 'head': 'head', 'pet': 'pet', 'goldfish': 'goldfish', 'tiny': 'tiny', 'revolutionary': 'revolutionary', 'tie': 'tie', 'jade': 'jade', 'cluster': 'cluster', 'windchime': 'windchime', 'sea': 'sea', 'pom': 'pom', 'cracked': 'cracked', 'glaze': 'glaze', 'vint': 'vint', 'necklac': 'necklac', 'nat': 'nat', 'hopper': 'hopper', 'monte': 'monte', 'carlo': 'carlo', 'scrubbing': 'scrubbing', 'jelly': 'jelly', 'moulds': 'moulds', 'meadow': 'meadow', 'wallet': 'wallet', 'transport': 'transport', 'calm': 'calm', 'giraffe': 'giraffe', 'revolver': 'revolver', 'pill': 'pill', 'ticket': 'ticket', 'rolling': 'rolling', 'run': 'run', 'dotcomgiftshop': 'dotcomgiftshop', 'raspberry': 'raspberry', 'berries': 'berries', 'woven': 'woven', 'scallop': 'scallop', 'secret': 'secret', 'starfish': 'starfish', 'riviera': 'riviera', 'dad': 'dad', 'heavens': 'heavens', 'fragrance': 'fragrance', 'oils': 'oils', 'flame': 'flame', 'allium': 'allium', 'foxglove': 'foxglove', 'artiifcial': 'artiifcial', 'occupied': 'occupied', 'vacant': 'vacant', 'buffalo': 'buffalo', 'gymkhanna': 'gymkhanna', 'abc': 'abc', 'pastry': 'pastry', 'amelie': 'amelie', 'dollcraft': 'dollcraft', 'nicole': 'nicole', 'frost': 'frost', 'jean': 'jean', 'paul': 'paul', 'gymkhana': 'gymkhana', 'mother': 'mother', 'corer': 'corer', 'acapulco': 'acapulco', 'mat': 'mat', 'lives': 'lives', 'opener': 'opener', 'bull': 'bull', 'guitar': 'guitar', 'ol': 'ol', 'splodges': 'splodges', 'hole': 'hole', 'punch': 'punch', 'bonbons': 'bonbons', 'doors': 'doors', 'gems': 'gems', 'bad': 'bad', 'geometric': 'geometric', 'lt': 'lt', 'sanskrit': 'sanskrit', 'wallhanging': 'wallhanging', 'turquois': 'turquois', 'kukui': 'kukui', 'coconut': 'coconut', 'glasses': 'glasses', 'lip': 'lip', 'gloss': 'gloss', 'closed': 'closed', 'pancake': 'pancake', 'grocery': 'grocery', 'knickerbockerglory': 'knickerbockerglory', 'lucky': 'lucky', 'mummy': 'mummy', 'hibiscus': 'hibiscus', 'nativity': 'nativity', 'goldie': 'goldie', 'hurricane': 'hurricane', 'backpack': 'backpack', 'opal': 'opal', 'hardman': 'hardman', 'chests': 'chests', 'feathers': 'feathers', 'bubble': 'bubble', 'gum': 'gum', 'pads': 'pads', 'match': 'match', 'aluminium': 'aluminium', 'parlour': 'parlour', 'georgian': 'georgian', 'barrel': 'barrel', 'antoienett': 'antoienett', 'marie': 'marie', 'miniature': 'miniature', 'gel': 'gel', 'wht': 'wht', 'crystals': 'crystals', 'cote': 'cote', 'azure': 'azure', 'tropez': 'tropez', 'maxwell': 'maxwell', 'tone': 'tone', 'page': 'page', 'mistletoe': 'mistletoe', 'handle': 'handle', 'laser': 'laser', 'tongs': 'tongs', 'come': 'come', 'strainer': 'strainer', 'point': 'point', 'cinderella': 'cinderella', 'miniture': 'miniture', 'patterns': 'patterns', 'antoinette': 'antoinette', 'sequin': 'sequin', 'studded': 'studded', 'sizes': 'sizes', 'spliff': 'spliff', 'exercise': 'exercise', 'bundle': 'bundle', 'books': 'books', 'note': 'note', 'supplies': 'supplies', 'parisienne': 'parisienne', 'le': 'le', 'dispenser': 'dispenser', 'miseltoe': 'miseltoe', 'bon': 'bon', 'montan': 'montan', 'gerden': 'gerden', 'gardeners': 'gardeners', 'kneeling': 'kneeling', 'housework': 'housework', 'peony': 'peony', 'stiletto': 'stiletto', 'flowr': 'flowr', 'capiz': 'capiz', 'quartz': 'quartz', 'braclet': 'braclet', 'blank': 'blank', 'laurel': 'laurel', 'cherub': 'cherub', 'ollie': 'ollie', 'beak': 'beak', 'halloween': 'halloween', 'ghost': 'ghost', 'icicle': 'icicle', 'snowflakes': 'snowflakes', 'knick': 'knick', 'knack': 'knack', 'hold': 'hold', 'bubblegum': 'bubblegum', 'pieces': 'pieces', 'sleigh': 'sleigh', 'trim': 'trim', 'dolphin': 'dolphin', 'wish': 'wish', 'list': 'list', 'mid': 'mid', 'spike': 'spike', 'meter': 'meter', 'donkey': 'donkey', 'tail': 'tail', 'perfume': 'perfume', 'apothecary': 'apothecary', 'elixir': 'elixir', 'songbird': 'songbird', 'crackle': 'crackle', 'transparent': 'transparent', 'doorknob': 'doorknob', 'bonne': 'bonne', 'swords': 'swords', 'disposable': 'disposable', 'magnetic': 'magnetic', 'cordial': 'cordial', 'notepad': 'notepad', 'refectory': 'refectory', 'reto': 'reto', 'madeline': 'madeline', 'vegetable': 'vegetable', 'mark': 'mark', 'hens': 'hens', 'cracker': 'cracker', 'packing': 'packing', 'charge': 'charge', 'crackers': 'crackers', 'brass': 'brass', 'hairslide': 'hairslide', 'loaf': 'loaf', 'articulated': 'articulated', 'suck': 'suck', 'bili': 'bili', 'nut': 'nut', 'poster': 'poster', 'park': 'park', 'ceature': 'ceature', 'branch': 'branch', 'oriental': 'oriental', 'frill': 'frill', 'adult': 'adult', 'doily': 'doily', 'jampot': 'jampot', 'crate': 'crate', 'sex': 'sex', 'bubbles': 'bubbles', 'quilted': 'quilted', 'patchwork': 'patchwork', 'dotcom': 'dotcom', 'pretty': 'pretty', 'belle': 'belle', 'jardiniere': 'jardiniere', 'poste': 'poste', 'france': 'france', 'foot': 'foot', 'bonheur': 'bonheur', 'botanique': 'botanique', 'sweeet': 'sweeet', 'pants': 'pants', 'makers': 'makers', 'grinder': 'grinder', 'linen': 'linen', 'spatula': 'spatula', 'whisk': 'whisk', 'metalic': 'metalic', 'toilette': 'toilette', 'chambre': 'chambre', 'chopping': 'chopping', 'jubilee': 'jubilee', 'rebecca': 'rebecca', 'sally': 'sally', 'rachel': 'rachel', 'susie': 'susie', 'rucksack': 'rucksack', 'peridot': 'peridot', 'sophie': 'sophie', 'claire': 'claire', 'blk': 'blk', 'whit': 'whit', 'dovecote': 'dovecote', 'tuscan': 'tuscan', 'villa': 'villa', 'trellistriple': 'trellistriple', 'fields': 'fields', 'saftey': 'saftey', 'bicycle': 'bicycle', 'stop': 'stop', 'loves': 'loves', 'licence': 'licence', 'haven': 'haven', 'ahoy': 'ahoy', 'nature': 'nature', 'century': 'century', 'work': 'work', 'play': 'play', 'baseball': 'baseball', 'boot': 'boot', 'feeding': 'feeding', 'station': 'station', 'safety': 'safety', 'metre': 'metre', 'ubo': 'ubo', 'triobase': 'triobase', 'feeder': 'feeder', 'henrietta': 'henrietta', 'maids': 'maids', 'ingrid': 'ingrid', 'milkmaid': 'milkmaid', 'carrier': 'carrier', 'pearlised': 'pearlised', 'helga': 'helga', 'heidi': 'heidi', 'high': 'high', 'resolution': 'resolution', 'image': 'image', 'bridge': 'bridge', 'landmark': 'landmark', 'covent': 'covent', 'oxford': 'oxford', 'street': 'street', 'baker': 'baker', 'notting': 'notting', 'hill': 'hill', 'camden': 'camden', 'town': 'town', 'mushrooms': 'mushrooms', 'gardens': 'gardens', 'miror': 'miror', 'decrotivevintage': 'decrotivevintage', 'pick': 'pick', 'portraits': 'portraits', 'naughts': 'naughts', 'crosses': 'crosses', 'tradtional': 'tradtional', 'blueberry': 'blueberry', 'fondant': 'fondant', 'chrome': 'chrome', 'sil': 'sil', 'squ': 'squ', 'crome': 'crome', 'panettone': 'panettone', 'czech': 'czech', 'cross': 'cross', 'puncture': 'puncture', 'country': 'country', 'perfectly': 'perfectly', 'birdie': 'birdie'}\n",
      "\n",
      "Count of Occurrences:\n",
      "{'hanging': 101, 'light': 112, 'holder': 116, 'white': 144, 'heart': 237, 'lantern': 24, 'metal': 112, 'cupid': 3, 'coat': 8, 'hanger': 18, 'hearts': 31, 'cream': 51, 'knitted': 8, 'flag': 10, 'union': 28, 'water': 28, 'hot': 30, 'bottle': 41, 'woolly': 1, 'hottie': 1, 'red': 201, 'nesting': 3, 'boxes': 19, 'babushka': 23, 'set': 336, 'frosted': 2, 'star': 59, 'glass': 163, 'warmer': 19, 'hand': 20, 'jack': 21, 'dot': 2, 'polka': 3, 'ornament': 1, 'colour': 36, 'bird': 44, 'assorted': 58, 'bedroom': 1, 'playhouse': 4, 'poppy': 5, 'kitchen': 26, 'princess': 3, 'charlotte': 11, 'doll': 11, 'feltcraft': 24, 'cosy': 16, 'ivory': 65, 'mug': 69, 'teaspoons': 1, 'box': 136, 'blocks': 2, 'jigsaw': 15, 'vintage': 215, 'alphabet': 15, 'building': 3, 'word': 3, 'block': 7, 'home': 27, 'love': 58, 'recipe': 6, 'england': 4, 'new': 17, 'doormat': 27, 'making': 3, 'jars': 3, 'jam': 18, 'fashion': 3, 'paris': 6, 'rack': 14, 'yellow': 24, 'blue': 227, 'bath': 6, 'bakelike': 6, 'alarm': 7, 'clock': 44, 'pink': 311, 'green': 99, 'panda': 1, 'bunnies': 6, 'sheet': 8, 'sticker': 12, 'stars': 13, 'tape': 18, 'gift': 53, 'political': 1, 'globe': 1, 'inflatable': 2, 'heads': 2, 'tails': 2, 'game': 5, 'card': 82, 'towels': 7, 'tea': 56, 'retrospot': 96, 'snack': 9, 'woodland': 27, 'round': 31, 'lunch': 27, 'spaceboy': 37, 'london': 24, 'circus': 12, 'parade': 12, 'dolly': 40, 'girl': 42, 'design': 127, 'bag': 164, 'led': 5, 'night': 5, 'toadstool': 10, 'puzzles': 1, 'seaside': 4, 'mini': 58, 'paint': 3, 'postage': 2, 'chain': 11, 'kit': 29, 'paper': 84, 'christmas': 148, 'edwardian': 13, 'parasol': 15, 'mugs': 1, 'coffee': 24, 'retro': 28, 'save': 3, 'planet': 3, 'drink': 2, 'billboard': 7, 'hate': 1, 'finish': 5, 'cabinet': 23, 'drawer': 32, 'wood': 40, 'ant': 12, 'picture': 14, 'wooden': 47, 'frame': 50, 'antique': 38, 'victorian': 12, 'sewing': 13, 'large': 102, 'sympathy': 1, 'jumbo': 28, 'polkadot': 71, 'baroque': 22, 'black': 100, 'toys': 2, 'charlie': 17, 'lola': 18, 'strawberry': 25, 'piece': 12, 'cutlery': 34, 'plates': 5, 'spotty': 9, 'cases': 28, 'pack': 73, 'cake': 84, 'dinosaur': 11, 'paisley': 42, 'teatime': 9, 'fairy': 35, 'tomato': 1, 'coaster': 10, 'wastepaper': 2, 'flora': 2, 'bin': 12, 'personal': 2, 'doorsign': 2, 'suki': 9, 'storage': 26, 'printed': 2, 'pc': 2, 'ceramic': 44, 'girly': 1, 'tool': 2, 'shopper': 5, 'lounge': 2, 'airline': 6, 'sign': 65, 'knob': 21, 'spot': 25, 'acrylic': 20, 'clear': 10, 'line': 1, 'clip': 8, 'photo': 37, 'chicken': 8, 'felt': 35, 'egg': 57, 'piggy': 1, 'bank': 8, 'shoulder': 6, 'skull': 20, 'confusing': 1, 'cook': 1, 'wine': 6, 'diet': 3, 'gin': 4, 'tonic': 5, 'saucer': 10, 'breakfast': 11, 'cup': 35, 'flowers': 24, 'hook': 39, 'small': 113, 'des': 6, 'time': 12, 'rabbit': 28, 'willie': 4, 'winkie': 4, 'stick': 6, 'zinc': 51, 'candle': 97, 'money': 14, 'cherry': 15, 'jug': 11, 'milk': 13, 'beakers': 1, 'funky': 13, 'natural': 12, 'owl': 8, 'soft': 13, 'toy': 17, 'make': 4, 'balloon': 6, 'art': 78, 'cloche': 2, 'monochrome': 1, 'gumball': 3, 'fancy': 3, 'font': 14, 'sweet': 24, 'snakes': 1, 'ladders': 1, 'calculator': 3, 'chocolate': 29, 'recycling': 1, 'tidy': 13, 'dressing': 3, 'pot': 25, 'table': 27, 'thermometer': 7, 'giant': 9, 'garden': 71, 'tier': 12, 'tin': 44, 'lids': 1, 'baskets': 2, 'oval': 11, 'wicker': 21, 'board': 9, 'medina': 6, 'chalkboard': 5, 'slate': 13, 'lovebird': 8, 'birdcage': 2, 'plant': 13, 'classic': 19, 'enamel': 39, 'flower': 116, 'bucket': 8, 'bread': 7, 'traditional': 14, 'ribbons': 19, 'organiser': 8, 'wire': 22, 'chilli': 1, 'lights': 36, 'butterfiles': 1, 'garland': 41, 'owls': 3, 'nightlight': 1, 'tale': 2, 'cottage': 15, 'letters': 11, 'doorstop': 12, 'gingham': 27, 'decoration': 98, 'magnets': 23, 'fridge': 9, 'diner': 14, 'homemade': 1, 'scented': 15, 'candles': 40, 'les': 1, 'enfants': 1, 'caravan': 4, 'rose': 99, 'magic': 27, 'reindeer': 4, 'cushion': 52, 'cover': 70, 'flying': 6, 'ducks': 6, 'coloured': 7, 'gold': 42, 'umbrella': 14, 'wall': 97, 'spoons': 4, 'measuring': 9, 'lid': 7, 'jar': 38, 'keepsake': 5, 'disco': 6, 'ball': 16, 'popcorn': 3, 'napkins': 10, 'cups': 6, 'hat': 1, 'rain': 5, 'deluxe': 4, 'english': 16, 'cube': 4, 'mice': 1, 'stripey': 3, 'soldier': 1, 'skittles': 4, 'skipping': 1, 'rope': 3, 'dominoes': 2, 'seventeen': 1, 'sideboard': 1, 'rustic': 12, 'carnival': 4, 'cones': 7, 'party': 42, 'candy': 15, 'picnic': 14, 'basket': 23, 'painted': 32, 'lamp': 11, 'birthday': 32, 'scotty': 1, 'dog': 23, 'chasing': 1, 'bowl': 53, 'clothes': 2, 'pegs': 6, 'travel': 17, 'grey': 6, 'chick': 16, 'trinket': 23, 'orange': 13, 'quilt': 1, 'embroidered': 11, 'tissues': 18, 'string': 14, 'doughnut': 3, 'silk': 5, 'purse': 24, 'poorly': 1, 'scottie': 4, 'house': 13, 'boudoir': 2, 'tissue': 12, 'square': 17, 'skulls': 20, 'cornice': 4, 'sew': 1, 'crochet': 12, 'reds': 1, 'scandinavian': 9, 'writing': 3, 'balloons': 6, 'lavender': 13, 'incense': 25, 'tv': 8, 'dinner': 20, 'tray': 33, 'placemats': 5, 'coasters': 5, 'triple': 11, 'family': 4, 'mirrored': 12, 'rotator': 1, 'battery': 2, 'operated': 2, 'looking': 2, 'mirror': 51, 'silver': 94, 'gentlemen': 1, 'ladies': 3, 'served': 2, 'topiary': 1, 'bathroom': 15, 'toilet': 4, 'leave': 1, 'holiday': 7, 'basil': 2, 'grow': 6, 'cakes': 12, 'snowmen': 2, 'santa': 3, 'shaped': 6, 'sandwich': 1, 'sponge': 5, 'apple': 8, 'pirate': 3, 'chest': 7, 'treasure': 12, 'portable': 2, 'snowflake': 5, 'jewelled': 14, 'cigar': 2, 'matches': 6, 'hour': 2, 'tube': 23, 'jazz': 3, 'notebook': 31, 'candleholder': 9, 'candlestick': 6, 'baroquecandlestick': 1, 'flannel': 8, 'style': 20, 'cloth': 1, 'trellis': 6, 'celebration': 2, 'football': 3, 'girls': 4, 'pinks': 2, 'romantic': 5, 'bright': 1, 'blues': 1, 'invites': 6, 'spaceman': 1, 'cutters': 5, 'cookie': 7, 'butterfly': 36, 'cutter': 2, 'sweetheart': 30, 'cars': 1, 'bowls': 4, 'drawing': 9, 'bake': 2, 'tall': 11, 'pencils': 25, 'harmonica': 2, 'transfer': 1, 'tattoos': 1, 'pannetone': 3, 'kids': 10, 'pen': 20, 'single': 8, 'rectangle': 3, 'funny': 1, 'face': 1, 'pens': 6, 'cowboys': 2, 'wrap': 67, 'tokyo': 1, 'doilies': 16, 'plasters': 6, 'sleeping': 1, 'erasers': 3, 'cat': 21, 'cowboy': 1, 'angels': 1, 'rotating': 2, 'hldr': 2, 'ribbon': 21, 'reel': 21, 'spinning': 1, 'tops': 1, 'marbles': 3, 'swirly': 4, 'strand': 6, 'crystal': 51, 'necklace': 90, 'squarecushion': 2, 'childrens': 27, 'children': 6, 'candelabra': 1, 'botanical': 16, 'tag': 10, 'luggage': 11, 'tassle': 6, 'charm': 31, 'faceted': 4, 'bangle': 4, 'guns': 1, 'roses': 6, 'scent': 9, 'vanilla': 10, 'plate': 31, 'bell': 23, 'med': 1, 'filigree': 10, 'stand': 34, 'pattern': 4, 'stickers': 19, 'pencil': 10, 'bobbles': 1, 'fly': 7, 'elegant': 1, 'aged': 1, 'speaker': 2, 'boom': 3, 'shimmering': 1, 'holly': 9, 'bells': 15, 'dress': 3, 'angel': 8, 'fruits': 2, 'molly': 1, 'notebooks': 1, 'parcel': 1, 'shoes': 3, 'slipper': 4, 'daisy': 23, 'craft': 13, 'tree': 53, 'friends': 3, 'little': 4, 'rosie': 2, 'emily': 2, 'olivia': 1, 'rex': 1, 'cash': 1, 'carry': 3, 'tote': 7, 'pinkwhite': 1, 'folding': 18, 'valentine': 2, 'decoupage': 7, 'soldiers': 1, 'sock': 6, 'bauble': 6, 'snowy': 1, 'village': 6, 'turquoise': 8, 'wreath': 19, 'sack': 2, 'advent': 4, 'calendar': 9, 'cone': 1, 'snap': 1, 'cards': 17, 'drawerknob': 1, 'purple': 37, 'apron': 14, 'santas': 1, 'mushroom': 6, 'chalk': 4, 'sticks': 4, 'hairband': 3, 'hairbands': 1, 'animals': 5, 'fair': 3, 'urban': 1, 'toadstools': 4, 'leaves': 9, 'cupcake': 4, 'lace': 15, 'catch': 1, 'cotton': 12, 'spade': 3, 'beach': 7, 'boys': 4, 'caddy': 3, 'kings': 7, 'choice': 7, 'biscuit': 11, 'empire': 8, 'fawn': 2, 'birdy': 1, 'tags': 6, 'glove': 5, 'oven': 6, 'namaste': 1, 'swagat': 1, 'classical': 3, 'vase': 3, 'hyacinth': 1, 'bulb': 2, 'towel': 15, 'dove': 4, 'colouring': 6, 'brown': 11, 'flock': 25, 'fern': 4, 'chrysanthemum': 4, 'chinese': 4, 'scissor': 5, 'tealight': 3, 'etched': 8, 'cooking': 2, 'setting': 4, 'place': 7, 'baubles': 4, 'wc': 1, 'french': 39, 'soap': 10, 'medium': 15, 'washroom': 1, 'bracelet': 68, 'dia': 1, 'grip': 6, 'hair': 25, 'diamante': 38, 'expandable': 4, 'ring': 46, 'ruby': 6, 'montana': 3, 'present': 1, 'aid': 5, 'monsoon': 1, 'rubbers': 1, 'circular': 3, 'stationery': 6, 'socks': 1, 'mittens': 1, 'tapes': 1, 'fabric': 9, 'canvas': 6, 'stamps': 1, 'foil': 2, 'sweetie': 1, 'cinammon': 2, 'stripes': 7, 'provence': 1, 'jardin': 9, 'tins': 24, 'playtime': 1, 'dinosaurs': 2, 'office': 9, 'record': 4, 'size': 6, 'rocking': 4, 'horse': 9, 'cakestand': 3, 'regency': 17, 'bunting': 19, 'longboard': 1, 'ironing': 1, 'playing': 11, 'gentleman': 1, 'shirt': 2, 'repair': 2, 'foxy': 1, 'gents': 1, 'jet': 8, 'sow': 1, 'potting': 6, 'shed': 8, 'champion': 1, 'world': 2, 'envelopes': 2, 'seed': 4, 'hi': 1, 'tec': 1, 'alpine': 1, 'polyester': 6, 'filler': 6, 'pad': 8, 'rainy': 1, 'scarf': 6, 'pears': 5, 'gazebo': 1, 'birdhouse': 7, 'engraved': 3, 'market': 1, 'crates': 1, 'crazy': 1, 'bed': 1, 'pizza': 5, 'dots': 1, 'charms': 10, 'napkin': 11, 'button': 1, 'message': 1, 'herb': 9, 'marker': 9, 'mint': 9, 'rosemary': 1, 'chives': 1, 'parsley': 1, 'thyme': 1, 'merry': 2, 'trees': 3, 'handbag': 13, 'happy': 12, 'easter': 48, 'cut': 7, 'season': 1, 'toast': 5, 'path': 4, 'journal': 6, 'squeezer': 1, 'washing': 4, 'gloves': 5, 'licorice': 1, 'swiss': 4, 'roll': 8, 'spots': 8, 'bags': 2, 'double': 2, 'ridged': 5, 'pantry': 32, 'confetti': 4, 'multicolour': 10, 'wick': 7, 'morris': 9, 'pistachio': 2, 'honeycomb': 14, 'spirit': 2, 'level': 2, 'platter': 3, 'teacup': 3, 'slice': 3, 'sporting': 1, 'fun': 7, 'gecko': 1, 'weight': 2, 'sand': 3, 'col': 6, 'ass': 7, 'postcard': 3, 'spring': 6, 'chateau': 5, 'scales': 7, 'multi': 4, 'lizard': 1, 'suction': 4, 'engine': 1, 'car': 5, 'patches': 6, 'psychedelic': 6, 'apples': 13, 'placemat': 4, 'enchanted': 5, 'forest': 7, 'flowerpower': 1, 'beautiful': 1, 'case': 3, 'life': 3, 'rounders': 1, 'childs': 14, 'taper': 1, 'ladder': 3, 'confectionery': 2, 'digestive': 1, 'biscuits': 5, 'stopper': 1, 'welcome': 4, 'modern': 5, 'swallow': 2, 'junk': 1, 'mail': 1, 'tile': 32, 'finger': 1, 'beurre': 1, 'dish': 20, 'greeting': 15, 'screen': 6, 'print': 11, 'fonts': 3, 'earth': 1, 'peace': 3, 'parasols': 1, 'cocktail': 3, 'strongman': 1, 'school': 4, 'crayons': 1, 'games': 1, 'booze': 1, 'women': 1, 'lads': 1, 'gingerbread': 1, 'man': 3, 'heat': 1, 'person': 4, 'frying': 11, 'pan': 15, 'shape': 16, 'bendy': 2, 'straws': 5, 'sketchbook': 10, 'singing': 3, 'emergency': 1, 'frieze': 1, 'decorative': 16, 'door': 22, 'drawers': 6, 'joy': 2, 'noel': 2, 'cosmetic': 5, 'regal': 1, 'candlepot': 4, 'swirlglass': 1, 'pedestal': 1, 'magazine': 3, 'food': 15, 'raffia': 6, 'fluted': 2, 'kashmir': 1, 'folkart': 14, 'chocolatecandle': 1, 'grand': 3, 'shelf': 8, 'images': 14, 'curious': 4, 'days': 3, 'jewellery': 10, 'extremely': 1, 'busy': 1, 'lolita': 1, 'lets': 1, 'shopping': 9, 'torch': 1, 'camouflage': 3, 'dragonfly': 3, 'helicopter': 6, 'shark': 3, 'doctor': 1, 'carriage': 4, 'lightbulb': 2, 'moon': 3, 'musical': 4, 'fringe': 1, 'hammock': 3, 'stripe': 11, 'dec': 7, 'crossbones': 2, 'pony': 4, 'cordon': 2, 'barrier': 2, 'teddy': 8, 'air': 1, 'hostess': 1, 'letter': 31, 'lovebirds': 1, 'stacking': 3, 'hut': 5, 'key': 38, 'passport': 8, 'blossom': 15, 'mod': 1, 'cardholder': 3, 'book': 22, 'overnight': 1, 'spiral': 2, 'coal': 1, 'feather': 10, 'airmail': 1, 'number': 22, 'smiley': 1, 'cats': 6, 'collage': 5, 'memory': 1, 'childhood': 2, 'funk': 1, 'monkey': 9, 'choc': 5, 'glitter': 11, 'nursery': 2, 'dutch': 1, 'cheese': 3, 'geisha': 2, 'newspaper': 1, 'scandispot': 1, 'stocking': 6, 'jingle': 6, 'keys': 2, 'instrument': 1, 'crowns': 1, 'chalet': 1, 'manual': 1, 'motorbike': 1, 'medicine': 1, 'ma': 4, 'campagne': 4, 'yuletide': 2, 'shade': 3, 'base': 5, 'smallfolkart': 1, 'eucalyptus': 1, 'pinecone': 1, 'pudding': 8, 'fine': 4, 'cacti': 3, 'marshmallow': 1, 'knitting': 4, 'best': 3, 'mum': 4, 'indians': 1, 'spotted': 3, 'lipstick': 3, 'fuschia': 8, 'brocade': 1, 'swallows': 2, 'ladle': 4, 'bling': 25, 'bingo': 1, 'mac': 2, 'floor': 3, 'fauna': 1, 'ear': 3, 'muff': 3, 'headphones': 3, 'tutti': 9, 'frutti': 9, 'scotties': 2, 'brush': 5, 'bee': 1, 'ladybird': 2, 'ribs': 1, 'bamboo': 2, 'lampshade': 9, 'gardenia': 3, 'boxed': 6, 'creatures': 1, 'cute': 4, 'badges': 5, 'pocket': 13, 'porcelain': 7, 'baking': 17, 'brocante': 4, 'maria': 1, 'respectable': 1, 'memo': 3, 'room': 2, 'salle': 1, 'bain': 1, 'stack': 1, 'presents': 1, 'robot': 4, 'war': 1, 'gliders': 1, 'designs': 2, 'asstd': 8, 'coathanger': 1, 'bomb': 2, 'pump': 1, 'stencil': 3, 'lovely': 1, 'bonbon': 1, 'toothpaste': 1, 'purdey': 2, 'account': 1, 'penny': 1, 'farthing': 1, 'embossed': 4, 'watering': 10, 'bunny': 23, 'elephant': 7, 'pig': 3, 'loveheart': 1, 'vie': 1, 'en': 1, 'la': 5, 'pin': 5, 'hooks': 3, 'patrolled': 1, 'area': 2, 'portrait': 4, 'plastic': 5, 'measure': 2, 'rainbow': 3, 'modelling': 1, 'clay': 1, 'disc': 2, 'peg': 9, 'floral': 17, 'sugar': 9, 'teapot': 5, 'dairy': 5, 'maid': 5, 'container': 10, 'touch': 1, 'stuff': 2, 'moody': 2, 'boy': 4, 'filigris': 1, 'nest': 4, 'hen': 18, 'sticky': 2, 'wishes': 1, 'stamp': 5, 'thank': 4, 'glamorous': 2, 'planter': 4, 'dragon': 1, 'lanterns': 2, 'eraser': 1, 'recycled': 7, 'ruler': 5, 'digitalis': 1, 'post': 4, 'milkshake': 1, 'baby': 11, 'birds': 5, 'mobile': 9, 'height': 2, 'chart': 2, 'figures': 1, 'wedding': 3, 'shine': 1, 'shoe': 3, 'columbian': 5, 'pots': 3, 'army': 2, 'camo': 2, 'bookcover': 2, 'carrot': 1, 'chunky': 11, 'tassel': 4, 'amber': 11, 'bead': 33, 'livingroom': 1, 'posy': 4, 'vine': 1, 'lilac': 5, 'juicy': 2, 'fruit': 13, 'clips': 4, 'crawlies': 1, 'creepy': 2, 'memoboard': 1, 'album': 6, 'wash': 2, 'local': 1, 'cafe': 4, 'bow': 3, 'brooch': 7, 'lily': 5, 'amethyst': 12, 'hairclip': 2, 'pair': 9, 'gemstone': 5, 'drop': 24, 'earrings': 49, 'earring': 2, 'hoop': 9, 'leaf': 22, 'hexagon': 2, 'clam': 2, 'shell': 21, 'cockle': 1, 'garage': 2, 'fob': 6, 'chopsticks': 3, 'puppet': 3, 'frog': 9, 'candlestand': 1, 'gaolers': 1, 'champagne': 2, 'big': 10, 'sky': 2, 'curio': 3, 'colours': 2, 'fan': 7, 'duck': 1, 'charges': 1, 'butter': 3, 'kid': 1, 'open': 3, 'farm': 5, 'animal': 6, 'snowstorm': 1, 'magnet': 5, 'tinsel': 1, 'space': 6, 'cadet': 3, 'illustrated': 1, 'monsters': 1, 'citronella': 3, 'folk': 6, 'burst': 1, 'laundry': 2, 'fanny': 1, 'stopmetal': 1, 'rest': 3, 'way': 2, 'baths': 2, 'pottering': 2, 'corona': 1, 'mexican': 1, 'weekend': 1, 'colander': 1, 'ivy': 2, 'strawbery': 2, 'washbag': 8, 'tub': 1, 'feng': 1, 'shui': 1, 'pillar': 5, 'novelty': 1, 'toastrack': 1, 'padded': 6, 'gauze': 3, 'herbs': 1, 'croquet': 1, 'holders': 4, 'truffle': 1, 'cabin': 2, 'nancy': 1, 'moroccan': 5, 'faux': 1, 'fur': 1, 'throw': 2, 'lush': 1, 'greens': 1, 'sandcastle': 1, 'flags': 1, 'pearl': 14, 'beaded': 15, 'wrapping': 2, 'doggy': 1, 'rubber': 4, 'salad': 4, 'bows': 1, 'buttons': 3, 'petit': 5, 'du': 6, 'sud': 6, 'check': 5, 'ludo': 1, 'palmiera': 3, 'tools': 1, 'display': 2, 'secateurs': 1, 'leis': 1, 'snake': 2, 'field': 2, 'camphor': 5, 'portobello': 1, 'draw': 2, 'liners': 3, 'summer': 5, 'strawberries': 1, 'neighbourhood': 2, 'witch': 2, 'pharmacie': 1, 'salt': 1, 'pepper': 1, 'polkadots': 1, 'naughty': 1, 'sound': 1, 'keyring': 6, 'hello': 2, 'sailor': 2, 'beware': 1, 'cinnamon': 1, 'votive': 8, 'jasmine': 2, 'bone': 2, 'china': 2, 'settings': 4, 'circles': 5, 'glamour': 1, 'midnight': 7, 'frappucino': 1, 'phone': 9, 'beads': 14, 'pendant': 11, 'patch': 4, 'compact': 7, 'tropical': 5, 'skirt': 2, 'mouse': 3, 'ocean': 3, 'jewel': 11, 'nurse': 1, 'bohemian': 1, 'ribbed': 1, 'melamine': 1, 'fresh': 1, 'wool': 2, 'peacock': 1, 'salts': 1, 'footprints': 1, 'velvet': 1, 'shop': 4, 'monster': 5, 'mousey': 1, 'legs': 1, 'long': 4, 'utensil': 2, 'wake': 3, 'cockerel': 3, 'rim': 3, 'bouquet': 2, 'pear': 2, 'snow': 5, 'danish': 8, 'cast': 2, 'iron': 5, 'fork': 5, 'trowel': 3, 'pearls': 1, 'lime': 2, 'boudicca': 12, 'pennant': 1, 'labels': 1, 'racing': 2, 'forked': 1, 'cactus': 3, 'denim': 1, 'ream': 1, 'pop': 5, 'poncho': 2, 'flask': 2, 'keyrings': 1, 'memories': 1, 'paperweight': 6, 'bear': 5, 'kashmiri': 2, 'chair': 5, 'mixture': 1, 'rings': 3, 'dream': 1, 'chocolates': 1, 'windsock': 1, 'ping': 3, 'microwave': 3, 'mitt': 1, 'delight': 2, 'leap': 2, 'periwinkle': 1, 'silicon': 2, 'stamped': 6, 'netting': 1, 'tablecloth': 2, 'seat': 2, 'madras': 3, 'sandalwood': 1, 'ice': 9, 'rocket': 2, 'sombrero': 1, 'bitty': 2, 'stones': 3, 'abstract': 3, 'decorations': 9, 'glowing': 1, 'tiaras': 1, 'robin': 1, 'butterflies': 2, 'utilty': 1, 'chicks': 9, 'motoring': 1, 'kensington': 1, 'traveling': 1, 'dogs': 2, 'bib': 2, 'flu': 1, 'wrecking': 1, 'embroidery': 2, 'hangers': 1, 'spoon': 6, 'ashtray': 4, 'shower': 2, 'cap': 2, 'stripy': 1, 'queen': 3, 'skies': 3, 'economy': 2, 'marshmallows': 1, 'pumpkin': 1, 'stitched': 4, 'oil': 2, 'burner': 2, 'notelets': 1, 'savoy': 1, 'deco': 5, 'hall': 1, 'hammered': 1, 'chrysanthemums': 2, 'sunset': 3, 'circle': 4, 'envelope': 4, 'camping': 1, 'knif': 1, 'sage': 1, 'afghan': 1, 'flowerpot': 1, 'sundae': 4, 'paisely': 1, 'essential': 1, 'balm': 1, 'tumbler': 4, 'cubic': 3, 'travelogue': 2, 'clean': 1, 'bullet': 1, 'puppies': 1, 'sunrise': 1, 'carousel': 6, 'toxic': 1, 'plasmatronic': 1, 'burgundy': 1, 'russian': 2, 'dusty': 2, 'sunglasses': 3, 'blackchristmas': 1, 'frames': 2, 'mix': 1, 'sweeties': 1, 'wireless': 1, 'doorbell': 1, 'lattice': 7, 'wildflower': 1, 'bronze': 1, 'polished': 6, 'neckl': 7, 'crawlie': 1, 'smokey': 2, 'pouri': 1, 'cushions': 2, 'windmill': 5, 'pale': 2, 'organdy': 1, 'bea': 1, 'mao': 1, 'goose': 5, 'crested': 1, 'tit': 1, 'cosmetics': 1, 'flytrap': 1, 'sunflower': 2, 'evening': 1, 'butterfl': 1, 'pouffe': 2, 'regatta': 1, 'freestyle': 1, 'mosaic': 6, 'budah': 1, 'wise': 1, 'potion': 1, 'masala': 2, 'favourites': 1, 'banquet': 2, 'cupboard': 2, 'xmas': 1, 'mixed': 1, 'nuts': 1, 'basin': 1, 'nile': 3, 'eau': 5, 'tigris': 1, 'eye': 1, 'vinyl': 1, 'camembert': 1, 'susan': 1, 'needle': 1, 'las': 4, 'vegas': 4, 'mould': 11, 'toffee': 2, 'cupcakes': 1, 'pointy': 1, 'voile': 2, 'address': 1, 'stool': 5, 'photoframe': 2, 'jungle': 2, 'popsicles': 2, 'lolly': 4, 'balls': 2, 'twine': 1, 'sculpted': 1, 'rnd': 1, 'str': 1, 'strap': 2, 'beauty': 1, 'cd': 2, 'gebra': 1, 'pebble': 1, 'shutters': 1, 'seafood': 1, 'nil': 2, 'rake': 2, 'triangular': 1, 'octagon': 1, 'diva': 1, 'chime': 2, 'pointed': 1, 'edge': 1, 'hairclips': 1, 'forties': 1, 'dreams': 1, 'dragons': 1, 'blood': 1, 'fishing': 2, 'gnome': 4, 'standing': 6, 'coney': 1, 'island': 2, 'bottles': 3, 'pompom': 1, 'curtain': 11, 'hawaiian': 2, 'grass': 2, 'mixing': 1, 'colourful': 2, 'rosette': 1, 'class': 3, 'trays': 2, 'plaque': 3, 'kitty': 1, 'olive': 3, 'popart': 2, 'rect': 2, 'asst': 3, 'sharpener': 4, 'tortilla': 1, 'sucker': 5, 'origami': 9, 'opium': 2, 'cand': 1, 'sandlewood': 2, 'rococo': 4, 'sprig': 1, 'artificial': 8, 'cage': 1, 'strawbry': 1, 'goblet': 2, 'rattle': 1, 'eggs': 7, 'highlighter': 1, 'kittens': 1, 'slides': 3, 'slide': 2, 'tiled': 1, 'laquered': 1, 'cartoon': 1, 'sharpeners': 1, 'ponies': 1, 'vip': 2, 'rabbits': 2, 'old': 1, 'doc': 1, 'russel': 1, 'ninja': 2, 'scrap': 3, 'dads': 1, 'scroll': 1, 'marmalade': 1, 'garld': 2, 'turq': 6, 'copper': 9, 'droplet': 3, 'bedside': 3, 'twist': 7, 'murano': 9, 'silouette': 1, 'demi': 1, 'choker': 1, 'orbit': 14, 'flowe': 2, 'pastel': 10, 'beaten': 3, 'charger': 2, 'aperitif': 2, 'spice': 1, 'cannister': 2, 'bertie': 5, 'steel': 2, 'mr': 1, 'vippassport': 1, 'screwdriver': 1, 'spaceball': 1, 'jeweled': 1, 'hippy': 1, 'chic': 3, 'mrs': 1, 'prince': 1, 'chalice': 3, 'stud': 2, 'blackboard': 2, 'bum': 1, 'roccoco': 1, 'chandelier': 9, 'swat': 2, 'sheep': 2, 'fruitbowl': 2, 'freshwater': 1, 'stone': 4, 'teal': 1, 'groovy': 2, 'candl': 1, 'blackblue': 1, 'bus': 1, 'comb': 5, 'queens': 1, 'guard': 1, 'cubes': 1, 'growing': 1, 'diamond': 4, 'lariat': 2, 'fluffy': 2, 'housekeeping': 1, 'ade': 1, 'desk': 1, 'mock': 1, 'lobster': 1, 'diamon': 1, 'raspberr': 1, 'lazer': 1, 'mop': 2, 'band': 2, 'daisies': 3, 'delphinium': 2, 'anemone': 2, 'candystuft': 2, 'wobbly': 4, 'toybox': 1, 'skippping': 1, 'doughnuts': 1, 'banner': 1, 'cannabis': 1, 'glow': 1, 'dolphins': 1, 'dark': 3, 'wheelbarrow': 1, 'frangipani': 4, 'beaker': 9, 'rosebud': 6, 'chenille': 1, 'shaggy': 1, 'relax': 1, 'day': 5, 'waste': 1, 'carpet': 1, 'bar': 2, 'condiment': 1, 'hilda': 1, 'congratulations': 1, 'puddings': 3, 'icon': 3, 'elvis': 3, 'drawstring': 1, 'hare': 1, 'gordon': 1, 'overcrowded': 1, 'pool': 1, 'sisters': 1, 'citrus': 1, 'beetles': 1, 'sitting': 2, 'lighthouse': 1, 'resin': 2, 'crusoe': 1, 'vegetables': 1, 'flore': 1, 'ridge': 1, 'doiley': 20, 'multicol': 1, 'blond': 1, 'hunt': 3, 'start': 3, 'aqua': 1, 'song': 1, 'chains': 1, 'rasta': 2, 'poppies': 3, 'king': 4, 'shapes': 1, 'petals': 2, 'swinging': 2, 'farmyard': 1, 'george': 4, 'st': 5, 'savannah': 1, 'hamper': 2, 'barn': 1, 'hydrangea': 2, 'suede': 2, 'oyster': 1, 'posies': 2, 'flames': 1, 'lenses': 1, 'support': 1, 'pole': 3, 'sphere': 1, 'provencal': 2, 'rectangular': 1, 'shelving': 1, 'unit': 2, 'push': 2, 'briar': 1, 'planters': 2, 'roman': 1, 'peach': 2, 'bazaar': 1, 'tranquility': 1, 'shells': 1, 'climbing': 2, 'hydranga': 2, 'radio': 2, 'buddha': 1, 'head': 1, 'pet': 1, 'goldfish': 1, 'tiny': 1, 'revolutionary': 3, 'tie': 4, 'jade': 2, 'cluster': 7, 'windchime': 1, 'sea': 2, 'pom': 1, 'cracked': 8, 'glaze': 12, 'vint': 3, 'necklac': 4, 'nat': 2, 'hopper': 1, 'monte': 2, 'carlo': 2, 'scrubbing': 1, 'jelly': 1, 'moulds': 2, 'meadow': 1, 'wallet': 13, 'transport': 1, 'calm': 9, 'giraffe': 1, 'revolver': 1, 'pill': 2, 'ticket': 1, 'rolling': 2, 'run': 2, 'dotcomgiftshop': 1, 'raspberry': 2, 'berries': 1, 'woven': 6, 'scallop': 1, 'secret': 5, 'starfish': 1, 'riviera': 2, 'dad': 1, 'heavens': 1, 'fragrance': 1, 'oils': 1, 'flame': 1, 'allium': 1, 'foxglove': 2, 'artiifcial': 2, 'occupied': 1, 'vacant': 1, 'buffalo': 5, 'gymkhanna': 1, 'abc': 1, 'pastry': 1, 'amelie': 3, 'dollcraft': 4, 'nicole': 2, 'frost': 1, 'jean': 2, 'paul': 2, 'gymkhana': 3, 'mother': 1, 'corer': 1, 'acapulco': 6, 'mat': 7, 'lives': 1, 'opener': 1, 'bull': 2, 'guitar': 1, 'ol': 1, 'splodges': 1, 'hole': 1, 'punch': 1, 'bonbons': 1, 'doors': 1, 'gems': 1, 'bad': 1, 'geometric': 1, 'lt': 2, 'sanskrit': 1, 'wallhanging': 1, 'turquois': 1, 'kukui': 2, 'coconut': 2, 'glasses': 1, 'lip': 3, 'gloss': 3, 'closed': 1, 'pancake': 1, 'grocery': 1, 'knickerbockerglory': 1, 'lucky': 1, 'mummy': 1, 'hibiscus': 1, 'nativity': 1, 'goldie': 1, 'hurricane': 1, 'backpack': 5, 'opal': 1, 'hardman': 1, 'chests': 1, 'feathers': 2, 'bubble': 1, 'gum': 1, 'pads': 1, 'match': 1, 'aluminium': 2, 'parlour': 8, 'georgian': 1, 'barrel': 1, 'antoienett': 1, 'marie': 3, 'miniature': 1, 'gel': 1, 'wht': 1, 'crystals': 1, 'cote': 1, 'azure': 1, 'tropez': 1, 'maxwell': 1, 'tone': 1, 'page': 1, 'mistletoe': 2, 'handle': 2, 'laser': 1, 'tongs': 1, 'come': 1, 'strainer': 2, 'point': 13, 'cinderella': 1, 'miniture': 1, 'patterns': 1, 'antoinette': 2, 'sequin': 1, 'studded': 1, 'sizes': 1, 'spliff': 1, 'exercise': 3, 'bundle': 4, 'books': 4, 'note': 1, 'supplies': 1, 'parisienne': 5, 'le': 2, 'dispenser': 3, 'miseltoe': 3, 'bon': 2, 'montan': 1, 'gerden': 1, 'gardeners': 2, 'kneeling': 3, 'housework': 1, 'peony': 3, 'stiletto': 1, 'flowr': 1, 'capiz': 1, 'quartz': 1, 'braclet': 1, 'blank': 3, 'laurel': 4, 'cherub': 2, 'ollie': 1, 'beak': 1, 'halloween': 1, 'ghost': 1, 'icicle': 2, 'snowflakes': 1, 'knick': 7, 'knack': 7, 'hold': 1, 'bubblegum': 1, 'pieces': 3, 'sleigh': 2, 'trim': 4, 'dolphin': 1, 'wish': 1, 'list': 6, 'mid': 2, 'spike': 2, 'meter': 1, 'donkey': 2, 'tail': 2, 'perfume': 1, 'apothecary': 6, 'elixir': 1, 'songbird': 2, 'crackle': 4, 'transparent': 1, 'doorknob': 5, 'bonne': 4, 'swords': 1, 'disposable': 2, 'magnetic': 7, 'cordial': 2, 'notepad': 2, 'refectory': 3, 'reto': 1, 'madeline': 1, 'vegetable': 2, 'mark': 1, 'hens': 1, 'cracker': 1, 'packing': 1, 'charge': 1, 'crackers': 2, 'brass': 1, 'hairslide': 3, 'loaf': 2, 'articulated': 1, 'suck': 1, 'bili': 1, 'nut': 1, 'poster': 1, 'park': 7, 'ceature': 2, 'branch': 1, 'oriental': 1, 'frill': 1, 'adult': 1, 'doily': 19, 'jampot': 2, 'crate': 2, 'sex': 1, 'bubbles': 1, 'quilted': 3, 'patchwork': 1, 'dotcom': 1, 'pretty': 4, 'belle': 1, 'jardiniere': 1, 'poste': 1, 'france': 1, 'foot': 1, 'bonheur': 1, 'botanique': 2, 'sweeet': 1, 'pants': 1, 'makers': 2, 'grinder': 2, 'linen': 3, 'spatula': 1, 'whisk': 1, 'metalic': 1, 'toilette': 1, 'chambre': 1, 'chopping': 5, 'jubilee': 1, 'rebecca': 1, 'sally': 1, 'rachel': 1, 'susie': 1, 'rucksack': 4, 'peridot': 1, 'sophie': 1, 'claire': 1, 'blk': 1, 'whit': 1, 'dovecote': 2, 'tuscan': 5, 'villa': 5, 'trellistriple': 1, 'fields': 1, 'saftey': 2, 'bicycle': 7, 'stop': 2, 'loves': 2, 'licence': 2, 'haven': 1, 'ahoy': 2, 'nature': 2, 'century': 1, 'work': 1, 'play': 1, 'baseball': 2, 'boot': 2, 'feeding': 1, 'station': 1, 'safety': 1, 'metre': 1, 'ubo': 2, 'triobase': 2, 'feeder': 2, 'henrietta': 3, 'maids': 1, 'ingrid': 1, 'milkmaid': 3, 'carrier': 1, 'pearlised': 2, 'helga': 1, 'heidi': 1, 'high': 1, 'resolution': 1, 'image': 1, 'bridge': 1, 'landmark': 6, 'covent': 1, 'oxford': 1, 'street': 2, 'baker': 1, 'notting': 1, 'hill': 1, 'camden': 1, 'town': 1, 'mushrooms': 1, 'gardens': 1, 'miror': 1, 'decrotivevintage': 1, 'pick': 1, 'portraits': 1, 'naughts': 1, 'crosses': 1, 'tradtional': 1, 'blueberry': 1, 'fondant': 1, 'chrome': 1, 'sil': 1, 'squ': 1, 'crome': 1, 'panettone': 3, 'czech': 1, 'cross': 1, 'puncture': 1, 'country': 1, 'perfectly': 1, 'birdie': 1}\n"
     ]
    }
   ],
   "source": [
    "# Term Frequency Inverse Document Frequency\n",
    "from sklearn.feature_extraction.text import TfidfVectorizer\n",
    "\n",
    "def keywords_inventory_tf_idf(dataframe, column='Description'):\n",
    "    # Initialize a TfidfVectorizer\n",
    "    tfidf_vectorizer = TfidfVectorizer(stop_words='english') # Stop words like: is, the...\n",
    "    \n",
    "    # Fit and transform the data\n",
    "    tfidf_matrix = tfidf_vectorizer.fit_transform(dataframe[column].dropna())\n",
    "\n",
    "    # Get feature names (words)\n",
    "    feature_names = np.array(tfidf_vectorizer.get_feature_names_out())\n",
    "    display(feature_names)\n",
    "\n",
    "    # Initialize dictionaries and lists to store keyword information\n",
    "    keywords_roots = dict()   # Collect the words / root\n",
    "    keywords_select = dict()  # Association: root <-> keyword\n",
    "    category_keys = []        # List of selected keywords\n",
    "    count_keywords = dict()    # Count the occurrences of each keyword\n",
    "    \n",
    "    print(\"Shape of matrix\", tfidf_matrix.shape)\n",
    "\n",
    "    for i in range(tfidf_matrix.shape[0]): # Goes through rows (397924)\n",
    "        nonzero_elements = tfidf_matrix[i, :].nonzero()[1] # Takes [0, all columns], .nonzero() returns indices like (r, c)[1] like [888 1026 864 852 1934] \n",
    "\n",
    "        tfidf_scores = tfidf_matrix[i, nonzero_elements].toarray()[0] # [0.47161885 0.46224398 0.38177411 0.46924352 0.44493282], called dense array\n",
    "      \n",
    "        sorted_indices = np.argsort(tfidf_scores)[::-1] # Descending order, returns indices that would sort an array [0 3 1 4 2]\n",
    "        sortred_words = feature_names[nonzero_elements][sorted_indices] # ['holder' 'hanging' 'light' 'white' 'heart']\n",
    "        \n",
    "        for word in sortred_words:\n",
    "            root = word.lower()\n",
    "\n",
    "             # Skip words containing numbers maybe delete later!!!!!!!!!!!!!!!!!!!!!!!!!!!!!!!\n",
    "            if any(char.isdigit() for char in root):\n",
    "                continue\n",
    "\n",
    "            if root in keywords_roots:\n",
    "                keywords_roots[root].add(word)\n",
    "                count_keywords[root] = count_keywords[root] + 1\n",
    "            else:\n",
    "                keywords_roots[root] = {word}\n",
    "                count_keywords[root] = 1\n",
    "        \n",
    "    for s in keywords_roots.keys():\n",
    "        if len(keywords_roots[s]) > 1:  \n",
    "            min_length = 1000\n",
    "            for k in keywords_roots[s]:\n",
    "                if len(k) < min_length:\n",
    "                    clef = k ; min_length = len(k)            \n",
    "            category_keys.append(clef)\n",
    "            keywords_select[s] = clef\n",
    "        else:\n",
    "            category_keys.append(list(keywords_roots[s])[0])\n",
    "            keywords_select[s] = list(keywords_roots[s])[0]\n",
    "    \n",
    "    print(\"Number of keywords in variable '{}' : {} \".format(column, len(category_keys)))\n",
    "    \n",
    "    return category_keys, keywords_roots, keywords_select, count_keywords\n",
    "\n",
    "# Select uniques!\n",
    "df_products = pd.DataFrame(df_preprocessed['Description'].unique()).rename(columns = {0:'Description'})\n",
    "\n",
    "category_keys, keywords_roots, keywords_select, count_keywords = keywords_inventory_tf_idf(df_products, column=\"Description\")  \n",
    "\n",
    "print(\"Selected Keywords:\")\n",
    "print(category_keys)\n",
    "\n",
    "print(\"\\nRoots and Keywords:\")\n",
    "for root, keywords in keywords_roots.items():\n",
    "    print(f\"{root}: {keywords}\")\n",
    "\n",
    "print(\"\\nSelected Keywords Dictionary:\")\n",
    "print(keywords_select)\n",
    "\n",
    "print(\"\\nCount of Occurrences:\")\n",
    "print(count_keywords)\n"
   ]
  },
  {
   "cell_type": "markdown",
   "metadata": {},
   "source": [
    "## Most common words"
   ]
  },
  {
   "cell_type": "code",
   "execution_count": 19,
   "metadata": {},
   "outputs": [
    {
     "name": "stdout",
     "output_type": "stream",
     "text": [
      "[['set', 336], ['pink', 311], ['heart', 237], ['blue', 227], ['vintage', 215], ['red', 201], ['bag', 164], ['glass', 163], ['christmas', 148], ['white', 144], ['box', 136], ['design', 127], ['holder', 116], ['flower', 116], ['small', 113], ['light', 112], ['metal', 112], ['large', 102], ['hanging', 101], ['black', 100], ['green', 99], ['rose', 99], ['decoration', 98], ['candle', 97], ['wall', 97], ['retrospot', 96], ['silver', 94], ['necklace', 90], ['paper', 84], ['cake', 84], ['card', 82], ['art', 78], ['pack', 73], ['polkadot', 71], ['garden', 71], ['cover', 70], ['mug', 69], ['bracelet', 68], ['wrap', 67], ['ivory', 65], ['sign', 65], ['star', 59], ['assorted', 58], ['love', 58], ['mini', 58], ['egg', 57], ['tea', 56], ['gift', 53], ['bowl', 53], ['tree', 53], ['cushion', 52], ['cream', 51], ['zinc', 51], ['mirror', 51], ['crystal', 51], ['frame', 50], ['earrings', 49], ['easter', 48], ['wooden', 47], ['ring', 46], ['bird', 44], ['clock', 44], ['ceramic', 44], ['tin', 44], ['girl', 42], ['paisley', 42], ['gold', 42], ['party', 42], ['bottle', 41], ['garland', 41], ['dolly', 40], ['wood', 40], ['candles', 40], ['hook', 39], ['enamel', 39], ['french', 39], ['antique', 38], ['jar', 38], ['diamante', 38], ['key', 38], ['spaceboy', 37], ['photo', 37], ['purple', 37], ['colour', 36], ['lights', 36], ['butterfly', 36], ['fairy', 35], ['felt', 35], ['cup', 35], ['cutlery', 34], ['stand', 34], ['tray', 33], ['bead', 33], ['drawer', 32], ['painted', 32], ['birthday', 32], ['pantry', 32], ['tile', 32], ['hearts', 31], ['round', 31], ['notebook', 31], ['charm', 31], ['plate', 31], ['letter', 31], ['hot', 30], ['sweetheart', 30], ['kit', 29], ['chocolate', 29], ['union', 28], ['water', 28], ['retro', 28], ['jumbo', 28], ['cases', 28], ['rabbit', 28], ['home', 27], ['doormat', 27], ['woodland', 27], ['lunch', 27], ['table', 27], ['gingham', 27], ['magic', 27], ['childrens', 27], ['kitchen', 26], ['storage', 26], ['strawberry', 25], ['spot', 25], ['pot', 25], ['incense', 25], ['pencils', 25], ['flock', 25], ['hair', 25], ['bling', 25], ['lantern', 24], ['feltcraft', 24], ['yellow', 24], ['london', 24], ['coffee', 24], ['flowers', 24], ['sweet', 24], ['purse', 24], ['tins', 24], ['drop', 24], ['babushka', 23], ['cabinet', 23], ['magnets', 23], ['basket', 23], ['dog', 23], ['trinket', 23], ['tube', 23], ['bell', 23], ['daisy', 23], ['bunny', 23], ['baroque', 22], ['wire', 22], ['door', 22], ['book', 22], ['number', 22], ['leaf', 22], ['jack', 21], ['knob', 21], ['wicker', 21], ['cat', 21], ['ribbon', 21], ['reel', 21], ['shell', 21], ['hand', 20], ['acrylic', 20], ['skull', 20], ['skulls', 20], ['dinner', 20], ['style', 20], ['pen', 20], ['dish', 20], ['doiley', 20], ['boxes', 19], ['warmer', 19], ['classic', 19], ['ribbons', 19], ['stickers', 19], ['wreath', 19], ['bunting', 19], ['doily', 19], ['hanger', 18], ['jam', 18], ['tape', 18], ['lola', 18], ['tissues', 18], ['folding', 18], ['hen', 18], ['new', 17], ['charlie', 17], ['toy', 17], ['travel', 17], ['square', 17], ['cards', 17], ['regency', 17], ['baking', 17], ['floral', 17], ['cosy', 16], ['ball', 16], ['english', 16], ['chick', 16], ['doilies', 16], ['botanical', 16], ['shape', 16], ['decorative', 16], ['jigsaw', 15], ['alphabet', 15], ['parasol', 15], ['cherry', 15], ['cottage', 15], ['scented', 15], ['candy', 15], ['bathroom', 15], ['bells', 15], ['lace', 15], ['towel', 15], ['medium', 15], ['greeting', 15], ['pan', 15], ['food', 15], ['blossom', 15], ['beaded', 15], ['rack', 14], ['picture', 14], ['money', 14], ['font', 14], ['traditional', 14], ['diner', 14], ['umbrella', 14], ['picnic', 14], ['string', 14], ['jewelled', 14], ['apron', 14], ['honeycomb', 14], ['childs', 14], ['folkart', 14], ['images', 14], ['pearl', 14], ['beads', 14], ['orbit', 14], ['stars', 13], ['edwardian', 13], ['sewing', 13], ['milk', 13], ['funky', 13], ['soft', 13], ['tidy', 13], ['slate', 13], ['plant', 13], ['orange', 13], ['house', 13], ['lavender', 13], ['craft', 13], ['handbag', 13], ['apples', 13], ['pocket', 13], ['fruit', 13], ['wallet', 13], ['point', 13], ['sticker', 12], ['circus', 12], ['parade', 12], ['ant', 12], ['victorian', 12], ['piece', 12], ['bin', 12], ['time', 12], ['natural', 12], ['tier', 12], ['doorstop', 12], ['rustic', 12], ['tissue', 12], ['crochet', 12], ['mirrored', 12], ['cakes', 12], ['treasure', 12], ['cotton', 12], ['happy', 12], ['amethyst', 12], ['boudicca', 12], ['glaze', 12], ['charlotte', 11], ['doll', 11], ['chain', 11], ['dinosaur', 11], ['breakfast', 11], ['jug', 11], ['oval', 11], ['letters', 11], ['lamp', 11], ['embroidered', 11], ['triple', 11], ['tall', 11], ['luggage', 11], ['biscuit', 11], ['brown', 11], ['playing', 11], ['napkin', 11], ['print', 11], ['frying', 11], ['stripe', 11], ['glitter', 11], ['baby', 11], ['chunky', 11], ['amber', 11], ['pendant', 11], ['jewel', 11], ['mould', 11], ['curtain', 11], ['flag', 10], ['toadstool', 10], ['coaster', 10], ['clear', 10], ['saucer', 10], ['napkins', 10], ['kids', 10], ['tag', 10], ['vanilla', 10], ['filigree', 10], ['pencil', 10], ['soap', 10], ['charms', 10], ['multicolour', 10], ['sketchbook', 10], ['jewellery', 10], ['feather', 10], ['watering', 10], ['container', 10], ['big', 10], ['pastel', 10], ['snack', 9], ['spotty', 9], ['teatime', 9], ['suki', 9], ['giant', 9], ['board', 9], ['fridge', 9], ['measuring', 9], ['scandinavian', 9], ['candleholder', 9], ['drawing', 9], ['scent', 9], ['holly', 9], ['calendar', 9], ['leaves', 9], ['fabric', 9], ['jardin', 9], ['office', 9], ['horse', 9], ['herb', 9], ['marker', 9], ['mint', 9], ['morris', 9], ['shopping', 9], ['monkey', 9], ['tutti', 9], ['frutti', 9], ['lampshade', 9], ['peg', 9], ['sugar', 9], ['mobile', 9], ['pair', 9], ['hoop', 9], ['frog', 9], ['phone', 9], ['ice', 9], ['decorations', 9], ['chicks', 9], ['origami', 9], ['copper', 9], ['murano', 9], ['chandelier', 9], ['beaker', 9], ['calm', 9], ['coat', 8], ['knitted', 8], ['sheet', 8], ['clip', 8], ['chicken', 8], ['bank', 8], ['owl', 8], ['lovebird', 8], ['bucket', 8], ['organiser', 8], ['tv', 8], ['apple', 8], ['flannel', 8], ['single', 8], ['angel', 8], ['turquoise', 8], ['empire', 8], ['etched', 8], ['jet', 8], ['shed', 8], ['pad', 8], ['roll', 8], ['spots', 8], ['shelf', 8], ['teddy', 8], ['passport', 8], ['pudding', 8], ['fuschia', 8], ['asstd', 8], ['washbag', 8], ['votive', 8], ['danish', 8], ['artificial', 8], ['cracked', 8], ['parlour', 8], ['block', 7], ['alarm', 7], ['towels', 7], ['billboard', 7], ['thermometer', 7], ['bread', 7], ['coloured', 7], ['lid', 7], ['cones', 7], ['holiday', 7], ['chest', 7], ['cookie', 7], ['fly', 7], ['tote', 7], ['decoupage', 7], ['beach', 7], ['kings', 7], ['choice', 7], ['place', 7], ['stripes', 7], ['birdhouse', 7], ['cut', 7], ['wick', 7], ['fun', 7], ['ass', 7], ['scales', 7], ['forest', 7], ['dec', 7], ['porcelain', 7], ['elephant', 7], ['recycled', 7], ['brooch', 7], ['fan', 7], ['midnight', 7], ['compact', 7], ['lattice', 7], ['neckl', 7], ['eggs', 7], ['twist', 7], ['cluster', 7], ['mat', 7], ['knick', 7], ['knack', 7], ['magnetic', 7], ['park', 7], ['bicycle', 7], ['recipe', 6], ['paris', 6], ['bath', 6], ['bakelike', 6], ['bunnies', 6], ['airline', 6], ['shoulder', 6], ['wine', 6], ['des', 6], ['stick', 6], ['balloon', 6], ['medina', 6], ['flying', 6], ['ducks', 6], ['disco', 6], ['cups', 6], ['pegs', 6], ['grey', 6], ['balloons', 6], ['grow', 6], ['shaped', 6], ['matches', 6], ['candlestick', 6], ['trellis', 6], ['invites', 6], ['pens', 6], ['plasters', 6], ['strand', 6], ['children', 6], ['tassle', 6], ['roses', 6], ['sock', 6], ['bauble', 6], ['village', 6], ['mushroom', 6], ['tags', 6], ['oven', 6], ['colouring', 6], ['grip', 6], ['ruby', 6], ['stationery', 6], ['canvas', 6], ['size', 6], ['potting', 6], ['polyester', 6], ['filler', 6], ['scarf', 6], ['journal', 6], ['col', 6], ['spring', 6], ['patches', 6], ['psychedelic', 6], ['screen', 6], ['drawers', 6], ['raffia', 6], ['helicopter', 6], ['cats', 6], ['stocking', 6], ['jingle', 6], ['boxed', 6], ['album', 6], ['fob', 6], ['animal', 6], ['space', 6], ['folk', 6], ['padded', 6], ['du', 6], ['sud', 6], ['keyring', 6], ['paperweight', 6], ['stamped', 6], ['spoon', 6], ['carousel', 6], ['polished', 6], ['mosaic', 6], ['standing', 6], ['turq', 6], ['rosebud', 6], ['woven', 6], ['acapulco', 6], ['list', 6], ['apothecary', 6], ['landmark', 6], ['poppy', 5], ['game', 5], ['led', 5], ['night', 5], ['finish', 5], ['plates', 5], ['shopper', 5], ['tonic', 5], ['chalkboard', 5], ['keepsake', 5], ['rain', 5], ['silk', 5], ['placemats', 5], ['coasters', 5], ['sponge', 5], ['snowflake', 5], ['romantic', 5], ['cutters', 5], ['animals', 5], ['glove', 5], ['scissor', 5], ['aid', 5], ['pears', 5], ['pizza', 5], ['toast', 5], ['gloves', 5], ['ridged', 5], ['chateau', 5], ['car', 5], ['enchanted', 5], ['biscuits', 5], ['modern', 5], ['straws', 5], ['cosmetic', 5], ['hut', 5], ['collage', 5], ['choc', 5], ['base', 5], ['brush', 5], ['badges', 5], ['la', 5], ['pin', 5], ['plastic', 5], ['teapot', 5], ['dairy', 5], ['maid', 5], ['stamp', 5], ['ruler', 5], ['birds', 5], ['columbian', 5], ['lilac', 5], ['lily', 5], ['gemstone', 5], ['farm', 5], ['magnet', 5], ['pillar', 5], ['moroccan', 5], ['petit', 5], ['check', 5], ['camphor', 5], ['summer', 5], ['circles', 5], ['tropical', 5], ['monster', 5], ['snow', 5], ['iron', 5], ['fork', 5], ['pop', 5], ['bear', 5], ['chair', 5], ['deco', 5], ['windmill', 5], ['goose', 5], ['eau', 5], ['stool', 5], ['sucker', 5], ['bertie', 5], ['comb', 5], ['day', 5], ['st', 5], ['secret', 5], ['buffalo', 5], ['backpack', 5], ['parisienne', 5], ['doorknob', 5], ['chopping', 5], ['tuscan', 5], ['villa', 5], ['playhouse', 4], ['england', 4], ['seaside', 4], ['gin', 4], ['willie', 4], ['winkie', 4], ['make', 4], ['caravan', 4], ['reindeer', 4], ['spoons', 4], ['deluxe', 4], ['cube', 4], ['skittles', 4], ['carnival', 4], ['scottie', 4], ['cornice', 4], ['family', 4], ['toilet', 4], ['girls', 4], ['bowls', 4], ['swirly', 4], ['faceted', 4], ['bangle', 4], ['pattern', 4], ['slipper', 4], ['little', 4], ['advent', 4], ['chalk', 4], ['sticks', 4], ['toadstools', 4], ['cupcake', 4], ['boys', 4], ['dove', 4], ['fern', 4], ['chrysanthemum', 4], ['chinese', 4], ['setting', 4], ['baubles', 4], ['expandable', 4], ['record', 4], ['rocking', 4], ['seed', 4], ['path', 4], ['washing', 4], ['swiss', 4], ['confetti', 4], ['multi', 4], ['suction', 4], ['placemat', 4], ['welcome', 4], ['school', 4], ['person', 4], ['candlepot', 4], ['curious', 4], ['carriage', 4], ['musical', 4], ['pony', 4], ['ma', 4], ['campagne', 4], ['fine', 4], ['knitting', 4], ['mum', 4], ['ladle', 4], ['cute', 4], ['brocante', 4], ['robot', 4], ['embossed', 4], ['portrait', 4], ['boy', 4], ['nest', 4], ['thank', 4], ['planter', 4], ['post', 4], ['tassel', 4], ['posy', 4], ['clips', 4], ['cafe', 4], ['holders', 4], ['rubber', 4], ['salad', 4], ['settings', 4], ['patch', 4], ['shop', 4], ['long', 4], ['ashtray', 4], ['stitched', 4], ['circle', 4], ['envelope', 4], ['sundae', 4], ['tumbler', 4], ['las', 4], ['vegas', 4], ['lolly', 4], ['gnome', 4], ['sharpener', 4], ['rococo', 4], ['stone', 4], ['diamond', 4], ['wobbly', 4], ['frangipani', 4], ['king', 4], ['george', 4], ['tie', 4], ['necklac', 4], ['dollcraft', 4], ['bundle', 4], ['books', 4], ['laurel', 4], ['trim', 4], ['crackle', 4], ['bonne', 4], ['pretty', 4], ['rucksack', 4], ['cupid', 3], ['nesting', 3], ['polka', 3], ['princess', 3], ['building', 3], ['word', 3], ['making', 3], ['jars', 3], ['fashion', 3], ['paint', 3], ['save', 3], ['planet', 3], ['diet', 3], ['gumball', 3], ['fancy', 3], ['calculator', 3], ['dressing', 3], ['owls', 3], ['popcorn', 3], ['stripey', 3], ['rope', 3], ['doughnut', 3], ['writing', 3], ['ladies', 3], ['santa', 3], ['pirate', 3], ['jazz', 3], ['football', 3], ['pannetone', 3], ['rectangle', 3], ['erasers', 3], ['marbles', 3], ['boom', 3], ['dress', 3], ['shoes', 3], ['friends', 3], ['carry', 3], ['hairband', 3], ['fair', 3], ['spade', 3], ['caddy', 3], ['classical', 3], ['vase', 3], ['tealight', 3], ['montana', 3], ['circular', 3], ['cakestand', 3], ['engraved', 3], ['trees', 3], ['platter', 3], ['teacup', 3], ['slice', 3], ['sand', 3], ['postcard', 3], ['case', 3], ['life', 3], ['ladder', 3], ['fonts', 3], ['peace', 3], ['cocktail', 3], ['man', 3], ['singing', 3], ['magazine', 3], ['grand', 3], ['days', 3], ['camouflage', 3], ['dragonfly', 3], ['shark', 3], ['moon', 3], ['hammock', 3], ['stacking', 3], ['cardholder', 3], ['cheese', 3], ['shade', 3], ['cacti', 3], ['best', 3], ['spotted', 3], ['lipstick', 3], ['floor', 3], ['ear', 3], ['muff', 3], ['headphones', 3], ['gardenia', 3], ['memo', 3], ['stencil', 3], ['pig', 3], ['hooks', 3], ['rainbow', 3], ['wedding', 3], ['shoe', 3], ['pots', 3], ['bow', 3], ['chopsticks', 3], ['puppet', 3], ['curio', 3], ['butter', 3], ['open', 3], ['cadet', 3], ['citronella', 3], ['rest', 3], ['gauze', 3], ['buttons', 3], ['palmiera', 3], ['liners', 3], ['mouse', 3], ['ocean', 3], ['wake', 3], ['cockerel', 3], ['rim', 3], ['trowel', 3], ['cactus', 3], ['rings', 3], ['ping', 3], ['microwave', 3], ['madras', 3], ['stones', 3], ['abstract', 3], ['queen', 3], ['skies', 3], ['sunset', 3], ['cubic', 3], ['sunglasses', 3], ['nile', 3], ['bottles', 3], ['class', 3], ['plaque', 3], ['olive', 3], ['asst', 3], ['slides', 3], ['scrap', 3], ['droplet', 3], ['bedside', 3], ['beaten', 3], ['chic', 3], ['chalice', 3], ['daisies', 3], ['dark', 3], ['puddings', 3], ['icon', 3], ['elvis', 3], ['hunt', 3], ['start', 3], ['poppies', 3], ['pole', 3], ['revolutionary', 3], ['vint', 3], ['amelie', 3], ['gymkhana', 3], ['lip', 3], ['gloss', 3], ['marie', 3], ['exercise', 3], ['dispenser', 3], ['miseltoe', 3], ['kneeling', 3], ['peony', 3], ['blank', 3], ['pieces', 3], ['refectory', 3], ['hairslide', 3], ['quilted', 3], ['linen', 3], ['henrietta', 3], ['milkmaid', 3], ['panettone', 3], ['frosted', 2], ['dot', 2], ['blocks', 2], ['inflatable', 2], ['heads', 2], ['tails', 2], ['postage', 2], ['drink', 2], ['toys', 2], ['wastepaper', 2], ['flora', 2], ['personal', 2], ['doorsign', 2], ['printed', 2], ['pc', 2], ['tool', 2], ['lounge', 2], ['cloche', 2], ['baskets', 2], ['birdcage', 2], ['tale', 2], ['dominoes', 2], ['clothes', 2], ['boudoir', 2], ['battery', 2], ['operated', 2], ['looking', 2], ['served', 2], ['basil', 2], ['snowmen', 2], ['portable', 2], ['cigar', 2], ['hour', 2], ['celebration', 2], ['pinks', 2], ['cutter', 2], ['bake', 2], ['harmonica', 2], ['cowboys', 2], ['rotating', 2], ['hldr', 2], ['squarecushion', 2], ['speaker', 2], ['fruits', 2], ['rosie', 2], ['emily', 2], ['valentine', 2], ['sack', 2], ['fawn', 2], ['bulb', 2], ['cooking', 2], ['foil', 2], ['cinammon', 2], ['dinosaurs', 2], ['shirt', 2], ['repair', 2], ['world', 2], ['envelopes', 2], ['merry', 2], ['bags', 2], ['double', 2], ['pistachio', 2], ['spirit', 2], ['level', 2], ['weight', 2], ['confectionery', 2], ['swallow', 2], ['bendy', 2], ['joy', 2], ['noel', 2], ['fluted', 2], ['lightbulb', 2], ['crossbones', 2], ['cordon', 2], ['barrier', 2], ['spiral', 2], ['childhood', 2], ['nursery', 2], ['geisha', 2], ['keys', 2], ['yuletide', 2], ['swallows', 2], ['mac', 2], ['scotties', 2], ['ladybird', 2], ['bamboo', 2], ['room', 2], ['designs', 2], ['bomb', 2], ['purdey', 2], ['area', 2], ['measure', 2], ['disc', 2], ['stuff', 2], ['moody', 2], ['sticky', 2], ['glamorous', 2], ['lanterns', 2], ['height', 2], ['chart', 2], ['army', 2], ['camo', 2], ['bookcover', 2], ['juicy', 2], ['creepy', 2], ['wash', 2], ['hairclip', 2], ['earring', 2], ['hexagon', 2], ['clam', 2], ['garage', 2], ['champagne', 2], ['sky', 2], ['colours', 2], ['laundry', 2], ['way', 2], ['baths', 2], ['pottering', 2], ['ivy', 2], ['strawbery', 2], ['cabin', 2], ['throw', 2], ['wrapping', 2], ['display', 2], ['snake', 2], ['field', 2], ['draw', 2], ['neighbourhood', 2], ['witch', 2], ['hello', 2], ['sailor', 2], ['jasmine', 2], ['bone', 2], ['china', 2], ['skirt', 2], ['wool', 2], ['utensil', 2], ['bouquet', 2], ['pear', 2], ['cast', 2], ['lime', 2], ['racing', 2], ['poncho', 2], ['flask', 2], ['kashmiri', 2], ['delight', 2], ['leap', 2], ['silicon', 2], ['tablecloth', 2], ['seat', 2], ['rocket', 2], ['bitty', 2], ['butterflies', 2], ['dogs', 2], ['bib', 2], ['embroidery', 2], ['shower', 2], ['cap', 2], ['economy', 2], ['oil', 2], ['burner', 2], ['chrysanthemums', 2], ['travelogue', 2], ['russian', 2], ['dusty', 2], ['frames', 2], ['smokey', 2], ['cushions', 2], ['pale', 2], ['sunflower', 2], ['pouffe', 2], ['masala', 2], ['banquet', 2], ['cupboard', 2], ['toffee', 2], ['voile', 2], ['photoframe', 2], ['jungle', 2], ['popsicles', 2], ['balls', 2], ['strap', 2], ['cd', 2], ['nil', 2], ['rake', 2], ['chime', 2], ['fishing', 2], ['island', 2], ['hawaiian', 2], ['grass', 2], ['colourful', 2], ['trays', 2], ['popart', 2], ['rect', 2], ['opium', 2], ['sandlewood', 2], ['goblet', 2], ['slide', 2], ['vip', 2], ['rabbits', 2], ['ninja', 2], ['garld', 2], ['flowe', 2], ['charger', 2], ['aperitif', 2], ['cannister', 2], ['steel', 2], ['stud', 2], ['blackboard', 2], ['swat', 2], ['sheep', 2], ['fruitbowl', 2], ['groovy', 2], ['lariat', 2], ['fluffy', 2], ['mop', 2], ['band', 2], ['delphinium', 2], ['anemone', 2], ['candystuft', 2], ['bar', 2], ['sitting', 2], ['resin', 2], ['rasta', 2], ['petals', 2], ['swinging', 2], ['hamper', 2], ['hydrangea', 2], ['suede', 2], ['posies', 2], ['provencal', 2], ['unit', 2], ['push', 2], ['planters', 2], ['peach', 2], ['climbing', 2], ['hydranga', 2], ['radio', 2], ['jade', 2], ['sea', 2], ['nat', 2], ['monte', 2], ['carlo', 2], ['moulds', 2], ['pill', 2], ['rolling', 2], ['run', 2], ['raspberry', 2], ['riviera', 2], ['foxglove', 2], ['artiifcial', 2], ['nicole', 2], ['jean', 2], ['paul', 2], ['bull', 2], ['lt', 2], ['kukui', 2], ['coconut', 2], ['feathers', 2], ['aluminium', 2], ['mistletoe', 2], ['handle', 2], ['strainer', 2], ['antoinette', 2], ['le', 2], ['bon', 2], ['gardeners', 2], ['cherub', 2], ['icicle', 2], ['sleigh', 2], ['mid', 2], ['spike', 2], ['donkey', 2], ['tail', 2], ['songbird', 2], ['disposable', 2], ['cordial', 2], ['notepad', 2], ['vegetable', 2], ['crackers', 2], ['loaf', 2], ['ceature', 2], ['jampot', 2], ['crate', 2], ['botanique', 2], ['makers', 2], ['grinder', 2], ['dovecote', 2], ['saftey', 2], ['stop', 2], ['loves', 2], ['licence', 2], ['ahoy', 2], ['nature', 2], ['baseball', 2], ['boot', 2], ['ubo', 2], ['triobase', 2], ['feeder', 2], ['pearlised', 2], ['street', 2], ['woolly', 1], ['hottie', 1], ['ornament', 1], ['bedroom', 1], ['teaspoons', 1], ['panda', 1], ['political', 1], ['globe', 1], ['puzzles', 1], ['mugs', 1], ['hate', 1], ['sympathy', 1], ['tomato', 1], ['girly', 1], ['line', 1], ['piggy', 1], ['confusing', 1], ['cook', 1], ['beakers', 1], ['monochrome', 1], ['snakes', 1], ['ladders', 1], ['recycling', 1], ['lids', 1], ['chilli', 1], ['butterfiles', 1], ['nightlight', 1], ['homemade', 1], ['les', 1], ['enfants', 1], ['hat', 1], ['mice', 1], ['soldier', 1], ['skipping', 1], ['seventeen', 1], ['sideboard', 1], ['scotty', 1], ['chasing', 1], ['quilt', 1], ['poorly', 1], ['sew', 1], ['reds', 1], ['rotator', 1], ['gentlemen', 1], ['topiary', 1], ['leave', 1], ['sandwich', 1], ['baroquecandlestick', 1], ['cloth', 1], ['bright', 1], ['blues', 1], ['spaceman', 1], ['cars', 1], ['transfer', 1], ['tattoos', 1], ['funny', 1], ['face', 1], ['tokyo', 1], ['sleeping', 1], ['cowboy', 1], ['angels', 1], ['spinning', 1], ['tops', 1], ['candelabra', 1], ['guns', 1], ['med', 1], ['bobbles', 1], ['elegant', 1], ['aged', 1], ['shimmering', 1], ['molly', 1], ['notebooks', 1], ['parcel', 1], ['olivia', 1], ['rex', 1], ['cash', 1], ['pinkwhite', 1], ['soldiers', 1], ['snowy', 1], ['cone', 1], ['snap', 1], ['drawerknob', 1], ['santas', 1], ['hairbands', 1], ['urban', 1], ['catch', 1], ['birdy', 1], ['namaste', 1], ['swagat', 1], ['hyacinth', 1], ['wc', 1], ['washroom', 1], ['dia', 1], ['present', 1], ['monsoon', 1], ['rubbers', 1], ['socks', 1], ['mittens', 1], ['tapes', 1], ['stamps', 1], ['sweetie', 1], ['provence', 1], ['playtime', 1], ['longboard', 1], ['ironing', 1], ['gentleman', 1], ['foxy', 1], ['gents', 1], ['sow', 1], ['champion', 1], ['hi', 1], ['tec', 1], ['alpine', 1], ['rainy', 1], ['gazebo', 1], ['market', 1], ['crates', 1], ['crazy', 1], ['bed', 1], ['dots', 1], ['button', 1], ['message', 1], ['rosemary', 1], ['chives', 1], ['parsley', 1], ['thyme', 1], ['season', 1], ['squeezer', 1], ['licorice', 1], ['sporting', 1], ['gecko', 1], ['lizard', 1], ['engine', 1], ['flowerpower', 1], ['beautiful', 1], ['rounders', 1], ['taper', 1], ['digestive', 1], ['stopper', 1], ['junk', 1], ['mail', 1], ['finger', 1], ['beurre', 1], ['earth', 1], ['parasols', 1], ['strongman', 1], ['crayons', 1], ['games', 1], ['booze', 1], ['women', 1], ['lads', 1], ['gingerbread', 1], ['heat', 1], ['emergency', 1], ['frieze', 1], ['regal', 1], ['swirlglass', 1], ['pedestal', 1], ['kashmir', 1], ['chocolatecandle', 1], ['extremely', 1], ['busy', 1], ['lolita', 1], ['lets', 1], ['torch', 1], ['doctor', 1], ['fringe', 1], ['air', 1], ['hostess', 1], ['lovebirds', 1], ['mod', 1], ['overnight', 1], ['coal', 1], ['airmail', 1], ['smiley', 1], ['memory', 1], ['funk', 1], ['dutch', 1], ['newspaper', 1], ['scandispot', 1], ['instrument', 1], ['crowns', 1], ['chalet', 1], ['manual', 1], ['motorbike', 1], ['medicine', 1], ['smallfolkart', 1], ['eucalyptus', 1], ['pinecone', 1], ['marshmallow', 1], ['indians', 1], ['brocade', 1], ['bingo', 1], ['fauna', 1], ['bee', 1], ['ribs', 1], ['creatures', 1], ['maria', 1], ['respectable', 1], ['salle', 1], ['bain', 1], ['stack', 1], ['presents', 1], ['war', 1], ['gliders', 1], ['coathanger', 1], ['pump', 1], ['lovely', 1], ['bonbon', 1], ['toothpaste', 1], ['account', 1], ['penny', 1], ['farthing', 1], ['loveheart', 1], ['vie', 1], ['en', 1], ['patrolled', 1], ['modelling', 1], ['clay', 1], ['touch', 1], ['filigris', 1], ['wishes', 1], ['dragon', 1], ['eraser', 1], ['digitalis', 1], ['milkshake', 1], ['figures', 1], ['shine', 1], ['carrot', 1], ['livingroom', 1], ['vine', 1], ['crawlies', 1], ['memoboard', 1], ['local', 1], ['cockle', 1], ['candlestand', 1], ['gaolers', 1], ['duck', 1], ['charges', 1], ['kid', 1], ['snowstorm', 1], ['tinsel', 1], ['illustrated', 1], ['monsters', 1], ['burst', 1], ['fanny', 1], ['stopmetal', 1], ['corona', 1], ['mexican', 1], ['weekend', 1], ['colander', 1], ['tub', 1], ['feng', 1], ['shui', 1], ['novelty', 1], ['toastrack', 1], ['herbs', 1], ['croquet', 1], ['truffle', 1], ['nancy', 1], ['faux', 1], ['fur', 1], ['lush', 1], ['greens', 1], ['sandcastle', 1], ['flags', 1], ['doggy', 1], ['bows', 1], ['ludo', 1], ['tools', 1], ['secateurs', 1], ['leis', 1], ['portobello', 1], ['strawberries', 1], ['pharmacie', 1], ['salt', 1], ['pepper', 1], ['polkadots', 1], ['naughty', 1], ['sound', 1], ['beware', 1], ['cinnamon', 1], ['glamour', 1], ['frappucino', 1], ['nurse', 1], ['bohemian', 1], ['ribbed', 1], ['melamine', 1], ['fresh', 1], ['peacock', 1], ['salts', 1], ['footprints', 1], ['velvet', 1], ['mousey', 1], ['legs', 1], ['pearls', 1], ['pennant', 1], ['labels', 1], ['forked', 1], ['denim', 1], ['ream', 1], ['keyrings', 1], ['memories', 1], ['mixture', 1], ['dream', 1], ['chocolates', 1], ['windsock', 1], ['mitt', 1], ['periwinkle', 1], ['netting', 1], ['sandalwood', 1], ['sombrero', 1], ['glowing', 1], ['tiaras', 1], ['robin', 1], ['utilty', 1], ['motoring', 1], ['kensington', 1], ['traveling', 1], ['flu', 1], ['wrecking', 1], ['hangers', 1], ['stripy', 1], ['marshmallows', 1], ['pumpkin', 1], ['notelets', 1], ['savoy', 1], ['hall', 1], ['hammered', 1], ['camping', 1], ['knif', 1], ['sage', 1], ['afghan', 1], ['flowerpot', 1], ['paisely', 1], ['essential', 1], ['balm', 1], ['clean', 1], ['bullet', 1], ['puppies', 1], ['sunrise', 1], ['toxic', 1], ['plasmatronic', 1], ['burgundy', 1], ['blackchristmas', 1], ['mix', 1], ['sweeties', 1], ['wireless', 1], ['doorbell', 1], ['wildflower', 1], ['bronze', 1], ['crawlie', 1], ['pouri', 1], ['organdy', 1], ['bea', 1], ['mao', 1], ['crested', 1], ['tit', 1], ['cosmetics', 1], ['flytrap', 1], ['evening', 1], ['butterfl', 1], ['regatta', 1], ['freestyle', 1], ['budah', 1], ['wise', 1], ['potion', 1], ['favourites', 1], ['xmas', 1], ['mixed', 1], ['nuts', 1], ['basin', 1], ['tigris', 1], ['eye', 1], ['vinyl', 1], ['camembert', 1], ['susan', 1], ['needle', 1], ['cupcakes', 1], ['pointy', 1], ['address', 1], ['twine', 1], ['sculpted', 1], ['rnd', 1], ['str', 1], ['beauty', 1], ['gebra', 1], ['pebble', 1], ['shutters', 1], ['seafood', 1], ['triangular', 1], ['octagon', 1], ['diva', 1], ['pointed', 1], ['edge', 1], ['hairclips', 1], ['forties', 1], ['dreams', 1], ['dragons', 1], ['blood', 1], ['coney', 1], ['pompom', 1], ['mixing', 1], ['rosette', 1], ['kitty', 1], ['tortilla', 1], ['cand', 1], ['sprig', 1], ['cage', 1], ['strawbry', 1], ['rattle', 1], ['highlighter', 1], ['kittens', 1], ['tiled', 1], ['laquered', 1], ['cartoon', 1], ['sharpeners', 1], ['ponies', 1], ['old', 1], ['doc', 1], ['russel', 1], ['dads', 1], ['scroll', 1], ['marmalade', 1], ['silouette', 1], ['demi', 1], ['choker', 1], ['spice', 1], ['mr', 1], ['vippassport', 1], ['screwdriver', 1], ['spaceball', 1], ['jeweled', 1], ['hippy', 1], ['mrs', 1], ['prince', 1], ['bum', 1], ['roccoco', 1], ['freshwater', 1], ['teal', 1], ['candl', 1], ['blackblue', 1], ['bus', 1], ['queens', 1], ['guard', 1], ['cubes', 1], ['growing', 1], ['housekeeping', 1], ['ade', 1], ['desk', 1], ['mock', 1], ['lobster', 1], ['diamon', 1], ['raspberr', 1], ['lazer', 1], ['toybox', 1], ['skippping', 1], ['doughnuts', 1], ['banner', 1], ['cannabis', 1], ['glow', 1], ['dolphins', 1], ['wheelbarrow', 1], ['chenille', 1], ['shaggy', 1], ['relax', 1], ['waste', 1], ['carpet', 1], ['condiment', 1], ['hilda', 1], ['congratulations', 1], ['drawstring', 1], ['hare', 1], ['gordon', 1], ['overcrowded', 1], ['pool', 1], ['sisters', 1], ['citrus', 1], ['beetles', 1], ['lighthouse', 1], ['crusoe', 1], ['vegetables', 1], ['flore', 1], ['ridge', 1], ['multicol', 1], ['blond', 1], ['aqua', 1], ['song', 1], ['chains', 1], ['shapes', 1], ['farmyard', 1], ['savannah', 1], ['barn', 1], ['oyster', 1], ['flames', 1], ['lenses', 1], ['support', 1], ['sphere', 1], ['rectangular', 1], ['shelving', 1], ['briar', 1], ['roman', 1], ['bazaar', 1], ['tranquility', 1], ['shells', 1], ['buddha', 1], ['head', 1], ['pet', 1], ['goldfish', 1], ['tiny', 1], ['windchime', 1], ['pom', 1], ['hopper', 1], ['scrubbing', 1], ['jelly', 1], ['meadow', 1], ['transport', 1], ['giraffe', 1], ['revolver', 1], ['ticket', 1], ['dotcomgiftshop', 1], ['berries', 1], ['scallop', 1], ['starfish', 1], ['dad', 1], ['heavens', 1], ['fragrance', 1], ['oils', 1], ['flame', 1], ['allium', 1], ['occupied', 1], ['vacant', 1], ['gymkhanna', 1], ['abc', 1], ['pastry', 1], ['frost', 1], ['mother', 1], ['corer', 1], ['lives', 1], ['opener', 1], ['guitar', 1], ['ol', 1], ['splodges', 1], ['hole', 1], ['punch', 1], ['bonbons', 1], ['doors', 1], ['gems', 1], ['bad', 1], ['geometric', 1], ['sanskrit', 1], ['wallhanging', 1], ['turquois', 1], ['glasses', 1], ['closed', 1], ['pancake', 1], ['grocery', 1], ['knickerbockerglory', 1], ['lucky', 1], ['mummy', 1], ['hibiscus', 1], ['nativity', 1], ['goldie', 1], ['hurricane', 1], ['opal', 1], ['hardman', 1], ['chests', 1], ['bubble', 1], ['gum', 1], ['pads', 1], ['match', 1], ['georgian', 1], ['barrel', 1], ['antoienett', 1], ['miniature', 1], ['gel', 1], ['wht', 1], ['crystals', 1], ['cote', 1], ['azure', 1], ['tropez', 1], ['maxwell', 1], ['tone', 1], ['page', 1], ['laser', 1], ['tongs', 1], ['come', 1], ['cinderella', 1], ['miniture', 1], ['patterns', 1], ['sequin', 1], ['studded', 1], ['sizes', 1], ['spliff', 1], ['note', 1], ['supplies', 1], ['montan', 1], ['gerden', 1], ['housework', 1], ['stiletto', 1], ['flowr', 1], ['capiz', 1], ['quartz', 1], ['braclet', 1], ['ollie', 1], ['beak', 1], ['halloween', 1], ['ghost', 1], ['snowflakes', 1], ['hold', 1], ['bubblegum', 1], ['dolphin', 1], ['wish', 1], ['meter', 1], ['perfume', 1], ['elixir', 1], ['transparent', 1], ['swords', 1], ['reto', 1], ['madeline', 1], ['mark', 1], ['hens', 1], ['cracker', 1], ['packing', 1], ['charge', 1], ['brass', 1], ['articulated', 1], ['suck', 1], ['bili', 1], ['nut', 1], ['poster', 1], ['branch', 1], ['oriental', 1], ['frill', 1], ['adult', 1], ['sex', 1], ['bubbles', 1], ['patchwork', 1], ['dotcom', 1], ['belle', 1], ['jardiniere', 1], ['poste', 1], ['france', 1], ['foot', 1], ['bonheur', 1], ['sweeet', 1], ['pants', 1], ['spatula', 1], ['whisk', 1], ['metalic', 1], ['toilette', 1], ['chambre', 1], ['jubilee', 1], ['rebecca', 1], ['sally', 1], ['rachel', 1], ['susie', 1], ['peridot', 1], ['sophie', 1], ['claire', 1], ['blk', 1], ['whit', 1], ['trellistriple', 1], ['fields', 1], ['haven', 1], ['century', 1], ['work', 1], ['play', 1], ['feeding', 1], ['station', 1], ['safety', 1], ['metre', 1], ['maids', 1], ['ingrid', 1], ['carrier', 1], ['helga', 1], ['heidi', 1], ['high', 1], ['resolution', 1], ['image', 1], ['bridge', 1], ['covent', 1], ['oxford', 1], ['baker', 1], ['notting', 1], ['hill', 1], ['camden', 1], ['town', 1], ['mushrooms', 1], ['gardens', 1], ['miror', 1], ['decrotivevintage', 1], ['pick', 1], ['portraits', 1], ['naughts', 1], ['crosses', 1], ['tradtional', 1], ['blueberry', 1], ['fondant', 1], ['chrome', 1], ['sil', 1], ['squ', 1], ['crome', 1], ['czech', 1], ['cross', 1], ['puncture', 1], ['country', 1], ['perfectly', 1], ['birdie', 1]]\n",
      "Figure(700x2500) Axes(0.125,0.11;0.775x0.77)\n"
     ]
    },
    {
     "data": {
      "image/png": "[encoded data removed]",
      "text/plain": [
       "<Figure size 700x2500 with 1 Axes>"
      ]
     },
     "metadata": {},
     "output_type": "display_data"
    }
   ],
   "source": [
    "list_of_products = []\n",
    "for k, v in count_keywords.items():\n",
    "    list_of_products.append([keywords_select[k], v])\n",
    "list_of_products.sort(key= lambda x : x[1], reverse=True)\n",
    "print(list_of_products)\n",
    "\n",
    "sorted_list = sorted(list_of_products, key= lambda x: x[1], reverse=True)\n",
    "\n",
    "plt.rc(\"font\", weight=\"normal\")\n",
    "fig, axis = plt.subplots(figsize=(7, 25))\n",
    "print(fig, axis)\n",
    "\n",
    "y_axis = [i[1] for i in sorted_list[ : 120]]\n",
    "\n",
    "x_axis = [k for k, v in enumerate(sorted_list[: 120])]\n",
    "\n",
    "x_label = [i[0] for i in sorted_list[ : 120]]\n",
    "\n",
    "plt.xticks(fontsize=15)\n",
    "plt.yticks(fontsize=13)\n",
    "\n",
    "plt.yticks(x_axis, x_label)\n",
    "plt.xlabel(\"Number of occurences\", fontsize=15, labelpad=10)\n",
    "\n",
    "axis.barh(x_axis, y_axis, align=\"center\")\n",
    "axis = plt.gca()\n",
    "axis.invert_yaxis()\n",
    "plt.title(\"Words Occurence\", bbox = {\"facecolor\" : \"k\", \"pad\" : 5}, color=\"b\", fontsize=25)\n",
    "plt.show()"
   ]
  },
  {
   "cell_type": "markdown",
   "metadata": {},
   "source": []
  }
 ],
 "metadata": {
  "kernelspec": {
   "display_name": "Python 3",
   "language": "python",
   "name": "python3"
  },
  "language_info": {
   "codemirror_mode": {
    "name": "ipython",
    "version": 3
   },
   "file_extension": ".py",
   "mimetype": "text/x-python",
   "name": "python",
   "nbconvert_exporter": "python",
   "pygments_lexer": "ipython3",
   "version": "3.11.4"
  }
 },
 "nbformat": 4,
 "nbformat_minor": 2
}
